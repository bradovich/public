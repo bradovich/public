{
 "cells": [
  {
   "cell_type": "code",
   "execution_count": 1,
   "metadata": {},
   "outputs": [],
   "source": [
    "# Import libraries.\n",
    "import pickle\n",
    "\n",
    "import matplotlib.pyplot as plt\n",
    "import numpy as np\n",
    "import pandas as pd\n",
    "from sklearn.ensemble import RandomForestClassifier\n",
    "from sklearn.linear_model import LogisticRegression\n",
    "from sklearn.metrics import confusion_matrix, plot_confusion_matrix, plot_roc_curve, roc_auc_score\n",
    "from sklearn.model_selection import train_test_split\n",
    "from sklearn.preprocessing import MinMaxScaler"
   ]
  },
  {
   "cell_type": "markdown",
   "metadata": {},
   "source": [
    "# GOAL: Create a machine learning model to accurately detect fraudulent credit card transactions."
   ]
  },
  {
   "cell_type": "markdown",
   "metadata": {},
   "source": [
    "<b>Dataset citations:</b>\n",
    "\n",
    "\n",
    "Andrea Dal Pozzolo, Olivier Caelen, Reid A. Johnson and Gianluca Bontempi. Calibrating Probability with Undersampling for Unbalanced Classification. In Symposium on Computational Intelligence and Data Mining (CIDM), IEEE, 2015\n",
    "\n",
    "Dal Pozzolo, Andrea; Caelen, Olivier; Le Borgne, Yann-Ael; Waterschoot, Serge; Bontempi, Gianluca. Learned lessons in credit card fraud detection from a practitioner perspective, Expert systems with applications,41,10,4915-4928,2014, Pergamon\n",
    "\n",
    "Dal Pozzolo, Andrea; Boracchi, Giacomo; Caelen, Olivier; Alippi, Cesare; Bontempi, Gianluca. Credit card fraud detection: a realistic modeling and a novel learning strategy, IEEE transactions on neural networks and learning systems,29,8,3784-3797,2018,IEEE\n",
    "\n",
    "Dal Pozzolo, Andrea Adaptive Machine learning for credit card fraud detection ULB MLG PhD thesis (supervised by G. Bontempi)\n",
    "\n",
    "Carcillo, Fabrizio; Dal Pozzolo, Andrea; Le Borgne, Yann-Aël; Caelen, Olivier; Mazzer, Yannis; Bontempi, Gianluca. Scarff: a scalable framework for streaming credit card fraud detection with Spark, Information fusion,41, 182-194,2018,Elsevier\n",
    "\n",
    "Carcillo, Fabrizio; Le Borgne, Yann-Aël; Caelen, Olivier; Bontempi, Gianluca. Streaming active learning strategies for real-life credit card fraud detection: assessment and visualization, International Journal of Data Science and Analytics, 5,4,285-300,2018,Springer International Publishing\n",
    "\n",
    "Bertrand Lebichot, Yann-Aël Le Borgne, Liyun He, Frederic Oblé, Gianluca Bontempi Deep-Learning Domain Adaptation Techniques for Credit Cards Fraud Detection, INNSBDDL 2019: Recent Advances in Big Data and Deep Learning, pp 78-88, 2019\n",
    "\n",
    "Fabrizio Carcillo, Yann-Aël Le Borgne, Olivier Caelen, Frederic Oblé, Gianluca Bontempi Combining Unsupervised and Supervised Learning in Credit Card Fraud Detection Information Sciences, 2019\n",
    "\n",
    "Yann-Aël Le Borgne, Gianluca Bontempi Machine Learning for Credit Card Fraud Detection - Practical Handbook"
   ]
  },
  {
   "cell_type": "code",
   "execution_count": 2,
   "metadata": {},
   "outputs": [],
   "source": [
    "# Load dataset. Source: https://www.kaggle.com/mlg-ulb/creditcardfraud\n",
    "df = pd.read_csv(\"creditcard.csv\")"
   ]
  },
  {
   "cell_type": "code",
   "execution_count": 3,
   "metadata": {},
   "outputs": [
    {
     "data": {
      "text/html": [
       "<div>\n",
       "<style scoped>\n",
       "    .dataframe tbody tr th:only-of-type {\n",
       "        vertical-align: middle;\n",
       "    }\n",
       "\n",
       "    .dataframe tbody tr th {\n",
       "        vertical-align: top;\n",
       "    }\n",
       "\n",
       "    .dataframe thead th {\n",
       "        text-align: right;\n",
       "    }\n",
       "</style>\n",
       "<table border=\"1\" class=\"dataframe\">\n",
       "  <thead>\n",
       "    <tr style=\"text-align: right;\">\n",
       "      <th></th>\n",
       "      <th>Time</th>\n",
       "      <th>V1</th>\n",
       "      <th>V2</th>\n",
       "      <th>V3</th>\n",
       "      <th>V4</th>\n",
       "      <th>V5</th>\n",
       "      <th>V6</th>\n",
       "      <th>V7</th>\n",
       "      <th>V8</th>\n",
       "      <th>V9</th>\n",
       "      <th>...</th>\n",
       "      <th>V21</th>\n",
       "      <th>V22</th>\n",
       "      <th>V23</th>\n",
       "      <th>V24</th>\n",
       "      <th>V25</th>\n",
       "      <th>V26</th>\n",
       "      <th>V27</th>\n",
       "      <th>V28</th>\n",
       "      <th>Amount</th>\n",
       "      <th>Class</th>\n",
       "    </tr>\n",
       "  </thead>\n",
       "  <tbody>\n",
       "    <tr>\n",
       "      <th>0</th>\n",
       "      <td>0.0</td>\n",
       "      <td>-1.359807</td>\n",
       "      <td>-0.072781</td>\n",
       "      <td>2.536347</td>\n",
       "      <td>1.378155</td>\n",
       "      <td>-0.338321</td>\n",
       "      <td>0.462388</td>\n",
       "      <td>0.239599</td>\n",
       "      <td>0.098698</td>\n",
       "      <td>0.363787</td>\n",
       "      <td>...</td>\n",
       "      <td>-0.018307</td>\n",
       "      <td>0.277838</td>\n",
       "      <td>-0.110474</td>\n",
       "      <td>0.066928</td>\n",
       "      <td>0.128539</td>\n",
       "      <td>-0.189115</td>\n",
       "      <td>0.133558</td>\n",
       "      <td>-0.021053</td>\n",
       "      <td>149.62</td>\n",
       "      <td>0</td>\n",
       "    </tr>\n",
       "    <tr>\n",
       "      <th>1</th>\n",
       "      <td>0.0</td>\n",
       "      <td>1.191857</td>\n",
       "      <td>0.266151</td>\n",
       "      <td>0.166480</td>\n",
       "      <td>0.448154</td>\n",
       "      <td>0.060018</td>\n",
       "      <td>-0.082361</td>\n",
       "      <td>-0.078803</td>\n",
       "      <td>0.085102</td>\n",
       "      <td>-0.255425</td>\n",
       "      <td>...</td>\n",
       "      <td>-0.225775</td>\n",
       "      <td>-0.638672</td>\n",
       "      <td>0.101288</td>\n",
       "      <td>-0.339846</td>\n",
       "      <td>0.167170</td>\n",
       "      <td>0.125895</td>\n",
       "      <td>-0.008983</td>\n",
       "      <td>0.014724</td>\n",
       "      <td>2.69</td>\n",
       "      <td>0</td>\n",
       "    </tr>\n",
       "    <tr>\n",
       "      <th>2</th>\n",
       "      <td>1.0</td>\n",
       "      <td>-1.358354</td>\n",
       "      <td>-1.340163</td>\n",
       "      <td>1.773209</td>\n",
       "      <td>0.379780</td>\n",
       "      <td>-0.503198</td>\n",
       "      <td>1.800499</td>\n",
       "      <td>0.791461</td>\n",
       "      <td>0.247676</td>\n",
       "      <td>-1.514654</td>\n",
       "      <td>...</td>\n",
       "      <td>0.247998</td>\n",
       "      <td>0.771679</td>\n",
       "      <td>0.909412</td>\n",
       "      <td>-0.689281</td>\n",
       "      <td>-0.327642</td>\n",
       "      <td>-0.139097</td>\n",
       "      <td>-0.055353</td>\n",
       "      <td>-0.059752</td>\n",
       "      <td>378.66</td>\n",
       "      <td>0</td>\n",
       "    </tr>\n",
       "    <tr>\n",
       "      <th>3</th>\n",
       "      <td>1.0</td>\n",
       "      <td>-0.966272</td>\n",
       "      <td>-0.185226</td>\n",
       "      <td>1.792993</td>\n",
       "      <td>-0.863291</td>\n",
       "      <td>-0.010309</td>\n",
       "      <td>1.247203</td>\n",
       "      <td>0.237609</td>\n",
       "      <td>0.377436</td>\n",
       "      <td>-1.387024</td>\n",
       "      <td>...</td>\n",
       "      <td>-0.108300</td>\n",
       "      <td>0.005274</td>\n",
       "      <td>-0.190321</td>\n",
       "      <td>-1.175575</td>\n",
       "      <td>0.647376</td>\n",
       "      <td>-0.221929</td>\n",
       "      <td>0.062723</td>\n",
       "      <td>0.061458</td>\n",
       "      <td>123.50</td>\n",
       "      <td>0</td>\n",
       "    </tr>\n",
       "    <tr>\n",
       "      <th>4</th>\n",
       "      <td>2.0</td>\n",
       "      <td>-1.158233</td>\n",
       "      <td>0.877737</td>\n",
       "      <td>1.548718</td>\n",
       "      <td>0.403034</td>\n",
       "      <td>-0.407193</td>\n",
       "      <td>0.095921</td>\n",
       "      <td>0.592941</td>\n",
       "      <td>-0.270533</td>\n",
       "      <td>0.817739</td>\n",
       "      <td>...</td>\n",
       "      <td>-0.009431</td>\n",
       "      <td>0.798278</td>\n",
       "      <td>-0.137458</td>\n",
       "      <td>0.141267</td>\n",
       "      <td>-0.206010</td>\n",
       "      <td>0.502292</td>\n",
       "      <td>0.219422</td>\n",
       "      <td>0.215153</td>\n",
       "      <td>69.99</td>\n",
       "      <td>0</td>\n",
       "    </tr>\n",
       "    <tr>\n",
       "      <th>5</th>\n",
       "      <td>2.0</td>\n",
       "      <td>-0.425966</td>\n",
       "      <td>0.960523</td>\n",
       "      <td>1.141109</td>\n",
       "      <td>-0.168252</td>\n",
       "      <td>0.420987</td>\n",
       "      <td>-0.029728</td>\n",
       "      <td>0.476201</td>\n",
       "      <td>0.260314</td>\n",
       "      <td>-0.568671</td>\n",
       "      <td>...</td>\n",
       "      <td>-0.208254</td>\n",
       "      <td>-0.559825</td>\n",
       "      <td>-0.026398</td>\n",
       "      <td>-0.371427</td>\n",
       "      <td>-0.232794</td>\n",
       "      <td>0.105915</td>\n",
       "      <td>0.253844</td>\n",
       "      <td>0.081080</td>\n",
       "      <td>3.67</td>\n",
       "      <td>0</td>\n",
       "    </tr>\n",
       "    <tr>\n",
       "      <th>6</th>\n",
       "      <td>4.0</td>\n",
       "      <td>1.229658</td>\n",
       "      <td>0.141004</td>\n",
       "      <td>0.045371</td>\n",
       "      <td>1.202613</td>\n",
       "      <td>0.191881</td>\n",
       "      <td>0.272708</td>\n",
       "      <td>-0.005159</td>\n",
       "      <td>0.081213</td>\n",
       "      <td>0.464960</td>\n",
       "      <td>...</td>\n",
       "      <td>-0.167716</td>\n",
       "      <td>-0.270710</td>\n",
       "      <td>-0.154104</td>\n",
       "      <td>-0.780055</td>\n",
       "      <td>0.750137</td>\n",
       "      <td>-0.257237</td>\n",
       "      <td>0.034507</td>\n",
       "      <td>0.005168</td>\n",
       "      <td>4.99</td>\n",
       "      <td>0</td>\n",
       "    </tr>\n",
       "    <tr>\n",
       "      <th>7</th>\n",
       "      <td>7.0</td>\n",
       "      <td>-0.644269</td>\n",
       "      <td>1.417964</td>\n",
       "      <td>1.074380</td>\n",
       "      <td>-0.492199</td>\n",
       "      <td>0.948934</td>\n",
       "      <td>0.428118</td>\n",
       "      <td>1.120631</td>\n",
       "      <td>-3.807864</td>\n",
       "      <td>0.615375</td>\n",
       "      <td>...</td>\n",
       "      <td>1.943465</td>\n",
       "      <td>-1.015455</td>\n",
       "      <td>0.057504</td>\n",
       "      <td>-0.649709</td>\n",
       "      <td>-0.415267</td>\n",
       "      <td>-0.051634</td>\n",
       "      <td>-1.206921</td>\n",
       "      <td>-1.085339</td>\n",
       "      <td>40.80</td>\n",
       "      <td>0</td>\n",
       "    </tr>\n",
       "    <tr>\n",
       "      <th>8</th>\n",
       "      <td>7.0</td>\n",
       "      <td>-0.894286</td>\n",
       "      <td>0.286157</td>\n",
       "      <td>-0.113192</td>\n",
       "      <td>-0.271526</td>\n",
       "      <td>2.669599</td>\n",
       "      <td>3.721818</td>\n",
       "      <td>0.370145</td>\n",
       "      <td>0.851084</td>\n",
       "      <td>-0.392048</td>\n",
       "      <td>...</td>\n",
       "      <td>-0.073425</td>\n",
       "      <td>-0.268092</td>\n",
       "      <td>-0.204233</td>\n",
       "      <td>1.011592</td>\n",
       "      <td>0.373205</td>\n",
       "      <td>-0.384157</td>\n",
       "      <td>0.011747</td>\n",
       "      <td>0.142404</td>\n",
       "      <td>93.20</td>\n",
       "      <td>0</td>\n",
       "    </tr>\n",
       "    <tr>\n",
       "      <th>9</th>\n",
       "      <td>9.0</td>\n",
       "      <td>-0.338262</td>\n",
       "      <td>1.119593</td>\n",
       "      <td>1.044367</td>\n",
       "      <td>-0.222187</td>\n",
       "      <td>0.499361</td>\n",
       "      <td>-0.246761</td>\n",
       "      <td>0.651583</td>\n",
       "      <td>0.069539</td>\n",
       "      <td>-0.736727</td>\n",
       "      <td>...</td>\n",
       "      <td>-0.246914</td>\n",
       "      <td>-0.633753</td>\n",
       "      <td>-0.120794</td>\n",
       "      <td>-0.385050</td>\n",
       "      <td>-0.069733</td>\n",
       "      <td>0.094199</td>\n",
       "      <td>0.246219</td>\n",
       "      <td>0.083076</td>\n",
       "      <td>3.68</td>\n",
       "      <td>0</td>\n",
       "    </tr>\n",
       "  </tbody>\n",
       "</table>\n",
       "<p>10 rows × 31 columns</p>\n",
       "</div>"
      ],
      "text/plain": [
       "   Time        V1        V2        V3        V4        V5        V6        V7  \\\n",
       "0   0.0 -1.359807 -0.072781  2.536347  1.378155 -0.338321  0.462388  0.239599   \n",
       "1   0.0  1.191857  0.266151  0.166480  0.448154  0.060018 -0.082361 -0.078803   \n",
       "2   1.0 -1.358354 -1.340163  1.773209  0.379780 -0.503198  1.800499  0.791461   \n",
       "3   1.0 -0.966272 -0.185226  1.792993 -0.863291 -0.010309  1.247203  0.237609   \n",
       "4   2.0 -1.158233  0.877737  1.548718  0.403034 -0.407193  0.095921  0.592941   \n",
       "5   2.0 -0.425966  0.960523  1.141109 -0.168252  0.420987 -0.029728  0.476201   \n",
       "6   4.0  1.229658  0.141004  0.045371  1.202613  0.191881  0.272708 -0.005159   \n",
       "7   7.0 -0.644269  1.417964  1.074380 -0.492199  0.948934  0.428118  1.120631   \n",
       "8   7.0 -0.894286  0.286157 -0.113192 -0.271526  2.669599  3.721818  0.370145   \n",
       "9   9.0 -0.338262  1.119593  1.044367 -0.222187  0.499361 -0.246761  0.651583   \n",
       "\n",
       "         V8        V9  ...       V21       V22       V23       V24       V25  \\\n",
       "0  0.098698  0.363787  ... -0.018307  0.277838 -0.110474  0.066928  0.128539   \n",
       "1  0.085102 -0.255425  ... -0.225775 -0.638672  0.101288 -0.339846  0.167170   \n",
       "2  0.247676 -1.514654  ...  0.247998  0.771679  0.909412 -0.689281 -0.327642   \n",
       "3  0.377436 -1.387024  ... -0.108300  0.005274 -0.190321 -1.175575  0.647376   \n",
       "4 -0.270533  0.817739  ... -0.009431  0.798278 -0.137458  0.141267 -0.206010   \n",
       "5  0.260314 -0.568671  ... -0.208254 -0.559825 -0.026398 -0.371427 -0.232794   \n",
       "6  0.081213  0.464960  ... -0.167716 -0.270710 -0.154104 -0.780055  0.750137   \n",
       "7 -3.807864  0.615375  ...  1.943465 -1.015455  0.057504 -0.649709 -0.415267   \n",
       "8  0.851084 -0.392048  ... -0.073425 -0.268092 -0.204233  1.011592  0.373205   \n",
       "9  0.069539 -0.736727  ... -0.246914 -0.633753 -0.120794 -0.385050 -0.069733   \n",
       "\n",
       "        V26       V27       V28  Amount  Class  \n",
       "0 -0.189115  0.133558 -0.021053  149.62      0  \n",
       "1  0.125895 -0.008983  0.014724    2.69      0  \n",
       "2 -0.139097 -0.055353 -0.059752  378.66      0  \n",
       "3 -0.221929  0.062723  0.061458  123.50      0  \n",
       "4  0.502292  0.219422  0.215153   69.99      0  \n",
       "5  0.105915  0.253844  0.081080    3.67      0  \n",
       "6 -0.257237  0.034507  0.005168    4.99      0  \n",
       "7 -0.051634 -1.206921 -1.085339   40.80      0  \n",
       "8 -0.384157  0.011747  0.142404   93.20      0  \n",
       "9  0.094199  0.246219  0.083076    3.68      0  \n",
       "\n",
       "[10 rows x 31 columns]"
      ]
     },
     "execution_count": 3,
     "metadata": {},
     "output_type": "execute_result"
    }
   ],
   "source": [
    "# Preview data.\n",
    "# Elements V1-V28 are abstract variables obtained from the dataset originators using PCA to protect card user data.\n",
    "df.head(10)"
   ]
  },
  {
   "cell_type": "code",
   "execution_count": 4,
   "metadata": {},
   "outputs": [
    {
     "name": "stdout",
     "output_type": "stream",
     "text": [
      "Rows before: 284807\n",
      "Rows after: 284807\n"
     ]
    }
   ],
   "source": [
    "# Perform dropna to see if any rows with NA values exist.\n",
    "count_1_pd = df.shape[0]\n",
    "df = df.dropna()\n",
    "count_2_pd = df.shape[0]\n",
    "print('Rows before: {}'.format(count_1_pd))\n",
    "print('Rows after: {}'.format(count_2_pd))"
   ]
  },
  {
   "cell_type": "code",
   "execution_count": 5,
   "metadata": {},
   "outputs": [],
   "source": [
    "# Drop time column as it was identified by other Kaggle users to be unimportant.\n",
    "# Split the data into train and test datasets.\n",
    "df = df.drop(columns=['Time'])\n",
    "X = df.drop(columns=['Class'])\n",
    "y = df['Class']\n",
    "X_train, X_test, y_train, y_test = train_test_split(\n",
    "    X, y, test_size=0.3, random_state=12345)"
   ]
  },
  {
   "cell_type": "code",
   "execution_count": 6,
   "metadata": {},
   "outputs": [
    {
     "data": {
      "text/html": [
       "<div>\n",
       "<style scoped>\n",
       "    .dataframe tbody tr th:only-of-type {\n",
       "        vertical-align: middle;\n",
       "    }\n",
       "\n",
       "    .dataframe tbody tr th {\n",
       "        vertical-align: top;\n",
       "    }\n",
       "\n",
       "    .dataframe thead th {\n",
       "        text-align: right;\n",
       "    }\n",
       "</style>\n",
       "<table border=\"1\" class=\"dataframe\">\n",
       "  <thead>\n",
       "    <tr style=\"text-align: right;\">\n",
       "      <th></th>\n",
       "      <th>0</th>\n",
       "      <th>1</th>\n",
       "      <th>2</th>\n",
       "      <th>3</th>\n",
       "      <th>4</th>\n",
       "      <th>5</th>\n",
       "      <th>6</th>\n",
       "      <th>7</th>\n",
       "      <th>8</th>\n",
       "      <th>9</th>\n",
       "      <th>...</th>\n",
       "      <th>19</th>\n",
       "      <th>20</th>\n",
       "      <th>21</th>\n",
       "      <th>22</th>\n",
       "      <th>23</th>\n",
       "      <th>24</th>\n",
       "      <th>25</th>\n",
       "      <th>26</th>\n",
       "      <th>27</th>\n",
       "      <th>28</th>\n",
       "    </tr>\n",
       "  </thead>\n",
       "  <tbody>\n",
       "    <tr>\n",
       "      <th>0</th>\n",
       "      <td>0.990566</td>\n",
       "      <td>0.738520</td>\n",
       "      <td>0.818409</td>\n",
       "      <td>0.263825</td>\n",
       "      <td>0.784478</td>\n",
       "      <td>0.225160</td>\n",
       "      <td>0.263913</td>\n",
       "      <td>0.785551</td>\n",
       "      <td>0.479178</td>\n",
       "      <td>0.513623</td>\n",
       "      <td>...</td>\n",
       "      <td>0.579150</td>\n",
       "      <td>0.561422</td>\n",
       "      <td>0.512423</td>\n",
       "      <td>0.667953</td>\n",
       "      <td>0.423023</td>\n",
       "      <td>0.569552</td>\n",
       "      <td>0.457684</td>\n",
       "      <td>0.415583</td>\n",
       "      <td>0.404025</td>\n",
       "      <td>0.000971</td>\n",
       "    </tr>\n",
       "    <tr>\n",
       "      <th>1</th>\n",
       "      <td>0.992124</td>\n",
       "      <td>0.734115</td>\n",
       "      <td>0.824143</td>\n",
       "      <td>0.180661</td>\n",
       "      <td>0.778982</td>\n",
       "      <td>0.216916</td>\n",
       "      <td>0.261954</td>\n",
       "      <td>0.784485</td>\n",
       "      <td>0.533672</td>\n",
       "      <td>0.489064</td>\n",
       "      <td>...</td>\n",
       "      <td>0.578701</td>\n",
       "      <td>0.559213</td>\n",
       "      <td>0.498536</td>\n",
       "      <td>0.671060</td>\n",
       "      <td>0.467688</td>\n",
       "      <td>0.555398</td>\n",
       "      <td>0.335322</td>\n",
       "      <td>0.417041</td>\n",
       "      <td>0.404722</td>\n",
       "      <td>0.000284</td>\n",
       "    </tr>\n",
       "    <tr>\n",
       "      <th>2</th>\n",
       "      <td>0.971878</td>\n",
       "      <td>0.745002</td>\n",
       "      <td>0.835608</td>\n",
       "      <td>0.294948</td>\n",
       "      <td>0.787897</td>\n",
       "      <td>0.231587</td>\n",
       "      <td>0.266577</td>\n",
       "      <td>0.787974</td>\n",
       "      <td>0.453472</td>\n",
       "      <td>0.505896</td>\n",
       "      <td>...</td>\n",
       "      <td>0.576813</td>\n",
       "      <td>0.563736</td>\n",
       "      <td>0.537862</td>\n",
       "      <td>0.665833</td>\n",
       "      <td>0.297028</td>\n",
       "      <td>0.605063</td>\n",
       "      <td>0.394916</td>\n",
       "      <td>0.417654</td>\n",
       "      <td>0.405486</td>\n",
       "      <td>0.000039</td>\n",
       "    </tr>\n",
       "    <tr>\n",
       "      <th>3</th>\n",
       "      <td>0.966123</td>\n",
       "      <td>0.726624</td>\n",
       "      <td>0.862393</td>\n",
       "      <td>0.295045</td>\n",
       "      <td>0.773304</td>\n",
       "      <td>0.238917</td>\n",
       "      <td>0.257815</td>\n",
       "      <td>0.791144</td>\n",
       "      <td>0.526093</td>\n",
       "      <td>0.500325</td>\n",
       "      <td>...</td>\n",
       "      <td>0.582948</td>\n",
       "      <td>0.563909</td>\n",
       "      <td>0.533747</td>\n",
       "      <td>0.659696</td>\n",
       "      <td>0.328369</td>\n",
       "      <td>0.600709</td>\n",
       "      <td>0.545207</td>\n",
       "      <td>0.416872</td>\n",
       "      <td>0.406580</td>\n",
       "      <td>0.007255</td>\n",
       "    </tr>\n",
       "    <tr>\n",
       "      <th>4</th>\n",
       "      <td>0.943797</td>\n",
       "      <td>0.748094</td>\n",
       "      <td>0.859731</td>\n",
       "      <td>0.255723</td>\n",
       "      <td>0.783407</td>\n",
       "      <td>0.225609</td>\n",
       "      <td>0.270150</td>\n",
       "      <td>0.785349</td>\n",
       "      <td>0.461207</td>\n",
       "      <td>0.493980</td>\n",
       "      <td>...</td>\n",
       "      <td>0.581767</td>\n",
       "      <td>0.557676</td>\n",
       "      <td>0.479268</td>\n",
       "      <td>0.665452</td>\n",
       "      <td>0.322681</td>\n",
       "      <td>0.580899</td>\n",
       "      <td>0.456323</td>\n",
       "      <td>0.416248</td>\n",
       "      <td>0.406041</td>\n",
       "      <td>0.003114</td>\n",
       "    </tr>\n",
       "  </tbody>\n",
       "</table>\n",
       "<p>5 rows × 29 columns</p>\n",
       "</div>"
      ],
      "text/plain": [
       "         0         1         2         3         4         5         6   \\\n",
       "0  0.990566  0.738520  0.818409  0.263825  0.784478  0.225160  0.263913   \n",
       "1  0.992124  0.734115  0.824143  0.180661  0.778982  0.216916  0.261954   \n",
       "2  0.971878  0.745002  0.835608  0.294948  0.787897  0.231587  0.266577   \n",
       "3  0.966123  0.726624  0.862393  0.295045  0.773304  0.238917  0.257815   \n",
       "4  0.943797  0.748094  0.859731  0.255723  0.783407  0.225609  0.270150   \n",
       "\n",
       "         7         8         9   ...        19        20        21        22  \\\n",
       "0  0.785551  0.479178  0.513623  ...  0.579150  0.561422  0.512423  0.667953   \n",
       "1  0.784485  0.533672  0.489064  ...  0.578701  0.559213  0.498536  0.671060   \n",
       "2  0.787974  0.453472  0.505896  ...  0.576813  0.563736  0.537862  0.665833   \n",
       "3  0.791144  0.526093  0.500325  ...  0.582948  0.563909  0.533747  0.659696   \n",
       "4  0.785349  0.461207  0.493980  ...  0.581767  0.557676  0.479268  0.665452   \n",
       "\n",
       "         23        24        25        26        27        28  \n",
       "0  0.423023  0.569552  0.457684  0.415583  0.404025  0.000971  \n",
       "1  0.467688  0.555398  0.335322  0.417041  0.404722  0.000284  \n",
       "2  0.297028  0.605063  0.394916  0.417654  0.405486  0.000039  \n",
       "3  0.328369  0.600709  0.545207  0.416872  0.406580  0.007255  \n",
       "4  0.322681  0.580899  0.456323  0.416248  0.406041  0.003114  \n",
       "\n",
       "[5 rows x 29 columns]"
      ]
     },
     "execution_count": 6,
     "metadata": {},
     "output_type": "execute_result"
    }
   ],
   "source": [
    "# Scale the numeric data in X_train.\n",
    "scaler = MinMaxScaler()\n",
    "X_train = pd.DataFrame(scaler.fit_transform(X_train))\n",
    "# Preview scaled X_train.\n",
    "X_train.head()"
   ]
  },
  {
   "cell_type": "code",
   "execution_count": 7,
   "metadata": {},
   "outputs": [],
   "source": [
    "# Save scaler model for later use on test data.\n",
    "pickle.dump(scaler, open(\"scaler.pkl\", 'wb'))"
   ]
  },
  {
   "cell_type": "code",
   "execution_count": 8,
   "metadata": {},
   "outputs": [],
   "source": [
    "# Fit model 1 - Logistic Regression.\n",
    "model_logistic_regression = LogisticRegression(random_state=12345, max_iter=10000).fit(X_train, y_train)"
   ]
  },
  {
   "cell_type": "code",
   "execution_count": 9,
   "metadata": {},
   "outputs": [],
   "source": [
    "# Reload MinMaxScaler and apply to test data.\n",
    "scalerObj = pickle.load(open(\"scaler.pkl\", 'rb'))\n",
    "X_test = pd.DataFrame(scalerObj.transform(X_test))"
   ]
  },
  {
   "cell_type": "code",
   "execution_count": 10,
   "metadata": {},
   "outputs": [
    {
     "data": {
      "text/plain": [
       "0.9990285921608558"
      ]
     },
     "execution_count": 10,
     "metadata": {},
     "output_type": "execute_result"
    }
   ],
   "source": [
    "# Evaluate the logistic regression model accuracy on test data.\n",
    "model_logistic_regression.score(X_test, y_test)"
   ]
  },
  {
   "cell_type": "code",
   "execution_count": 11,
   "metadata": {},
   "outputs": [
    {
     "name": "stdout",
     "output_type": "stream",
     "text": [
      "[[85286    12]\n",
      " [   71    74]]\n"
     ]
    }
   ],
   "source": [
    "# Get predicted labels.\n",
    "y_pred_logistic_regression = model_logistic_regression.predict(X_test)\n",
    "# Get confusion matrix.\n",
    "cf_logistic_regression = confusion_matrix(y_test, y_pred_logistic_regression)\n",
    "print(cf_logistic_regression)"
   ]
  },
  {
   "cell_type": "code",
   "execution_count": 12,
   "metadata": {},
   "outputs": [
    {
     "name": "stdout",
     "output_type": "stream",
     "text": [
      "True positive: 85286\n",
      "True negative: 74\n",
      "False positive/Type I error: 71\n",
      "False negative/Type II error: 12\n",
      "Sensitivity: 0.9998593167483412\n",
      "Specificity: 0.5103448275862069\n",
      "Precision: 0.9991681994446853\n",
      "Negative predictive value: 0.8604651162790697\n",
      "False positive rate: 0.00014068325165883522\n",
      "False negative rate: 0.4896551724137931\n",
      "Accuracy: 0.9990285921608558\n"
     ]
    }
   ],
   "source": [
    "# Show confusion matrix derivations.\n",
    "print(\"True positive: {}\".format(cf_logistic_regression[0][0]))\n",
    "print(\"True negative: {}\".format(cf_logistic_regression[1][1]))\n",
    "print(\"False positive/Type I error: {}\".format(cf_logistic_regression[1][0]))\n",
    "print(\"False negative/Type II error: {}\".format(cf_logistic_regression[0][1]))\n",
    "print(\"Sensitivity: {}\".format(cf_logistic_regression[0][0]/(cf_logistic_regression[0][0]+cf_logistic_regression[0][1])))\n",
    "print(\"Specificity: {}\".format(cf_logistic_regression[1][1]/(cf_logistic_regression[1][1]+cf_logistic_regression[1][0])))\n",
    "print(\"Precision: {}\".format(cf_logistic_regression[0][0]/(cf_logistic_regression[0][0]+cf_logistic_regression[1][0])))\n",
    "print(\"Negative predictive value: {}\".format(cf_logistic_regression[1][1]/(cf_logistic_regression[1][1]+cf_logistic_regression[0][1])))\n",
    "print(\"False positive rate: {}\".format(1 - cf_logistic_regression[0][0]/(cf_logistic_regression[0][0]+cf_logistic_regression[0][1])))\n",
    "print(\"False negative rate: {}\".format(1 - cf_logistic_regression[1][1]/(cf_logistic_regression[1][1]+cf_logistic_regression[1][0])))\n",
    "print(\"Accuracy: {}\".format((cf_logistic_regression[0][0]+cf_logistic_regression[1][1])/(cf_logistic_regression[0][0]+cf_logistic_regression[1][1]+cf_logistic_regression[1][0]+cf_logistic_regression[0][1])))"
   ]
  },
  {
   "cell_type": "code",
   "execution_count": 13,
   "metadata": {
    "scrolled": false
   },
   "outputs": [
    {
     "data": {
      "image/png": "[encoded data removed]",
      "text/plain": [
       "<Figure size 432x288 with 2 Axes>"
      ]
     },
     "metadata": {
      "needs_background": "light"
     },
     "output_type": "display_data"
    }
   ],
   "source": [
    "# Plot confusion matrix.\n",
    "plot_confusion_matrix(model_logistic_regression, X_test, y_test)\n",
    "plt.show()"
   ]
  },
  {
   "cell_type": "markdown",
   "metadata": {},
   "source": [
    "The sensitivity/recall is pretty good at 99.986%. \n",
    "\n",
    "While the model is over 99.9% accurate, the specificity is too low. About half of the fraudulent transactions were flagged as legitimate."
   ]
  },
  {
   "cell_type": "code",
   "execution_count": 14,
   "metadata": {},
   "outputs": [
    {
     "data": {
      "text/plain": [
       "RandomForestClassifier(max_depth=10, n_estimators=200, random_state=12345)"
      ]
     },
     "execution_count": 14,
     "metadata": {},
     "output_type": "execute_result"
    }
   ],
   "source": [
    "# Fit model 2 - Random Forest.\n",
    "model_random_forest = RandomForestClassifier(n_estimators=200, max_depth=10, random_state=12345)\n",
    "model_random_forest.fit(X_train, y_train)"
   ]
  },
  {
   "cell_type": "code",
   "execution_count": 15,
   "metadata": {},
   "outputs": [
    {
     "data": {
      "text/plain": [
       "0.9996137776061234"
      ]
     },
     "execution_count": 15,
     "metadata": {},
     "output_type": "execute_result"
    }
   ],
   "source": [
    "# Evaluate the Random Forest regression model accuracy on test data.\n",
    "model_random_forest.score(X_test, y_test)"
   ]
  },
  {
   "cell_type": "code",
   "execution_count": 16,
   "metadata": {},
   "outputs": [
    {
     "name": "stdout",
     "output_type": "stream",
     "text": [
      "[[85294     4]\n",
      " [   29   116]]\n"
     ]
    }
   ],
   "source": [
    "# Get predicted labels.\n",
    "y_pred_random_forest = model_random_forest.predict(X_test)\n",
    "# Get confusion matrix.\n",
    "cf_random_forest = confusion_matrix(y_test, y_pred_random_forest)\n",
    "print(cf_random_forest)"
   ]
  },
  {
   "cell_type": "code",
   "execution_count": 17,
   "metadata": {
    "scrolled": true
   },
   "outputs": [
    {
     "name": "stdout",
     "output_type": "stream",
     "text": [
      "True positive: 85294\n",
      "True negative: 116\n",
      "False positive/Type I error: 29\n",
      "False negative/Type II error: 4\n",
      "Sensitivity: 0.9999531055827804\n",
      "Specificity: 0.8\n",
      "Precision: 0.9996601150920619\n",
      "Negative predictive value: 0.9666666666666667\n",
      "False positive rate: 4.689441721961174e-05\n",
      "False negative rate: 0.19999999999999996\n",
      "Accuracy: 0.9996137776061234\n"
     ]
    }
   ],
   "source": [
    "# Show confusion matrix derivations.\n",
    "print(\"True positive: {}\".format(cf_random_forest[0][0]))\n",
    "print(\"True negative: {}\".format(cf_random_forest[1][1]))\n",
    "print(\"False positive/Type I error: {}\".format(cf_random_forest[1][0]))\n",
    "print(\"False negative/Type II error: {}\".format(cf_random_forest[0][1]))\n",
    "print(\"Sensitivity: {}\".format(cf_random_forest[0][0]/(cf_random_forest[0][0]+cf_random_forest[0][1])))\n",
    "print(\"Specificity: {}\".format(cf_random_forest[1][1]/(cf_random_forest[1][1]+cf_random_forest[1][0])))\n",
    "print(\"Precision: {}\".format(cf_random_forest[0][0]/(cf_random_forest[0][0]+cf_random_forest[1][0])))\n",
    "print(\"Negative predictive value: {}\".format(cf_random_forest[1][1]/(cf_random_forest[1][1]+cf_random_forest[0][1])))\n",
    "print(\"False positive rate: {}\".format(1 - cf_random_forest[0][0]/(cf_random_forest[0][0]+cf_random_forest[0][1])))\n",
    "print(\"False negative rate: {}\".format(1 - cf_random_forest[1][1]/(cf_random_forest[1][1]+cf_random_forest[1][0])))\n",
    "print(\"Accuracy: {}\".format((cf_random_forest[0][0]+cf_random_forest[1][1])/(cf_random_forest[0][0]+cf_random_forest[1][1]+cf_random_forest[1][0]+cf_random_forest[0][1])))"
   ]
  },
  {
   "cell_type": "code",
   "execution_count": 18,
   "metadata": {},
   "outputs": [
    {
     "data": {
      "image/png": "[encoded data removed]",
      "text/plain": [
       "<Figure size 432x288 with 2 Axes>"
      ]
     },
     "metadata": {
      "needs_background": "light"
     },
     "output_type": "display_data"
    }
   ],
   "source": [
    "# Plot confusion matrix.\n",
    "plot_confusion_matrix(model_random_forest, X_test, y_test)\n",
    "plt.show()"
   ]
  },
  {
   "cell_type": "markdown",
   "metadata": {},
   "source": [
    "Specificity for the Random Forest is at 80% - much better than the Logistic Regression.\n",
    "\n",
    "Accuracy increased from 99.902% to 99.961%.\n",
    "\n",
    "Sensitivity/recall increased from 99.986% to 99.995%.<br><br>\n",
    "\n",
    "Let's try to ensure the ratio of actual legitimate to actual fraudulent payments is equal across train and test datasets. The dataset is imbalanced as is, with less than 2% of transactions being fraudulent."
   ]
  },
  {
   "cell_type": "code",
   "execution_count": null,
   "metadata": {},
   "outputs": [],
   "source": []
  }
 ],
 "metadata": {
  "kernelspec": {
   "display_name": "Python [conda env:datasci] *",
   "language": "python",
   "name": "conda-env-datasci-py"
  },
  "language_info": {
   "codemirror_mode": {
    "name": "ipython",
    "version": 3
   },
   "file_extension": ".py",
   "mimetype": "text/x-python",
   "name": "python",
   "nbconvert_exporter": "python",
   "pygments_lexer": "ipython3",
   "version": "3.8.5"
  }
 },
 "nbformat": 4,
 "nbformat_minor": 4
}
