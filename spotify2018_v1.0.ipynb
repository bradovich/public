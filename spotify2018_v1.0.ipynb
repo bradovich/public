{
 "cells": [
  {
   "cell_type": "code",
   "execution_count": null,
   "metadata": {},
   "outputs": [],
   "source": [
    "import pandas as pd\n",
    "import numpy as np\n",
    "import plotly.graph_objects as go\n",
    "from sklearn.cluster import KMeans"
   ]
  },
  {
   "cell_type": "code",
   "execution_count": null,
   "metadata": {},
   "outputs": [],
   "source": [
    "# source: https://www.kaggle.com/nadintamer/top-spotify-tracks-of-2018\n",
    "# I took the liberty to add genres for each song based on the first tag on last.fm\n",
    "# genre2 is my combining of similar genres\n",
    "df = pd.read_csv(\"top2018.csv\")"
   ]
  },
  {
   "cell_type": "code",
   "execution_count": null,
   "metadata": {},
   "outputs": [],
   "source": [
    "# select parameters to cluster, number of clusters, and fit via KMeans\n",
    "params = [\"danceability\",\"energy\",\"key\",\"loudness\",\"speechiness\",\"acousticness\",\"instrumentalness\",\"liveness\",\"valence\",\"tempo\",\"duration_ms\"]\n",
    "n = 5\n",
    "kmeans = KMeans(n_clusters=n, random_state=0).fit(df[params])"
   ]
  },
  {
   "cell_type": "code",
   "execution_count": null,
   "metadata": {},
   "outputs": [],
   "source": [
    "df['label'] = kmeans.labels_"
   ]
  },
  {
   "cell_type": "code",
   "execution_count": null,
   "metadata": {},
   "outputs": [],
   "source": [
    "# Top 25 songs of the year sorted by their cluster label\n",
    "df.head(25).sort_values(by=['label'])"
   ]
  },
  {
   "cell_type": "code",
   "execution_count": null,
   "metadata": {},
   "outputs": [],
   "source": [
    "# cluster centroids for each parameter\n",
    "\n",
    "for i in range(n):\n",
    "    print(\"Cluster \",i)\n",
    "    for j in range(len(params)):\n",
    "        print(params[j],\": \",kmeans.cluster_centers_[i][j])\n",
    "        \n",
    "    print(\"\\n\")"
   ]
  },
  {
   "cell_type": "code",
   "execution_count": null,
   "metadata": {
    "scrolled": false
   },
   "outputs": [],
   "source": [
    "fig1 = go.Figure(data=go.Scatter(x=df['genre2'],\n",
    "                                y=df['label'],\n",
    "                                mode='markers',\n",
    "                                marker_color=df['label'],\n",
    "                                text=df['name'])) # hover text goes here\n",
    "\n",
    "fig1.update_layout(title='Top 100 Spotify Songs 2018')\n",
    "fig1.show()"
   ]
  },
  {
   "cell_type": "code",
   "execution_count": null,
   "metadata": {},
   "outputs": [],
   "source": [
    "# FOR N=5\n",
    "\n",
    "# two clusters - 0 and 2 - seem to encompass all contemporary genres.\n",
    "# songs in 0 are speechier and more instrumental than 2 \n",
    "# more hard-hitting trap songs like HUMBLE. by Kendrick Lamar and in 0\n",
    "# more pop songs like Congratulations by Post Malone, Happier by Marshmellow in 2\n",
    "# 0 tends to be a little dancier, instrumental, and wordy, while 2 are more catchy and heartfelt tunes.\n",
    "# 3 is the XXXTentacion cluster (quiet, short, acoustic, high liveness), 4 is the Te Bote cluster\n",
    "# 1 has two tracks with the least instrumentalness, and above average liveliness and duration than other clusters\n"
   ]
  },
  {
   "cell_type": "code",
   "execution_count": null,
   "metadata": {},
   "outputs": [],
   "source": [
    "fig2 = go.Figure(data=go.Scatter(x=df['label'],\n",
    "                                y=df['danceability'],\n",
    "                                mode='markers',\n",
    "                                marker_color=df['label'],\n",
    "                                text=df['name'])) # hover text goes here\n",
    "\n",
    "fig2.update_layout(title='Top 100 Spotify Songs 2018')\n",
    "fig2.show()"
   ]
  },
  {
   "cell_type": "code",
   "execution_count": null,
   "metadata": {},
   "outputs": [],
   "source": [
    "# This data is quite flawed \n",
    "# the mode (major or minor key) column is wildly inaccurate, had to remove from cluster fitting\n",
    "# ratings for certain songs just don't make sense.\n",
    "# Stir Fry by Migos is not 182 BPM, Sicko Mode by Travis Scott is not 155 BPM \n",
    "# these tracks are half those values\n",
    "# sad, emo rap songs like Moonlight and Jocelyn Flores are rated more danceable than Drake's Nice For What\n",
    "# (in my opinion, one of the most danceable songs of 2018!)"
   ]
  },
  {
   "cell_type": "code",
   "execution_count": null,
   "metadata": {},
   "outputs": [],
   "source": [
    "# trying to visualize the clusters by plotting (hypothetically) contradictory parameters"
   ]
  },
  {
   "cell_type": "code",
   "execution_count": null,
   "metadata": {
    "scrolled": true
   },
   "outputs": [],
   "source": [
    "fig3 = go.Figure(data=go.Scatter(x=df['acousticness'], \n",
    "                                 y=df['energy'], \n",
    "                                 mode='markers', \n",
    "                                 marker_color=df['label'], \n",
    "                                 text=df['name'])) # hover text goes here\n",
    "\n",
    "fig3.update_layout(title='Top 100 Spotify Songs 2018') \n",
    "fig3.show()"
   ]
  }
 ],
 "metadata": {
  "kernelspec": {
   "display_name": "Python 3",
   "language": "python",
   "name": "python3"
  },
  "language_info": {
   "codemirror_mode": {
    "name": "ipython",
    "version": 3
   },
   "file_extension": ".py",
   "mimetype": "text/x-python",
   "name": "python",
   "nbconvert_exporter": "python",
   "pygments_lexer": "ipython3",
   "version": "3.8.5"
  }
 },
 "nbformat": 4,
 "nbformat_minor": 4
}
