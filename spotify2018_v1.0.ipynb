{
 "cells": [
  {
   "cell_type": "code",
   "execution_count": 1,
   "metadata": {},
   "outputs": [],
   "source": [
    "import pandas as pd\n",
    "import numpy as np\n",
    "import plotly.graph_objects as go\n",
    "from sklearn.cluster import KMeans"
   ]
  },
  {
   "cell_type": "code",
   "execution_count": 2,
   "metadata": {},
   "outputs": [],
   "source": [
    "df = pd.read_csv(\"top2018.csv\")"
   ]
  },
  {
   "cell_type": "code",
   "execution_count": 3,
   "metadata": {},
   "outputs": [],
   "source": [
    "# select parameters to cluster, number of clusters, and fit via KMeans\n",
    "params = [\"danceability\",\"energy\",\"key\",\"loudness\",\"speechiness\",\"acousticness\",\"instrumentalness\",\"liveness\",\"valence\",\"tempo\",\"duration_ms\"]\n",
    "n = 5\n",
    "kmeans = KMeans(n_clusters=n, random_state=0).fit(df[params])"
   ]
  },
  {
   "cell_type": "code",
   "execution_count": 4,
   "metadata": {},
   "outputs": [],
   "source": [
    "df['label'] = kmeans.labels_"
   ]
  },
  {
   "cell_type": "code",
   "execution_count": 12,
   "metadata": {},
   "outputs": [
    {
     "data": {
      "text/html": [
       "<div>\n",
       "<style scoped>\n",
       "    .dataframe tbody tr th:only-of-type {\n",
       "        vertical-align: middle;\n",
       "    }\n",
       "\n",
       "    .dataframe tbody tr th {\n",
       "        vertical-align: top;\n",
       "    }\n",
       "\n",
       "    .dataframe thead th {\n",
       "        text-align: right;\n",
       "    }\n",
       "</style>\n",
       "<table border=\"1\" class=\"dataframe\">\n",
       "  <thead>\n",
       "    <tr style=\"text-align: right;\">\n",
       "      <th></th>\n",
       "      <th>id</th>\n",
       "      <th>name</th>\n",
       "      <th>artists</th>\n",
       "      <th>danceability</th>\n",
       "      <th>energy</th>\n",
       "      <th>key</th>\n",
       "      <th>loudness</th>\n",
       "      <th>mode</th>\n",
       "      <th>speechiness</th>\n",
       "      <th>acousticness</th>\n",
       "      <th>instrumentalness</th>\n",
       "      <th>liveness</th>\n",
       "      <th>valence</th>\n",
       "      <th>tempo</th>\n",
       "      <th>duration_ms</th>\n",
       "      <th>time_signature</th>\n",
       "      <th>genre</th>\n",
       "      <th>genre2</th>\n",
       "      <th>label</th>\n",
       "    </tr>\n",
       "  </thead>\n",
       "  <tbody>\n",
       "    <tr>\n",
       "      <th>0</th>\n",
       "      <td>6DCZcSspjsKoFjzjrWoCd</td>\n",
       "      <td>God's Plan</td>\n",
       "      <td>Drake</td>\n",
       "      <td>0.754</td>\n",
       "      <td>0.449</td>\n",
       "      <td>7</td>\n",
       "      <td>-9.211</td>\n",
       "      <td>1</td>\n",
       "      <td>0.1090</td>\n",
       "      <td>0.03320</td>\n",
       "      <td>0.000083</td>\n",
       "      <td>0.5520</td>\n",
       "      <td>0.357</td>\n",
       "      <td>77.169</td>\n",
       "      <td>198973</td>\n",
       "      <td>4</td>\n",
       "      <td>hip-hop</td>\n",
       "      <td>hip-hop/rap</td>\n",
       "      <td>0</td>\n",
       "    </tr>\n",
       "    <tr>\n",
       "      <th>1</th>\n",
       "      <td>3ee8Jmje8o58CHK66QrVC</td>\n",
       "      <td>SAD!</td>\n",
       "      <td>XXXTENTACION</td>\n",
       "      <td>0.740</td>\n",
       "      <td>0.613</td>\n",
       "      <td>8</td>\n",
       "      <td>-4.880</td>\n",
       "      <td>1</td>\n",
       "      <td>0.1450</td>\n",
       "      <td>0.25800</td>\n",
       "      <td>0.003720</td>\n",
       "      <td>0.1230</td>\n",
       "      <td>0.473</td>\n",
       "      <td>75.023</td>\n",
       "      <td>166606</td>\n",
       "      <td>4</td>\n",
       "      <td>hip-hop</td>\n",
       "      <td>hip-hop/rap</td>\n",
       "      <td>0</td>\n",
       "    </tr>\n",
       "    <tr>\n",
       "      <th>19</th>\n",
       "      <td>4qKcDkK6siZ7Jp1Jb4m0a</td>\n",
       "      <td>Look Alive (feat. Drake)</td>\n",
       "      <td>BlocBoy JB</td>\n",
       "      <td>0.922</td>\n",
       "      <td>0.581</td>\n",
       "      <td>10</td>\n",
       "      <td>-7.495</td>\n",
       "      <td>1</td>\n",
       "      <td>0.2700</td>\n",
       "      <td>0.00104</td>\n",
       "      <td>0.000059</td>\n",
       "      <td>0.1050</td>\n",
       "      <td>0.595</td>\n",
       "      <td>140.022</td>\n",
       "      <td>181263</td>\n",
       "      <td>4</td>\n",
       "      <td>rap</td>\n",
       "      <td>hip-hop/rap</td>\n",
       "      <td>0</td>\n",
       "    </tr>\n",
       "    <tr>\n",
       "      <th>17</th>\n",
       "      <td>39N9RPD9MRb5WmoLzNzPe</td>\n",
       "      <td>X</td>\n",
       "      <td>Nicky Jam</td>\n",
       "      <td>0.595</td>\n",
       "      <td>0.773</td>\n",
       "      <td>9</td>\n",
       "      <td>-4.736</td>\n",
       "      <td>0</td>\n",
       "      <td>0.0549</td>\n",
       "      <td>0.03640</td>\n",
       "      <td>0.001080</td>\n",
       "      <td>0.3340</td>\n",
       "      <td>0.711</td>\n",
       "      <td>180.073</td>\n",
       "      <td>173628</td>\n",
       "      <td>4</td>\n",
       "      <td>latin</td>\n",
       "      <td>latin</td>\n",
       "      <td>0</td>\n",
       "    </tr>\n",
       "    <tr>\n",
       "      <th>14</th>\n",
       "      <td>09IStsImFySgyp0pIQdqA</td>\n",
       "      <td>The Middle</td>\n",
       "      <td>Zedd</td>\n",
       "      <td>0.753</td>\n",
       "      <td>0.657</td>\n",
       "      <td>7</td>\n",
       "      <td>-3.061</td>\n",
       "      <td>1</td>\n",
       "      <td>0.0449</td>\n",
       "      <td>0.17100</td>\n",
       "      <td>0.000000</td>\n",
       "      <td>0.1120</td>\n",
       "      <td>0.437</td>\n",
       "      <td>107.010</td>\n",
       "      <td>184732</td>\n",
       "      <td>4</td>\n",
       "      <td>edm</td>\n",
       "      <td>electronic/dance</td>\n",
       "      <td>0</td>\n",
       "    </tr>\n",
       "    <tr>\n",
       "      <th>9</th>\n",
       "      <td>08bNPGLD8AhKpnnERrAc6</td>\n",
       "      <td>FRIENDS</td>\n",
       "      <td>Marshmello</td>\n",
       "      <td>0.626</td>\n",
       "      <td>0.880</td>\n",
       "      <td>9</td>\n",
       "      <td>-2.384</td>\n",
       "      <td>0</td>\n",
       "      <td>0.0504</td>\n",
       "      <td>0.20500</td>\n",
       "      <td>0.000000</td>\n",
       "      <td>0.1280</td>\n",
       "      <td>0.534</td>\n",
       "      <td>95.079</td>\n",
       "      <td>202621</td>\n",
       "      <td>4</td>\n",
       "      <td>pop</td>\n",
       "      <td>pop</td>\n",
       "      <td>0</td>\n",
       "    </tr>\n",
       "    <tr>\n",
       "      <th>23</th>\n",
       "      <td>2iUXsYOEPhVqEBwsqP70r</td>\n",
       "      <td>Youngblood</td>\n",
       "      <td>5 Seconds of Summer</td>\n",
       "      <td>0.596</td>\n",
       "      <td>0.854</td>\n",
       "      <td>7</td>\n",
       "      <td>-5.114</td>\n",
       "      <td>0</td>\n",
       "      <td>0.4630</td>\n",
       "      <td>0.01690</td>\n",
       "      <td>0.000000</td>\n",
       "      <td>0.1240</td>\n",
       "      <td>0.152</td>\n",
       "      <td>120.274</td>\n",
       "      <td>203418</td>\n",
       "      <td>4</td>\n",
       "      <td>rock</td>\n",
       "      <td>rock</td>\n",
       "      <td>0</td>\n",
       "    </tr>\n",
       "    <tr>\n",
       "      <th>6</th>\n",
       "      <td>58q2HKrzhC3ozto2nDdN4</td>\n",
       "      <td>I Like It</td>\n",
       "      <td>Cardi B</td>\n",
       "      <td>0.816</td>\n",
       "      <td>0.726</td>\n",
       "      <td>5</td>\n",
       "      <td>-3.998</td>\n",
       "      <td>0</td>\n",
       "      <td>0.1290</td>\n",
       "      <td>0.09900</td>\n",
       "      <td>0.000000</td>\n",
       "      <td>0.3720</td>\n",
       "      <td>0.650</td>\n",
       "      <td>136.048</td>\n",
       "      <td>253390</td>\n",
       "      <td>4</td>\n",
       "      <td>hip-hop</td>\n",
       "      <td>hip-hop/rap</td>\n",
       "      <td>1</td>\n",
       "    </tr>\n",
       "    <tr>\n",
       "      <th>20</th>\n",
       "      <td>5CLGzJsGqhCEECcpnFQA8</td>\n",
       "      <td>These Days (feat. Jess Glynne, Macklemore &amp; Da...</td>\n",
       "      <td>Rudimental</td>\n",
       "      <td>0.653</td>\n",
       "      <td>0.809</td>\n",
       "      <td>0</td>\n",
       "      <td>-4.057</td>\n",
       "      <td>1</td>\n",
       "      <td>0.0474</td>\n",
       "      <td>0.19400</td>\n",
       "      <td>0.000000</td>\n",
       "      <td>0.1650</td>\n",
       "      <td>0.550</td>\n",
       "      <td>92.213</td>\n",
       "      <td>210773</td>\n",
       "      <td>4</td>\n",
       "      <td>dance</td>\n",
       "      <td>electronic/dance</td>\n",
       "      <td>2</td>\n",
       "    </tr>\n",
       "    <tr>\n",
       "      <th>16</th>\n",
       "      <td>2qT1uLXPVPzGgFOx4jtEu</td>\n",
       "      <td>no tears left to cry</td>\n",
       "      <td>Ariana Grande</td>\n",
       "      <td>0.699</td>\n",
       "      <td>0.713</td>\n",
       "      <td>9</td>\n",
       "      <td>-5.507</td>\n",
       "      <td>0</td>\n",
       "      <td>0.0594</td>\n",
       "      <td>0.04000</td>\n",
       "      <td>0.000003</td>\n",
       "      <td>0.2940</td>\n",
       "      <td>0.354</td>\n",
       "      <td>121.993</td>\n",
       "      <td>205920</td>\n",
       "      <td>4</td>\n",
       "      <td>pop</td>\n",
       "      <td>pop</td>\n",
       "      <td>2</td>\n",
       "    </tr>\n",
       "    <tr>\n",
       "      <th>15</th>\n",
       "      <td>3GCdLUSnKSMJhs4Tj6CV3</td>\n",
       "      <td>All The Stars (with SZA)</td>\n",
       "      <td>Kendrick Lamar</td>\n",
       "      <td>0.698</td>\n",
       "      <td>0.633</td>\n",
       "      <td>8</td>\n",
       "      <td>-4.946</td>\n",
       "      <td>1</td>\n",
       "      <td>0.0597</td>\n",
       "      <td>0.06050</td>\n",
       "      <td>0.000194</td>\n",
       "      <td>0.0926</td>\n",
       "      <td>0.552</td>\n",
       "      <td>96.924</td>\n",
       "      <td>232187</td>\n",
       "      <td>4</td>\n",
       "      <td>hip-hop</td>\n",
       "      <td>hip-hop/rap</td>\n",
       "      <td>2</td>\n",
       "    </tr>\n",
       "    <tr>\n",
       "      <th>13</th>\n",
       "      <td>7fa9MBXhVfQ8P8Df9OEbD</td>\n",
       "      <td>Girls Like You (feat. Cardi B)</td>\n",
       "      <td>Maroon 5</td>\n",
       "      <td>0.851</td>\n",
       "      <td>0.541</td>\n",
       "      <td>0</td>\n",
       "      <td>-6.825</td>\n",
       "      <td>1</td>\n",
       "      <td>0.0505</td>\n",
       "      <td>0.56800</td>\n",
       "      <td>0.000000</td>\n",
       "      <td>0.1300</td>\n",
       "      <td>0.448</td>\n",
       "      <td>124.959</td>\n",
       "      <td>235545</td>\n",
       "      <td>4</td>\n",
       "      <td>pop</td>\n",
       "      <td>pop</td>\n",
       "      <td>2</td>\n",
       "    </tr>\n",
       "    <tr>\n",
       "      <th>12</th>\n",
       "      <td>3CA9pLiwRIGtUBiMjbZmR</td>\n",
       "      <td>Nice For What</td>\n",
       "      <td>Drake</td>\n",
       "      <td>0.586</td>\n",
       "      <td>0.909</td>\n",
       "      <td>8</td>\n",
       "      <td>-6.474</td>\n",
       "      <td>1</td>\n",
       "      <td>0.0705</td>\n",
       "      <td>0.08910</td>\n",
       "      <td>0.000109</td>\n",
       "      <td>0.1190</td>\n",
       "      <td>0.757</td>\n",
       "      <td>93.394</td>\n",
       "      <td>210747</td>\n",
       "      <td>4</td>\n",
       "      <td>rap</td>\n",
       "      <td>hip-hop/rap</td>\n",
       "      <td>2</td>\n",
       "    </tr>\n",
       "    <tr>\n",
       "      <th>10</th>\n",
       "      <td>1rfofaqEpACxVEHIZBJe6</td>\n",
       "      <td>Havana</td>\n",
       "      <td>Camila Cabello</td>\n",
       "      <td>0.765</td>\n",
       "      <td>0.523</td>\n",
       "      <td>2</td>\n",
       "      <td>-4.333</td>\n",
       "      <td>1</td>\n",
       "      <td>0.0300</td>\n",
       "      <td>0.18400</td>\n",
       "      <td>0.000036</td>\n",
       "      <td>0.1320</td>\n",
       "      <td>0.394</td>\n",
       "      <td>104.988</td>\n",
       "      <td>217307</td>\n",
       "      <td>4</td>\n",
       "      <td>pop</td>\n",
       "      <td>pop</td>\n",
       "      <td>2</td>\n",
       "    </tr>\n",
       "    <tr>\n",
       "      <th>8</th>\n",
       "      <td>76cy1WJvNGJTj78UqeA5z</td>\n",
       "      <td>IDGAF</td>\n",
       "      <td>Dua Lipa</td>\n",
       "      <td>0.836</td>\n",
       "      <td>0.544</td>\n",
       "      <td>7</td>\n",
       "      <td>-5.975</td>\n",
       "      <td>1</td>\n",
       "      <td>0.0943</td>\n",
       "      <td>0.04030</td>\n",
       "      <td>0.000000</td>\n",
       "      <td>0.0824</td>\n",
       "      <td>0.510</td>\n",
       "      <td>97.028</td>\n",
       "      <td>217947</td>\n",
       "      <td>4</td>\n",
       "      <td>pop</td>\n",
       "      <td>pop</td>\n",
       "      <td>2</td>\n",
       "    </tr>\n",
       "    <tr>\n",
       "      <th>7</th>\n",
       "      <td>7ef4DlsgrMEH11cDZd32M</td>\n",
       "      <td>One Kiss (with Dua Lipa)</td>\n",
       "      <td>Calvin Harris</td>\n",
       "      <td>0.791</td>\n",
       "      <td>0.862</td>\n",
       "      <td>9</td>\n",
       "      <td>-3.240</td>\n",
       "      <td>0</td>\n",
       "      <td>0.1100</td>\n",
       "      <td>0.03700</td>\n",
       "      <td>0.000022</td>\n",
       "      <td>0.0814</td>\n",
       "      <td>0.592</td>\n",
       "      <td>123.994</td>\n",
       "      <td>214847</td>\n",
       "      <td>4</td>\n",
       "      <td>house</td>\n",
       "      <td>electronic/dance</td>\n",
       "      <td>2</td>\n",
       "    </tr>\n",
       "    <tr>\n",
       "      <th>5</th>\n",
       "      <td>7dt6x5M1jzdTEt8oCbisT</td>\n",
       "      <td>Better Now</td>\n",
       "      <td>Post Malone</td>\n",
       "      <td>0.680</td>\n",
       "      <td>0.563</td>\n",
       "      <td>10</td>\n",
       "      <td>-5.843</td>\n",
       "      <td>1</td>\n",
       "      <td>0.0454</td>\n",
       "      <td>0.35400</td>\n",
       "      <td>0.000000</td>\n",
       "      <td>0.1360</td>\n",
       "      <td>0.374</td>\n",
       "      <td>145.028</td>\n",
       "      <td>231267</td>\n",
       "      <td>4</td>\n",
       "      <td>rap</td>\n",
       "      <td>hip-hop/rap</td>\n",
       "      <td>2</td>\n",
       "    </tr>\n",
       "    <tr>\n",
       "      <th>4</th>\n",
       "      <td>2G7V7zsVDxg1yRsu7Ew9R</td>\n",
       "      <td>In My Feelings</td>\n",
       "      <td>Drake</td>\n",
       "      <td>0.835</td>\n",
       "      <td>0.626</td>\n",
       "      <td>1</td>\n",
       "      <td>-5.833</td>\n",
       "      <td>1</td>\n",
       "      <td>0.1250</td>\n",
       "      <td>0.05890</td>\n",
       "      <td>0.000060</td>\n",
       "      <td>0.3960</td>\n",
       "      <td>0.350</td>\n",
       "      <td>91.030</td>\n",
       "      <td>217925</td>\n",
       "      <td>4</td>\n",
       "      <td>rap</td>\n",
       "      <td>hip-hop/rap</td>\n",
       "      <td>2</td>\n",
       "    </tr>\n",
       "    <tr>\n",
       "      <th>3</th>\n",
       "      <td>3swc6WTsr7rl9DqQKQA55</td>\n",
       "      <td>Psycho (feat. Ty Dolla $ign)</td>\n",
       "      <td>Post Malone</td>\n",
       "      <td>0.739</td>\n",
       "      <td>0.559</td>\n",
       "      <td>8</td>\n",
       "      <td>-8.011</td>\n",
       "      <td>1</td>\n",
       "      <td>0.1170</td>\n",
       "      <td>0.58000</td>\n",
       "      <td>0.000000</td>\n",
       "      <td>0.1120</td>\n",
       "      <td>0.439</td>\n",
       "      <td>140.124</td>\n",
       "      <td>221440</td>\n",
       "      <td>4</td>\n",
       "      <td>pop</td>\n",
       "      <td>pop</td>\n",
       "      <td>2</td>\n",
       "    </tr>\n",
       "    <tr>\n",
       "      <th>2</th>\n",
       "      <td>0e7ipj03S05BNilyu5bRz</td>\n",
       "      <td>rockstar (feat. 21 Savage)</td>\n",
       "      <td>Post Malone</td>\n",
       "      <td>0.587</td>\n",
       "      <td>0.535</td>\n",
       "      <td>5</td>\n",
       "      <td>-6.090</td>\n",
       "      <td>0</td>\n",
       "      <td>0.0898</td>\n",
       "      <td>0.11700</td>\n",
       "      <td>0.000066</td>\n",
       "      <td>0.1310</td>\n",
       "      <td>0.140</td>\n",
       "      <td>159.847</td>\n",
       "      <td>218147</td>\n",
       "      <td>4</td>\n",
       "      <td>trap</td>\n",
       "      <td>hip-hop/rap</td>\n",
       "      <td>2</td>\n",
       "    </tr>\n",
       "    <tr>\n",
       "      <th>11</th>\n",
       "      <td>0s3nnoMeVWz3989MkNQiR</td>\n",
       "      <td>Lucid Dreams</td>\n",
       "      <td>Juice WRLD</td>\n",
       "      <td>0.511</td>\n",
       "      <td>0.566</td>\n",
       "      <td>6</td>\n",
       "      <td>-7.230</td>\n",
       "      <td>0</td>\n",
       "      <td>0.2000</td>\n",
       "      <td>0.34900</td>\n",
       "      <td>0.000000</td>\n",
       "      <td>0.3400</td>\n",
       "      <td>0.218</td>\n",
       "      <td>83.903</td>\n",
       "      <td>239836</td>\n",
       "      <td>4</td>\n",
       "      <td>hip-hop</td>\n",
       "      <td>hip-hop/rap</td>\n",
       "      <td>2</td>\n",
       "    </tr>\n",
       "    <tr>\n",
       "      <th>24</th>\n",
       "      <td>2xJCMIJfcNYDc5iR0sAm2</td>\n",
       "      <td>New Rules</td>\n",
       "      <td>Dua Lipa</td>\n",
       "      <td>0.762</td>\n",
       "      <td>0.700</td>\n",
       "      <td>9</td>\n",
       "      <td>-6.021</td>\n",
       "      <td>0</td>\n",
       "      <td>0.0694</td>\n",
       "      <td>0.00261</td>\n",
       "      <td>0.000016</td>\n",
       "      <td>0.1530</td>\n",
       "      <td>0.608</td>\n",
       "      <td>116.073</td>\n",
       "      <td>209320</td>\n",
       "      <td>4</td>\n",
       "      <td>pop</td>\n",
       "      <td>pop</td>\n",
       "      <td>2</td>\n",
       "    </tr>\n",
       "    <tr>\n",
       "      <th>18</th>\n",
       "      <td>0JP9xo3adEtGSdUEISisz</td>\n",
       "      <td>Moonlight</td>\n",
       "      <td>XXXTENTACION</td>\n",
       "      <td>0.921</td>\n",
       "      <td>0.537</td>\n",
       "      <td>9</td>\n",
       "      <td>-5.723</td>\n",
       "      <td>0</td>\n",
       "      <td>0.0804</td>\n",
       "      <td>0.55600</td>\n",
       "      <td>0.004040</td>\n",
       "      <td>0.1020</td>\n",
       "      <td>0.711</td>\n",
       "      <td>128.009</td>\n",
       "      <td>135090</td>\n",
       "      <td>4</td>\n",
       "      <td>hip-hop</td>\n",
       "      <td>hip-hop/rap</td>\n",
       "      <td>3</td>\n",
       "    </tr>\n",
       "    <tr>\n",
       "      <th>22</th>\n",
       "      <td>7uzmGiiJyRfuViKKK3lVm</td>\n",
       "      <td>Mine</td>\n",
       "      <td>Bazzi</td>\n",
       "      <td>0.710</td>\n",
       "      <td>0.789</td>\n",
       "      <td>4</td>\n",
       "      <td>-3.874</td>\n",
       "      <td>1</td>\n",
       "      <td>0.0722</td>\n",
       "      <td>0.01610</td>\n",
       "      <td>0.000003</td>\n",
       "      <td>0.4510</td>\n",
       "      <td>0.717</td>\n",
       "      <td>142.929</td>\n",
       "      <td>131064</td>\n",
       "      <td>4</td>\n",
       "      <td>r&amp;b</td>\n",
       "      <td>r&amp;b/soul</td>\n",
       "      <td>3</td>\n",
       "    </tr>\n",
       "    <tr>\n",
       "      <th>21</th>\n",
       "      <td>3V8UKqhEK5zBkBb6d6ub8</td>\n",
       "      <td>Te Bot? - Remix</td>\n",
       "      <td>Nio Garcia</td>\n",
       "      <td>0.903</td>\n",
       "      <td>0.675</td>\n",
       "      <td>11</td>\n",
       "      <td>-3.445</td>\n",
       "      <td>0</td>\n",
       "      <td>0.2140</td>\n",
       "      <td>0.54200</td>\n",
       "      <td>0.000013</td>\n",
       "      <td>0.0595</td>\n",
       "      <td>0.442</td>\n",
       "      <td>96.507</td>\n",
       "      <td>417920</td>\n",
       "      <td>4</td>\n",
       "      <td>latin</td>\n",
       "      <td>latin</td>\n",
       "      <td>4</td>\n",
       "    </tr>\n",
       "  </tbody>\n",
       "</table>\n",
       "</div>"
      ],
      "text/plain": [
       "                       id                                               name  \\\n",
       "0   6DCZcSspjsKoFjzjrWoCd                                         God's Plan   \n",
       "1   3ee8Jmje8o58CHK66QrVC                                               SAD!   \n",
       "19  4qKcDkK6siZ7Jp1Jb4m0a                           Look Alive (feat. Drake)   \n",
       "17  39N9RPD9MRb5WmoLzNzPe                                                  X   \n",
       "14  09IStsImFySgyp0pIQdqA                                         The Middle   \n",
       "9   08bNPGLD8AhKpnnERrAc6                                            FRIENDS   \n",
       "23  2iUXsYOEPhVqEBwsqP70r                                         Youngblood   \n",
       "6   58q2HKrzhC3ozto2nDdN4                                          I Like It   \n",
       "20  5CLGzJsGqhCEECcpnFQA8  These Days (feat. Jess Glynne, Macklemore & Da...   \n",
       "16  2qT1uLXPVPzGgFOx4jtEu                               no tears left to cry   \n",
       "15  3GCdLUSnKSMJhs4Tj6CV3                           All The Stars (with SZA)   \n",
       "13  7fa9MBXhVfQ8P8Df9OEbD                     Girls Like You (feat. Cardi B)   \n",
       "12  3CA9pLiwRIGtUBiMjbZmR                                      Nice For What   \n",
       "10  1rfofaqEpACxVEHIZBJe6                                             Havana   \n",
       "8   76cy1WJvNGJTj78UqeA5z                                              IDGAF   \n",
       "7   7ef4DlsgrMEH11cDZd32M                           One Kiss (with Dua Lipa)   \n",
       "5   7dt6x5M1jzdTEt8oCbisT                                         Better Now   \n",
       "4   2G7V7zsVDxg1yRsu7Ew9R                                     In My Feelings   \n",
       "3   3swc6WTsr7rl9DqQKQA55                       Psycho (feat. Ty Dolla $ign)   \n",
       "2   0e7ipj03S05BNilyu5bRz                         rockstar (feat. 21 Savage)   \n",
       "11  0s3nnoMeVWz3989MkNQiR                                       Lucid Dreams   \n",
       "24  2xJCMIJfcNYDc5iR0sAm2                                          New Rules   \n",
       "18  0JP9xo3adEtGSdUEISisz                                          Moonlight   \n",
       "22  7uzmGiiJyRfuViKKK3lVm                                               Mine   \n",
       "21  3V8UKqhEK5zBkBb6d6ub8                                    Te Bot? - Remix   \n",
       "\n",
       "                artists  danceability  energy  key  loudness  mode  \\\n",
       "0                 Drake         0.754   0.449    7    -9.211     1   \n",
       "1          XXXTENTACION         0.740   0.613    8    -4.880     1   \n",
       "19           BlocBoy JB         0.922   0.581   10    -7.495     1   \n",
       "17            Nicky Jam         0.595   0.773    9    -4.736     0   \n",
       "14                 Zedd         0.753   0.657    7    -3.061     1   \n",
       "9            Marshmello         0.626   0.880    9    -2.384     0   \n",
       "23  5 Seconds of Summer         0.596   0.854    7    -5.114     0   \n",
       "6               Cardi B         0.816   0.726    5    -3.998     0   \n",
       "20           Rudimental         0.653   0.809    0    -4.057     1   \n",
       "16        Ariana Grande         0.699   0.713    9    -5.507     0   \n",
       "15       Kendrick Lamar         0.698   0.633    8    -4.946     1   \n",
       "13             Maroon 5         0.851   0.541    0    -6.825     1   \n",
       "12                Drake         0.586   0.909    8    -6.474     1   \n",
       "10       Camila Cabello         0.765   0.523    2    -4.333     1   \n",
       "8              Dua Lipa         0.836   0.544    7    -5.975     1   \n",
       "7         Calvin Harris         0.791   0.862    9    -3.240     0   \n",
       "5           Post Malone         0.680   0.563   10    -5.843     1   \n",
       "4                 Drake         0.835   0.626    1    -5.833     1   \n",
       "3           Post Malone         0.739   0.559    8    -8.011     1   \n",
       "2           Post Malone         0.587   0.535    5    -6.090     0   \n",
       "11           Juice WRLD         0.511   0.566    6    -7.230     0   \n",
       "24             Dua Lipa         0.762   0.700    9    -6.021     0   \n",
       "18         XXXTENTACION         0.921   0.537    9    -5.723     0   \n",
       "22                Bazzi         0.710   0.789    4    -3.874     1   \n",
       "21           Nio Garcia         0.903   0.675   11    -3.445     0   \n",
       "\n",
       "    speechiness  acousticness  instrumentalness  liveness  valence    tempo  \\\n",
       "0        0.1090       0.03320          0.000083    0.5520    0.357   77.169   \n",
       "1        0.1450       0.25800          0.003720    0.1230    0.473   75.023   \n",
       "19       0.2700       0.00104          0.000059    0.1050    0.595  140.022   \n",
       "17       0.0549       0.03640          0.001080    0.3340    0.711  180.073   \n",
       "14       0.0449       0.17100          0.000000    0.1120    0.437  107.010   \n",
       "9        0.0504       0.20500          0.000000    0.1280    0.534   95.079   \n",
       "23       0.4630       0.01690          0.000000    0.1240    0.152  120.274   \n",
       "6        0.1290       0.09900          0.000000    0.3720    0.650  136.048   \n",
       "20       0.0474       0.19400          0.000000    0.1650    0.550   92.213   \n",
       "16       0.0594       0.04000          0.000003    0.2940    0.354  121.993   \n",
       "15       0.0597       0.06050          0.000194    0.0926    0.552   96.924   \n",
       "13       0.0505       0.56800          0.000000    0.1300    0.448  124.959   \n",
       "12       0.0705       0.08910          0.000109    0.1190    0.757   93.394   \n",
       "10       0.0300       0.18400          0.000036    0.1320    0.394  104.988   \n",
       "8        0.0943       0.04030          0.000000    0.0824    0.510   97.028   \n",
       "7        0.1100       0.03700          0.000022    0.0814    0.592  123.994   \n",
       "5        0.0454       0.35400          0.000000    0.1360    0.374  145.028   \n",
       "4        0.1250       0.05890          0.000060    0.3960    0.350   91.030   \n",
       "3        0.1170       0.58000          0.000000    0.1120    0.439  140.124   \n",
       "2        0.0898       0.11700          0.000066    0.1310    0.140  159.847   \n",
       "11       0.2000       0.34900          0.000000    0.3400    0.218   83.903   \n",
       "24       0.0694       0.00261          0.000016    0.1530    0.608  116.073   \n",
       "18       0.0804       0.55600          0.004040    0.1020    0.711  128.009   \n",
       "22       0.0722       0.01610          0.000003    0.4510    0.717  142.929   \n",
       "21       0.2140       0.54200          0.000013    0.0595    0.442   96.507   \n",
       "\n",
       "    duration_ms  time_signature    genre            genre2  label  \n",
       "0        198973               4  hip-hop       hip-hop/rap      0  \n",
       "1        166606               4  hip-hop       hip-hop/rap      0  \n",
       "19       181263               4      rap       hip-hop/rap      0  \n",
       "17       173628               4    latin             latin      0  \n",
       "14       184732               4      edm  electronic/dance      0  \n",
       "9        202621               4      pop               pop      0  \n",
       "23       203418               4     rock              rock      0  \n",
       "6        253390               4  hip-hop       hip-hop/rap      1  \n",
       "20       210773               4    dance  electronic/dance      2  \n",
       "16       205920               4      pop               pop      2  \n",
       "15       232187               4  hip-hop       hip-hop/rap      2  \n",
       "13       235545               4      pop               pop      2  \n",
       "12       210747               4      rap       hip-hop/rap      2  \n",
       "10       217307               4      pop               pop      2  \n",
       "8        217947               4      pop               pop      2  \n",
       "7        214847               4    house  electronic/dance      2  \n",
       "5        231267               4      rap       hip-hop/rap      2  \n",
       "4        217925               4      rap       hip-hop/rap      2  \n",
       "3        221440               4      pop               pop      2  \n",
       "2        218147               4     trap       hip-hop/rap      2  \n",
       "11       239836               4  hip-hop       hip-hop/rap      2  \n",
       "24       209320               4      pop               pop      2  \n",
       "18       135090               4  hip-hop       hip-hop/rap      3  \n",
       "22       131064               4      r&b          r&b/soul      3  \n",
       "21       417920               4    latin             latin      4  "
      ]
     },
     "execution_count": 12,
     "metadata": {},
     "output_type": "execute_result"
    }
   ],
   "source": [
    "# Top 25 songs of the year sorted by their cluster label\n",
    "df.head(25).sort_values(by=['label'])"
   ]
  },
  {
   "cell_type": "code",
   "execution_count": 6,
   "metadata": {},
   "outputs": [
    {
     "name": "stdout",
     "output_type": "stream",
     "text": [
      "Cluster  0\n",
      "danceability :  0.7224634146341463\n",
      "energy :  0.6736585365853659\n",
      "key :  5.439024390243903\n",
      "loudness :  -5.604390243902439\n",
      "speechiness :  0.11845853658536586\n",
      "acousticness :  0.19039419512195122\n",
      "instrumentalness :  0.0034054065853658536\n",
      "liveness :  0.1459219512195122\n",
      "valence :  0.48646341463414633\n",
      "tempo :  119.53573170731707\n",
      "duration_ms :  186997.65853658534\n",
      "\n",
      "\n",
      "Cluster  1\n",
      "danceability :  0.6980000000000001\n",
      "energy :  0.6174285714285714\n",
      "key :  4.714285714285714\n",
      "loudness :  -5.413428571428572\n",
      "speechiness :  0.14718571428571428\n",
      "acousticness :  0.17810428571428571\n",
      "instrumentalness :  2.168404344971009e-19\n",
      "liveness :  0.17535714285714288\n",
      "valence :  0.40800000000000003\n",
      "tempo :  121.51614285714285\n",
      "duration_ms :  270596.2857142857\n",
      "\n",
      "\n",
      "Cluster  2\n",
      "danceability :  0.6971395348837209\n",
      "energy :  0.6773023255813954\n",
      "key :  5.27906976744186\n",
      "loudness :  -5.427139534883721\n",
      "speechiness :  0.09609302325581395\n",
      "acousticness :  0.16269627906976744\n",
      "instrumentalness :  0.0003370718604651158\n",
      "liveness :  0.1597906976744186\n",
      "valence :  0.4920162790697674\n",
      "tempo :  120.73295348837209\n",
      "duration_ms :  220782.46511627905\n",
      "\n",
      "\n",
      "Cluster  3\n",
      "danceability :  0.782375\n",
      "energy :  0.520625\n",
      "key :  4.875\n",
      "loudness :  -7.90975\n",
      "speechiness :  0.165475\n",
      "acousticness :  0.37241250000000004\n",
      "instrumentalness :  0.0005287600000000001\n",
      "liveness :  0.211175\n",
      "valence :  0.505575\n",
      "tempo :  118.852\n",
      "duration_ms :  131004.24999999999\n",
      "\n",
      "\n",
      "Cluster  4\n",
      "danceability :  0.903\n",
      "energy :  0.675\n",
      "key :  11.0\n",
      "loudness :  -3.445\n",
      "speechiness :  0.214\n",
      "acousticness :  0.542\n",
      "instrumentalness :  1.2800000000000094e-05\n",
      "liveness :  0.0595\n",
      "valence :  0.442\n",
      "tempo :  96.507\n",
      "duration_ms :  417920.0\n",
      "\n",
      "\n"
     ]
    }
   ],
   "source": [
    "# cluster centroids for each parameter\n",
    "\n",
    "for i in range(n):\n",
    "    print(\"Cluster \",i)\n",
    "    for j in range(len(params)):\n",
    "        print(params[j],\": \",kmeans.cluster_centers_[i][j])\n",
    "        \n",
    "    print(\"\\n\")"
   ]
  },
  {
   "cell_type": "code",
   "execution_count": 10,
   "metadata": {
    "scrolled": true
   },
   "outputs": [
    {
     "data": {
      "application/vnd.plotly.v1+json": {
       "config": {
        "plotlyServerURL": "https://plot.ly"
       },
       "data": [
        {
         "marker": {
          "color": [
           0,
           0,
           2,
           2,
           2,
           2,
           1,
           2,
           2,
           0,
           2,
           2,
           2,
           2,
           0,
           2,
           2,
           0,
           3,
           0,
           2,
           4,
           3,
           0,
           2,
           2,
           0,
           0,
           3,
           1,
           2,
           2,
           2,
           3,
           0,
           0,
           2,
           0,
           3,
           0,
           2,
           0,
           1,
           0,
           2,
           2,
           2,
           2,
           2,
           2,
           0,
           2,
           0,
           2,
           2,
           0,
           0,
           0,
           0,
           0,
           0,
           2,
           3,
           2,
           0,
           0,
           2,
           0,
           0,
           2,
           0,
           0,
           2,
           1,
           1,
           2,
           2,
           0,
           2,
           0,
           0,
           0,
           0,
           0,
           1,
           0,
           0,
           2,
           0,
           0,
           2,
           3,
           0,
           2,
           3,
           2,
           2,
           1,
           2,
           0
          ]
         },
         "mode": "markers",
         "text": [
          "God's Plan",
          "SAD!",
          "rockstar (feat. 21 Savage)",
          "Psycho (feat. Ty Dolla $ign)",
          "In My Feelings",
          "Better Now",
          "I Like It",
          "One Kiss (with Dua Lipa)",
          "IDGAF",
          "FRIENDS",
          "Havana",
          "Lucid Dreams",
          "Nice For What",
          "Girls Like You (feat. Cardi B)",
          "The Middle",
          "All The Stars (with SZA)",
          "no tears left to cry",
          "X",
          "Moonlight",
          "Look Alive (feat. Drake)",
          "These Days (feat. Jess Glynne, Macklemore & Dan Caplen)",
          "Te Bot? - Remix",
          "Mine",
          "Youngblood",
          "New Rules",
          "Shape of You",
          "Love Lies (with Normani)",
          "Meant to Be (feat. Florida Georgia Line)",
          "Jocelyn Flores",
          "Perfect",
          "Taste (feat. Offset)",
          "Solo (feat. Demi Lovato)",
          "I Fall Apart",
          "Nevermind",
          "?chame La Culpa",
          "Eastside (with Halsey & Khalid)",
          "Never Be the Same",
          "Wolves",
          "changes",
          "In My Mind",
          "River (feat. Ed Sheeran)",
          "Dura",
          "SICKO MODE",
          "Thunder",
          "Me Niego",
          "Jackie Chan",
          "Finesse (Remix) [feat. Cardi B]",
          "Back To You - From 13 Reasons Why ? Season 2 Soundtrack",
          "Let You Down",
          "Call Out My Name",
          "Ric Flair Drip (& Metro Boomin)",
          "Happier",
          "Too Good At Goodbyes",
          "Freaky Friday (feat. Chris Brown)",
          "Believer",
          "FEFE (feat. Nicki Minaj & Murda Beatz)",
          "Rise",
          "Body (feat. brando)",
          "XO TOUR Llif3",
          "Sin Pijama",
          "2002",
          "Nonstop",
          "Fuck Love (feat. Trippie Redd)",
          "In My Blood",
          "Silence",
          "God is a woman",
          "D?jala que vuelva (feat. Manuel Turizo)",
          "Flames",
          "What Lovers Do",
          "Taki Taki (with Selena Gomez, Ozuna & Cardi B)",
          "Let Me Go (with Alesso, Florida Georgia Line & watt)",
          "Feel It Still",
          "Pray For Me (with Kendrick Lamar)",
          "Walk It Talk It",
          "Him & I (with Halsey)",
          "Candy Paint",
          "Congratulations",
          "1, 2, 3 (feat. Jason Derulo & De La Ghetto)",
          "Criminal",
          "Plug Walk",
          "lovely (with Khalid)",
          "Stir Fry",
          "HUMBLE.",
          "Vaina Loca",
          "Perfect Duet (Ed Sheeran & Beyonc?)",
          "Coraz?n (feat. Nego do Borel)",
          "Young Dumb & Broke",
          "S?guelo Bailando",
          "Downtown",
          "Bella",
          "Promises (with Sam Smith)",
          "Yes Indeed",
          "I Like Me Better",
          "This Is Me",
          "Everybody Dies In Their Nightmares",
          "Rewrite The Stars",
          "I Miss You (feat. Julia Michaels)",
          "No Brainer",
          "Dusk Till Dawn - Radio Edit",
          "Be Alright"
         ],
         "type": "scatter",
         "x": [
          "hip-hop/rap",
          "hip-hop/rap",
          "hip-hop/rap",
          "pop",
          "hip-hop/rap",
          "hip-hop/rap",
          "hip-hop/rap",
          "electronic/dance",
          "pop",
          "pop",
          "pop",
          "hip-hop/rap",
          "hip-hop/rap",
          "pop",
          "electronic/dance",
          "hip-hop/rap",
          "pop",
          "latin",
          "hip-hop/rap",
          "hip-hop/rap",
          "electronic/dance",
          "latin",
          "r&b/soul",
          "rock",
          "pop",
          "pop",
          "r&b/soul",
          "pop",
          "hip-hop/rap",
          "pop",
          "hip-hop/rap",
          "electronic/dance",
          "pop",
          "pop",
          "latin",
          "pop",
          "pop",
          "pop",
          "hip-hop/rap",
          "electronic/dance",
          "hip-hop/rap",
          "latin",
          "hip-hop/rap",
          "pop",
          "latin",
          "electronic/dance",
          "pop",
          "pop",
          "hip-hop/rap",
          "r&b/soul",
          "hip-hop/rap",
          "electronic/dance",
          "pop",
          "hip-hop/rap",
          "rock",
          "hip-hop/rap",
          "electronic/dance",
          "electronic/dance",
          "hip-hop/rap",
          "latin",
          "pop",
          "hip-hop/rap",
          "hip-hop/rap",
          "pop",
          "r&b/soul",
          "pop",
          "latin",
          "pop",
          "rock",
          "electronic/dance",
          "pop",
          "pop",
          "r&b/soul",
          "hip-hop/rap",
          "hip-hop/rap",
          "hip-hop/rap",
          "hip-hop/rap",
          "pop",
          "pop",
          "hip-hop/rap",
          "pop",
          "hip-hop/rap",
          "hip-hop/rap",
          "latin",
          "pop",
          "latin",
          "pop",
          "latin",
          "pop",
          "latin",
          "electronic/dance",
          "hip-hop/rap",
          "pop",
          "musical",
          "hip-hop/rap",
          "musical",
          "pop",
          "pop",
          "pop",
          "pop"
         ],
         "y": [
          0,
          0,
          2,
          2,
          2,
          2,
          1,
          2,
          2,
          0,
          2,
          2,
          2,
          2,
          0,
          2,
          2,
          0,
          3,
          0,
          2,
          4,
          3,
          0,
          2,
          2,
          0,
          0,
          3,
          1,
          2,
          2,
          2,
          3,
          0,
          0,
          2,
          0,
          3,
          0,
          2,
          0,
          1,
          0,
          2,
          2,
          2,
          2,
          2,
          2,
          0,
          2,
          0,
          2,
          2,
          0,
          0,
          0,
          0,
          0,
          0,
          2,
          3,
          2,
          0,
          0,
          2,
          0,
          0,
          2,
          0,
          0,
          2,
          1,
          1,
          2,
          2,
          0,
          2,
          0,
          0,
          0,
          0,
          0,
          1,
          0,
          0,
          2,
          0,
          0,
          2,
          3,
          0,
          2,
          3,
          2,
          2,
          1,
          2,
          0
         ]
        }
       ],
       "layout": {
        "template": {
         "data": {
          "bar": [
           {
            "error_x": {
             "color": "#2a3f5f"
            },
            "error_y": {
             "color": "#2a3f5f"
            },
            "marker": {
             "line": {
              "color": "#E5ECF6",
              "width": 0.5
             }
            },
            "type": "bar"
           }
          ],
          "barpolar": [
           {
            "marker": {
             "line": {
              "color": "#E5ECF6",
              "width": 0.5
             }
            },
            "type": "barpolar"
           }
          ],
          "carpet": [
           {
            "aaxis": {
             "endlinecolor": "#2a3f5f",
             "gridcolor": "white",
             "linecolor": "white",
             "minorgridcolor": "white",
             "startlinecolor": "#2a3f5f"
            },
            "baxis": {
             "endlinecolor": "#2a3f5f",
             "gridcolor": "white",
             "linecolor": "white",
             "minorgridcolor": "white",
             "startlinecolor": "#2a3f5f"
            },
            "type": "carpet"
           }
          ],
          "choropleth": [
           {
            "colorbar": {
             "outlinewidth": 0,
             "ticks": ""
            },
            "type": "choropleth"
           }
          ],
          "contour": [
           {
            "colorbar": {
             "outlinewidth": 0,
             "ticks": ""
            },
            "colorscale": [
             [
              0,
              "#0d0887"
             ],
             [
              0.1111111111111111,
              "#46039f"
             ],
             [
              0.2222222222222222,
              "#7201a8"
             ],
             [
              0.3333333333333333,
              "#9c179e"
             ],
             [
              0.4444444444444444,
              "#bd3786"
             ],
             [
              0.5555555555555556,
              "#d8576b"
             ],
             [
              0.6666666666666666,
              "#ed7953"
             ],
             [
              0.7777777777777778,
              "#fb9f3a"
             ],
             [
              0.8888888888888888,
              "#fdca26"
             ],
             [
              1,
              "#f0f921"
             ]
            ],
            "type": "contour"
           }
          ],
          "contourcarpet": [
           {
            "colorbar": {
             "outlinewidth": 0,
             "ticks": ""
            },
            "type": "contourcarpet"
           }
          ],
          "heatmap": [
           {
            "colorbar": {
             "outlinewidth": 0,
             "ticks": ""
            },
            "colorscale": [
             [
              0,
              "#0d0887"
             ],
             [
              0.1111111111111111,
              "#46039f"
             ],
             [
              0.2222222222222222,
              "#7201a8"
             ],
             [
              0.3333333333333333,
              "#9c179e"
             ],
             [
              0.4444444444444444,
              "#bd3786"
             ],
             [
              0.5555555555555556,
              "#d8576b"
             ],
             [
              0.6666666666666666,
              "#ed7953"
             ],
             [
              0.7777777777777778,
              "#fb9f3a"
             ],
             [
              0.8888888888888888,
              "#fdca26"
             ],
             [
              1,
              "#f0f921"
             ]
            ],
            "type": "heatmap"
           }
          ],
          "heatmapgl": [
           {
            "colorbar": {
             "outlinewidth": 0,
             "ticks": ""
            },
            "colorscale": [
             [
              0,
              "#0d0887"
             ],
             [
              0.1111111111111111,
              "#46039f"
             ],
             [
              0.2222222222222222,
              "#7201a8"
             ],
             [
              0.3333333333333333,
              "#9c179e"
             ],
             [
              0.4444444444444444,
              "#bd3786"
             ],
             [
              0.5555555555555556,
              "#d8576b"
             ],
             [
              0.6666666666666666,
              "#ed7953"
             ],
             [
              0.7777777777777778,
              "#fb9f3a"
             ],
             [
              0.8888888888888888,
              "#fdca26"
             ],
             [
              1,
              "#f0f921"
             ]
            ],
            "type": "heatmapgl"
           }
          ],
          "histogram": [
           {
            "marker": {
             "colorbar": {
              "outlinewidth": 0,
              "ticks": ""
             }
            },
            "type": "histogram"
           }
          ],
          "histogram2d": [
           {
            "colorbar": {
             "outlinewidth": 0,
             "ticks": ""
            },
            "colorscale": [
             [
              0,
              "#0d0887"
             ],
             [
              0.1111111111111111,
              "#46039f"
             ],
             [
              0.2222222222222222,
              "#7201a8"
             ],
             [
              0.3333333333333333,
              "#9c179e"
             ],
             [
              0.4444444444444444,
              "#bd3786"
             ],
             [
              0.5555555555555556,
              "#d8576b"
             ],
             [
              0.6666666666666666,
              "#ed7953"
             ],
             [
              0.7777777777777778,
              "#fb9f3a"
             ],
             [
              0.8888888888888888,
              "#fdca26"
             ],
             [
              1,
              "#f0f921"
             ]
            ],
            "type": "histogram2d"
           }
          ],
          "histogram2dcontour": [
           {
            "colorbar": {
             "outlinewidth": 0,
             "ticks": ""
            },
            "colorscale": [
             [
              0,
              "#0d0887"
             ],
             [
              0.1111111111111111,
              "#46039f"
             ],
             [
              0.2222222222222222,
              "#7201a8"
             ],
             [
              0.3333333333333333,
              "#9c179e"
             ],
             [
              0.4444444444444444,
              "#bd3786"
             ],
             [
              0.5555555555555556,
              "#d8576b"
             ],
             [
              0.6666666666666666,
              "#ed7953"
             ],
             [
              0.7777777777777778,
              "#fb9f3a"
             ],
             [
              0.8888888888888888,
              "#fdca26"
             ],
             [
              1,
              "#f0f921"
             ]
            ],
            "type": "histogram2dcontour"
           }
          ],
          "mesh3d": [
           {
            "colorbar": {
             "outlinewidth": 0,
             "ticks": ""
            },
            "type": "mesh3d"
           }
          ],
          "parcoords": [
           {
            "line": {
             "colorbar": {
              "outlinewidth": 0,
              "ticks": ""
             }
            },
            "type": "parcoords"
           }
          ],
          "pie": [
           {
            "automargin": true,
            "type": "pie"
           }
          ],
          "scatter": [
           {
            "marker": {
             "colorbar": {
              "outlinewidth": 0,
              "ticks": ""
             }
            },
            "type": "scatter"
           }
          ],
          "scatter3d": [
           {
            "line": {
             "colorbar": {
              "outlinewidth": 0,
              "ticks": ""
             }
            },
            "marker": {
             "colorbar": {
              "outlinewidth": 0,
              "ticks": ""
             }
            },
            "type": "scatter3d"
           }
          ],
          "scattercarpet": [
           {
            "marker": {
             "colorbar": {
              "outlinewidth": 0,
              "ticks": ""
             }
            },
            "type": "scattercarpet"
           }
          ],
          "scattergeo": [
           {
            "marker": {
             "colorbar": {
              "outlinewidth": 0,
              "ticks": ""
             }
            },
            "type": "scattergeo"
           }
          ],
          "scattergl": [
           {
            "marker": {
             "colorbar": {
              "outlinewidth": 0,
              "ticks": ""
             }
            },
            "type": "scattergl"
           }
          ],
          "scattermapbox": [
           {
            "marker": {
             "colorbar": {
              "outlinewidth": 0,
              "ticks": ""
             }
            },
            "type": "scattermapbox"
           }
          ],
          "scatterpolar": [
           {
            "marker": {
             "colorbar": {
              "outlinewidth": 0,
              "ticks": ""
             }
            },
            "type": "scatterpolar"
           }
          ],
          "scatterpolargl": [
           {
            "marker": {
             "colorbar": {
              "outlinewidth": 0,
              "ticks": ""
             }
            },
            "type": "scatterpolargl"
           }
          ],
          "scatterternary": [
           {
            "marker": {
             "colorbar": {
              "outlinewidth": 0,
              "ticks": ""
             }
            },
            "type": "scatterternary"
           }
          ],
          "surface": [
           {
            "colorbar": {
             "outlinewidth": 0,
             "ticks": ""
            },
            "colorscale": [
             [
              0,
              "#0d0887"
             ],
             [
              0.1111111111111111,
              "#46039f"
             ],
             [
              0.2222222222222222,
              "#7201a8"
             ],
             [
              0.3333333333333333,
              "#9c179e"
             ],
             [
              0.4444444444444444,
              "#bd3786"
             ],
             [
              0.5555555555555556,
              "#d8576b"
             ],
             [
              0.6666666666666666,
              "#ed7953"
             ],
             [
              0.7777777777777778,
              "#fb9f3a"
             ],
             [
              0.8888888888888888,
              "#fdca26"
             ],
             [
              1,
              "#f0f921"
             ]
            ],
            "type": "surface"
           }
          ],
          "table": [
           {
            "cells": {
             "fill": {
              "color": "#EBF0F8"
             },
             "line": {
              "color": "white"
             }
            },
            "header": {
             "fill": {
              "color": "#C8D4E3"
             },
             "line": {
              "color": "white"
             }
            },
            "type": "table"
           }
          ]
         },
         "layout": {
          "annotationdefaults": {
           "arrowcolor": "#2a3f5f",
           "arrowhead": 0,
           "arrowwidth": 1
          },
          "autotypenumbers": "strict",
          "coloraxis": {
           "colorbar": {
            "outlinewidth": 0,
            "ticks": ""
           }
          },
          "colorscale": {
           "diverging": [
            [
             0,
             "#8e0152"
            ],
            [
             0.1,
             "#c51b7d"
            ],
            [
             0.2,
             "#de77ae"
            ],
            [
             0.3,
             "#f1b6da"
            ],
            [
             0.4,
             "#fde0ef"
            ],
            [
             0.5,
             "#f7f7f7"
            ],
            [
             0.6,
             "#e6f5d0"
            ],
            [
             0.7,
             "#b8e186"
            ],
            [
             0.8,
             "#7fbc41"
            ],
            [
             0.9,
             "#4d9221"
            ],
            [
             1,
             "#276419"
            ]
           ],
           "sequential": [
            [
             0,
             "#0d0887"
            ],
            [
             0.1111111111111111,
             "#46039f"
            ],
            [
             0.2222222222222222,
             "#7201a8"
            ],
            [
             0.3333333333333333,
             "#9c179e"
            ],
            [
             0.4444444444444444,
             "#bd3786"
            ],
            [
             0.5555555555555556,
             "#d8576b"
            ],
            [
             0.6666666666666666,
             "#ed7953"
            ],
            [
             0.7777777777777778,
             "#fb9f3a"
            ],
            [
             0.8888888888888888,
             "#fdca26"
            ],
            [
             1,
             "#f0f921"
            ]
           ],
           "sequentialminus": [
            [
             0,
             "#0d0887"
            ],
            [
             0.1111111111111111,
             "#46039f"
            ],
            [
             0.2222222222222222,
             "#7201a8"
            ],
            [
             0.3333333333333333,
             "#9c179e"
            ],
            [
             0.4444444444444444,
             "#bd3786"
            ],
            [
             0.5555555555555556,
             "#d8576b"
            ],
            [
             0.6666666666666666,
             "#ed7953"
            ],
            [
             0.7777777777777778,
             "#fb9f3a"
            ],
            [
             0.8888888888888888,
             "#fdca26"
            ],
            [
             1,
             "#f0f921"
            ]
           ]
          },
          "colorway": [
           "#636efa",
           "#EF553B",
           "#00cc96",
           "#ab63fa",
           "#FFA15A",
           "#19d3f3",
           "#FF6692",
           "#B6E880",
           "#FF97FF",
           "#FECB52"
          ],
          "font": {
           "color": "#2a3f5f"
          },
          "geo": {
           "bgcolor": "white",
           "lakecolor": "white",
           "landcolor": "#E5ECF6",
           "showlakes": true,
           "showland": true,
           "subunitcolor": "white"
          },
          "hoverlabel": {
           "align": "left"
          },
          "hovermode": "closest",
          "mapbox": {
           "style": "light"
          },
          "paper_bgcolor": "white",
          "plot_bgcolor": "#E5ECF6",
          "polar": {
           "angularaxis": {
            "gridcolor": "white",
            "linecolor": "white",
            "ticks": ""
           },
           "bgcolor": "#E5ECF6",
           "radialaxis": {
            "gridcolor": "white",
            "linecolor": "white",
            "ticks": ""
           }
          },
          "scene": {
           "xaxis": {
            "backgroundcolor": "#E5ECF6",
            "gridcolor": "white",
            "gridwidth": 2,
            "linecolor": "white",
            "showbackground": true,
            "ticks": "",
            "zerolinecolor": "white"
           },
           "yaxis": {
            "backgroundcolor": "#E5ECF6",
            "gridcolor": "white",
            "gridwidth": 2,
            "linecolor": "white",
            "showbackground": true,
            "ticks": "",
            "zerolinecolor": "white"
           },
           "zaxis": {
            "backgroundcolor": "#E5ECF6",
            "gridcolor": "white",
            "gridwidth": 2,
            "linecolor": "white",
            "showbackground": true,
            "ticks": "",
            "zerolinecolor": "white"
           }
          },
          "shapedefaults": {
           "line": {
            "color": "#2a3f5f"
           }
          },
          "ternary": {
           "aaxis": {
            "gridcolor": "white",
            "linecolor": "white",
            "ticks": ""
           },
           "baxis": {
            "gridcolor": "white",
            "linecolor": "white",
            "ticks": ""
           },
           "bgcolor": "#E5ECF6",
           "caxis": {
            "gridcolor": "white",
            "linecolor": "white",
            "ticks": ""
           }
          },
          "title": {
           "x": 0.05
          },
          "xaxis": {
           "automargin": true,
           "gridcolor": "white",
           "linecolor": "white",
           "ticks": "",
           "title": {
            "standoff": 15
           },
           "zerolinecolor": "white",
           "zerolinewidth": 2
          },
          "yaxis": {
           "automargin": true,
           "gridcolor": "white",
           "linecolor": "white",
           "ticks": "",
           "title": {
            "standoff": 15
           },
           "zerolinecolor": "white",
           "zerolinewidth": 2
          }
         }
        },
        "title": {
         "text": "Top 100 Spotify Songs 2018"
        }
       }
      },
      "text/html": [
       "<div>                            <div id=\"1c0f0174-c497-443f-a254-9ecf8a15fada\" class=\"plotly-graph-div\" style=\"height:525px; width:100%;\"></div>            <script type=\"text/javascript\">                require([\"plotly\"], function(Plotly) {                    window.PLOTLYENV=window.PLOTLYENV || {};                                    if (document.getElementById(\"1c0f0174-c497-443f-a254-9ecf8a15fada\")) {                    Plotly.newPlot(                        \"1c0f0174-c497-443f-a254-9ecf8a15fada\",                        [{\"marker\": {\"color\": [0, 0, 2, 2, 2, 2, 1, 2, 2, 0, 2, 2, 2, 2, 0, 2, 2, 0, 3, 0, 2, 4, 3, 0, 2, 2, 0, 0, 3, 1, 2, 2, 2, 3, 0, 0, 2, 0, 3, 0, 2, 0, 1, 0, 2, 2, 2, 2, 2, 2, 0, 2, 0, 2, 2, 0, 0, 0, 0, 0, 0, 2, 3, 2, 0, 0, 2, 0, 0, 2, 0, 0, 2, 1, 1, 2, 2, 0, 2, 0, 0, 0, 0, 0, 1, 0, 0, 2, 0, 0, 2, 3, 0, 2, 3, 2, 2, 1, 2, 0]}, \"mode\": \"markers\", \"text\": [\"God's Plan\", \"SAD!\", \"rockstar (feat. 21 Savage)\", \"Psycho (feat. Ty Dolla $ign)\", \"In My Feelings\", \"Better Now\", \"I Like It\", \"One Kiss (with Dua Lipa)\", \"IDGAF\", \"FRIENDS\", \"Havana\", \"Lucid Dreams\", \"Nice For What\", \"Girls Like You (feat. Cardi B)\", \"The Middle\", \"All The Stars (with SZA)\", \"no tears left to cry\", \"X\", \"Moonlight\", \"Look Alive (feat. Drake)\", \"These Days (feat. Jess Glynne, Macklemore & Dan Caplen)\", \"Te Bot? - Remix\", \"Mine\", \"Youngblood\", \"New Rules\", \"Shape of You\", \"Love Lies (with Normani)\", \"Meant to Be (feat. Florida Georgia Line)\", \"Jocelyn Flores\", \"Perfect\", \"Taste (feat. Offset)\", \"Solo (feat. Demi Lovato)\", \"I Fall Apart\", \"Nevermind\", \"?chame La Culpa\", \"Eastside (with Halsey & Khalid)\", \"Never Be the Same\", \"Wolves\", \"changes\", \"In My Mind\", \"River (feat. Ed Sheeran)\", \"Dura\", \"SICKO MODE\", \"Thunder\", \"Me Niego\", \"Jackie Chan\", \"Finesse (Remix) [feat. Cardi B]\", \"Back To You - From 13 Reasons Why ? Season 2 Soundtrack\", \"Let You Down\", \"Call Out My Name\", \"Ric Flair Drip (& Metro Boomin)\", \"Happier\", \"Too Good At Goodbyes\", \"Freaky Friday (feat. Chris Brown)\", \"Believer\", \"FEFE (feat. Nicki Minaj & Murda Beatz)\", \"Rise\", \"Body (feat. brando)\", \"XO TOUR Llif3\", \"Sin Pijama\", \"2002\", \"Nonstop\", \"Fuck Love (feat. Trippie Redd)\", \"In My Blood\", \"Silence\", \"God is a woman\", \"D?jala que vuelva (feat. Manuel Turizo)\", \"Flames\", \"What Lovers Do\", \"Taki Taki (with Selena Gomez, Ozuna & Cardi B)\", \"Let Me Go (with Alesso, Florida Georgia Line & watt)\", \"Feel It Still\", \"Pray For Me (with Kendrick Lamar)\", \"Walk It Talk It\", \"Him & I (with Halsey)\", \"Candy Paint\", \"Congratulations\", \"1, 2, 3 (feat. Jason Derulo & De La Ghetto)\", \"Criminal\", \"Plug Walk\", \"lovely (with Khalid)\", \"Stir Fry\", \"HUMBLE.\", \"Vaina Loca\", \"Perfect Duet (Ed Sheeran & Beyonc?)\", \"Coraz?n (feat. Nego do Borel)\", \"Young Dumb & Broke\", \"S?guelo Bailando\", \"Downtown\", \"Bella\", \"Promises (with Sam Smith)\", \"Yes Indeed\", \"I Like Me Better\", \"This Is Me\", \"Everybody Dies In Their Nightmares\", \"Rewrite The Stars\", \"I Miss You (feat. Julia Michaels)\", \"No Brainer\", \"Dusk Till Dawn - Radio Edit\", \"Be Alright\"], \"type\": \"scatter\", \"x\": [\"hip-hop/rap\", \"hip-hop/rap\", \"hip-hop/rap\", \"pop\", \"hip-hop/rap\", \"hip-hop/rap\", \"hip-hop/rap\", \"electronic/dance\", \"pop\", \"pop\", \"pop\", \"hip-hop/rap\", \"hip-hop/rap\", \"pop\", \"electronic/dance\", \"hip-hop/rap\", \"pop\", \"latin\", \"hip-hop/rap\", \"hip-hop/rap\", \"electronic/dance\", \"latin\", \"r&b/soul\", \"rock\", \"pop\", \"pop\", \"r&b/soul\", \"pop\", \"hip-hop/rap\", \"pop\", \"hip-hop/rap\", \"electronic/dance\", \"pop\", \"pop\", \"latin\", \"pop\", \"pop\", \"pop\", \"hip-hop/rap\", \"electronic/dance\", \"hip-hop/rap\", \"latin\", \"hip-hop/rap\", \"pop\", \"latin\", \"electronic/dance\", \"pop\", \"pop\", \"hip-hop/rap\", \"r&b/soul\", \"hip-hop/rap\", \"electronic/dance\", \"pop\", \"hip-hop/rap\", \"rock\", \"hip-hop/rap\", \"electronic/dance\", \"electronic/dance\", \"hip-hop/rap\", \"latin\", \"pop\", \"hip-hop/rap\", \"hip-hop/rap\", \"pop\", \"r&b/soul\", \"pop\", \"latin\", \"pop\", \"rock\", \"electronic/dance\", \"pop\", \"pop\", \"r&b/soul\", \"hip-hop/rap\", \"hip-hop/rap\", \"hip-hop/rap\", \"hip-hop/rap\", \"pop\", \"pop\", \"hip-hop/rap\", \"pop\", \"hip-hop/rap\", \"hip-hop/rap\", \"latin\", \"pop\", \"latin\", \"pop\", \"latin\", \"pop\", \"latin\", \"electronic/dance\", \"hip-hop/rap\", \"pop\", \"musical\", \"hip-hop/rap\", \"musical\", \"pop\", \"pop\", \"pop\", \"pop\"], \"y\": [0, 0, 2, 2, 2, 2, 1, 2, 2, 0, 2, 2, 2, 2, 0, 2, 2, 0, 3, 0, 2, 4, 3, 0, 2, 2, 0, 0, 3, 1, 2, 2, 2, 3, 0, 0, 2, 0, 3, 0, 2, 0, 1, 0, 2, 2, 2, 2, 2, 2, 0, 2, 0, 2, 2, 0, 0, 0, 0, 0, 0, 2, 3, 2, 0, 0, 2, 0, 0, 2, 0, 0, 2, 1, 1, 2, 2, 0, 2, 0, 0, 0, 0, 0, 1, 0, 0, 2, 0, 0, 2, 3, 0, 2, 3, 2, 2, 1, 2, 0]}],                        {\"template\": {\"data\": {\"bar\": [{\"error_x\": {\"color\": \"#2a3f5f\"}, \"error_y\": {\"color\": \"#2a3f5f\"}, \"marker\": {\"line\": {\"color\": \"#E5ECF6\", \"width\": 0.5}}, \"type\": \"bar\"}], \"barpolar\": [{\"marker\": {\"line\": {\"color\": \"#E5ECF6\", \"width\": 0.5}}, \"type\": \"barpolar\"}], \"carpet\": [{\"aaxis\": {\"endlinecolor\": \"#2a3f5f\", \"gridcolor\": \"white\", \"linecolor\": \"white\", \"minorgridcolor\": \"white\", \"startlinecolor\": \"#2a3f5f\"}, \"baxis\": {\"endlinecolor\": \"#2a3f5f\", \"gridcolor\": \"white\", \"linecolor\": \"white\", \"minorgridcolor\": \"white\", \"startlinecolor\": \"#2a3f5f\"}, \"type\": \"carpet\"}], \"choropleth\": [{\"colorbar\": {\"outlinewidth\": 0, \"ticks\": \"\"}, \"type\": \"choropleth\"}], \"contour\": [{\"colorbar\": {\"outlinewidth\": 0, \"ticks\": \"\"}, \"colorscale\": [[0.0, \"#0d0887\"], [0.1111111111111111, \"#46039f\"], [0.2222222222222222, \"#7201a8\"], [0.3333333333333333, \"#9c179e\"], [0.4444444444444444, \"#bd3786\"], [0.5555555555555556, \"#d8576b\"], [0.6666666666666666, \"#ed7953\"], [0.7777777777777778, \"#fb9f3a\"], [0.8888888888888888, \"#fdca26\"], [1.0, \"#f0f921\"]], \"type\": \"contour\"}], \"contourcarpet\": [{\"colorbar\": {\"outlinewidth\": 0, \"ticks\": \"\"}, \"type\": \"contourcarpet\"}], \"heatmap\": [{\"colorbar\": {\"outlinewidth\": 0, \"ticks\": \"\"}, \"colorscale\": [[0.0, \"#0d0887\"], [0.1111111111111111, \"#46039f\"], [0.2222222222222222, \"#7201a8\"], [0.3333333333333333, \"#9c179e\"], [0.4444444444444444, \"#bd3786\"], [0.5555555555555556, \"#d8576b\"], [0.6666666666666666, \"#ed7953\"], [0.7777777777777778, \"#fb9f3a\"], [0.8888888888888888, \"#fdca26\"], [1.0, \"#f0f921\"]], \"type\": \"heatmap\"}], \"heatmapgl\": [{\"colorbar\": {\"outlinewidth\": 0, \"ticks\": \"\"}, \"colorscale\": [[0.0, \"#0d0887\"], [0.1111111111111111, \"#46039f\"], [0.2222222222222222, \"#7201a8\"], [0.3333333333333333, \"#9c179e\"], [0.4444444444444444, \"#bd3786\"], [0.5555555555555556, \"#d8576b\"], [0.6666666666666666, \"#ed7953\"], [0.7777777777777778, \"#fb9f3a\"], [0.8888888888888888, \"#fdca26\"], [1.0, \"#f0f921\"]], \"type\": \"heatmapgl\"}], \"histogram\": [{\"marker\": {\"colorbar\": {\"outlinewidth\": 0, \"ticks\": \"\"}}, \"type\": \"histogram\"}], \"histogram2d\": [{\"colorbar\": {\"outlinewidth\": 0, \"ticks\": \"\"}, \"colorscale\": [[0.0, \"#0d0887\"], [0.1111111111111111, \"#46039f\"], [0.2222222222222222, \"#7201a8\"], [0.3333333333333333, \"#9c179e\"], [0.4444444444444444, \"#bd3786\"], [0.5555555555555556, \"#d8576b\"], [0.6666666666666666, \"#ed7953\"], [0.7777777777777778, \"#fb9f3a\"], [0.8888888888888888, \"#fdca26\"], [1.0, \"#f0f921\"]], \"type\": \"histogram2d\"}], \"histogram2dcontour\": [{\"colorbar\": {\"outlinewidth\": 0, \"ticks\": \"\"}, \"colorscale\": [[0.0, \"#0d0887\"], [0.1111111111111111, \"#46039f\"], [0.2222222222222222, \"#7201a8\"], [0.3333333333333333, \"#9c179e\"], [0.4444444444444444, \"#bd3786\"], [0.5555555555555556, \"#d8576b\"], [0.6666666666666666, \"#ed7953\"], [0.7777777777777778, \"#fb9f3a\"], [0.8888888888888888, \"#fdca26\"], [1.0, \"#f0f921\"]], \"type\": \"histogram2dcontour\"}], \"mesh3d\": [{\"colorbar\": {\"outlinewidth\": 0, \"ticks\": \"\"}, \"type\": \"mesh3d\"}], \"parcoords\": [{\"line\": {\"colorbar\": {\"outlinewidth\": 0, \"ticks\": \"\"}}, \"type\": \"parcoords\"}], \"pie\": [{\"automargin\": true, \"type\": \"pie\"}], \"scatter\": [{\"marker\": {\"colorbar\": {\"outlinewidth\": 0, \"ticks\": \"\"}}, \"type\": \"scatter\"}], \"scatter3d\": [{\"line\": {\"colorbar\": {\"outlinewidth\": 0, \"ticks\": \"\"}}, \"marker\": {\"colorbar\": {\"outlinewidth\": 0, \"ticks\": \"\"}}, \"type\": \"scatter3d\"}], \"scattercarpet\": [{\"marker\": {\"colorbar\": {\"outlinewidth\": 0, \"ticks\": \"\"}}, \"type\": \"scattercarpet\"}], \"scattergeo\": [{\"marker\": {\"colorbar\": {\"outlinewidth\": 0, \"ticks\": \"\"}}, \"type\": \"scattergeo\"}], \"scattergl\": [{\"marker\": {\"colorbar\": {\"outlinewidth\": 0, \"ticks\": \"\"}}, \"type\": \"scattergl\"}], \"scattermapbox\": [{\"marker\": {\"colorbar\": {\"outlinewidth\": 0, \"ticks\": \"\"}}, \"type\": \"scattermapbox\"}], \"scatterpolar\": [{\"marker\": {\"colorbar\": {\"outlinewidth\": 0, \"ticks\": \"\"}}, \"type\": \"scatterpolar\"}], \"scatterpolargl\": [{\"marker\": {\"colorbar\": {\"outlinewidth\": 0, \"ticks\": \"\"}}, \"type\": \"scatterpolargl\"}], \"scatterternary\": [{\"marker\": {\"colorbar\": {\"outlinewidth\": 0, \"ticks\": \"\"}}, \"type\": \"scatterternary\"}], \"surface\": [{\"colorbar\": {\"outlinewidth\": 0, \"ticks\": \"\"}, \"colorscale\": [[0.0, \"#0d0887\"], [0.1111111111111111, \"#46039f\"], [0.2222222222222222, \"#7201a8\"], [0.3333333333333333, \"#9c179e\"], [0.4444444444444444, \"#bd3786\"], [0.5555555555555556, \"#d8576b\"], [0.6666666666666666, \"#ed7953\"], [0.7777777777777778, \"#fb9f3a\"], [0.8888888888888888, \"#fdca26\"], [1.0, \"#f0f921\"]], \"type\": \"surface\"}], \"table\": [{\"cells\": {\"fill\": {\"color\": \"#EBF0F8\"}, \"line\": {\"color\": \"white\"}}, \"header\": {\"fill\": {\"color\": \"#C8D4E3\"}, \"line\": {\"color\": \"white\"}}, \"type\": \"table\"}]}, \"layout\": {\"annotationdefaults\": {\"arrowcolor\": \"#2a3f5f\", \"arrowhead\": 0, \"arrowwidth\": 1}, \"autotypenumbers\": \"strict\", \"coloraxis\": {\"colorbar\": {\"outlinewidth\": 0, \"ticks\": \"\"}}, \"colorscale\": {\"diverging\": [[0, \"#8e0152\"], [0.1, \"#c51b7d\"], [0.2, \"#de77ae\"], [0.3, \"#f1b6da\"], [0.4, \"#fde0ef\"], [0.5, \"#f7f7f7\"], [0.6, \"#e6f5d0\"], [0.7, \"#b8e186\"], [0.8, \"#7fbc41\"], [0.9, \"#4d9221\"], [1, \"#276419\"]], \"sequential\": [[0.0, \"#0d0887\"], [0.1111111111111111, \"#46039f\"], [0.2222222222222222, \"#7201a8\"], [0.3333333333333333, \"#9c179e\"], [0.4444444444444444, \"#bd3786\"], [0.5555555555555556, \"#d8576b\"], [0.6666666666666666, \"#ed7953\"], [0.7777777777777778, \"#fb9f3a\"], [0.8888888888888888, \"#fdca26\"], [1.0, \"#f0f921\"]], \"sequentialminus\": [[0.0, \"#0d0887\"], [0.1111111111111111, \"#46039f\"], [0.2222222222222222, \"#7201a8\"], [0.3333333333333333, \"#9c179e\"], [0.4444444444444444, \"#bd3786\"], [0.5555555555555556, \"#d8576b\"], [0.6666666666666666, \"#ed7953\"], [0.7777777777777778, \"#fb9f3a\"], [0.8888888888888888, \"#fdca26\"], [1.0, \"#f0f921\"]]}, \"colorway\": [\"#636efa\", \"#EF553B\", \"#00cc96\", \"#ab63fa\", \"#FFA15A\", \"#19d3f3\", \"#FF6692\", \"#B6E880\", \"#FF97FF\", \"#FECB52\"], \"font\": {\"color\": \"#2a3f5f\"}, \"geo\": {\"bgcolor\": \"white\", \"lakecolor\": \"white\", \"landcolor\": \"#E5ECF6\", \"showlakes\": true, \"showland\": true, \"subunitcolor\": \"white\"}, \"hoverlabel\": {\"align\": \"left\"}, \"hovermode\": \"closest\", \"mapbox\": {\"style\": \"light\"}, \"paper_bgcolor\": \"white\", \"plot_bgcolor\": \"#E5ECF6\", \"polar\": {\"angularaxis\": {\"gridcolor\": \"white\", \"linecolor\": \"white\", \"ticks\": \"\"}, \"bgcolor\": \"#E5ECF6\", \"radialaxis\": {\"gridcolor\": \"white\", \"linecolor\": \"white\", \"ticks\": \"\"}}, \"scene\": {\"xaxis\": {\"backgroundcolor\": \"#E5ECF6\", \"gridcolor\": \"white\", \"gridwidth\": 2, \"linecolor\": \"white\", \"showbackground\": true, \"ticks\": \"\", \"zerolinecolor\": \"white\"}, \"yaxis\": {\"backgroundcolor\": \"#E5ECF6\", \"gridcolor\": \"white\", \"gridwidth\": 2, \"linecolor\": \"white\", \"showbackground\": true, \"ticks\": \"\", \"zerolinecolor\": \"white\"}, \"zaxis\": {\"backgroundcolor\": \"#E5ECF6\", \"gridcolor\": \"white\", \"gridwidth\": 2, \"linecolor\": \"white\", \"showbackground\": true, \"ticks\": \"\", \"zerolinecolor\": \"white\"}}, \"shapedefaults\": {\"line\": {\"color\": \"#2a3f5f\"}}, \"ternary\": {\"aaxis\": {\"gridcolor\": \"white\", \"linecolor\": \"white\", \"ticks\": \"\"}, \"baxis\": {\"gridcolor\": \"white\", \"linecolor\": \"white\", \"ticks\": \"\"}, \"bgcolor\": \"#E5ECF6\", \"caxis\": {\"gridcolor\": \"white\", \"linecolor\": \"white\", \"ticks\": \"\"}}, \"title\": {\"x\": 0.05}, \"xaxis\": {\"automargin\": true, \"gridcolor\": \"white\", \"linecolor\": \"white\", \"ticks\": \"\", \"title\": {\"standoff\": 15}, \"zerolinecolor\": \"white\", \"zerolinewidth\": 2}, \"yaxis\": {\"automargin\": true, \"gridcolor\": \"white\", \"linecolor\": \"white\", \"ticks\": \"\", \"title\": {\"standoff\": 15}, \"zerolinecolor\": \"white\", \"zerolinewidth\": 2}}}, \"title\": {\"text\": \"Top 100 Spotify Songs 2018\"}},                        {\"responsive\": true}                    ).then(function(){\n",
       "                            \n",
       "var gd = document.getElementById('1c0f0174-c497-443f-a254-9ecf8a15fada');\n",
       "var x = new MutationObserver(function (mutations, observer) {{\n",
       "        var display = window.getComputedStyle(gd).display;\n",
       "        if (!display || display === 'none') {{\n",
       "            console.log([gd, 'removed!']);\n",
       "            Plotly.purge(gd);\n",
       "            observer.disconnect();\n",
       "        }}\n",
       "}});\n",
       "\n",
       "// Listen for the removal of the full notebook cells\n",
       "var notebookContainer = gd.closest('#notebook-container');\n",
       "if (notebookContainer) {{\n",
       "    x.observe(notebookContainer, {childList: true});\n",
       "}}\n",
       "\n",
       "// Listen for the clearing of the current output cell\n",
       "var outputEl = gd.closest('.output');\n",
       "if (outputEl) {{\n",
       "    x.observe(outputEl, {childList: true});\n",
       "}}\n",
       "\n",
       "                        })                };                });            </script>        </div>"
      ]
     },
     "metadata": {},
     "output_type": "display_data"
    }
   ],
   "source": [
    "i = df.index\n",
    "\n",
    "fig1 = go.Figure(data=go.Scatter(x=df['genre2'],\n",
    "                                y=df['label'],\n",
    "                                mode='markers',\n",
    "                                marker_color=df['label'],\n",
    "                                text=df['name'])) # hover text goes here\n",
    "\n",
    "fig1.update_layout(title='Top 100 Spotify Songs 2018')\n",
    "fig1.show()"
   ]
  },
  {
   "cell_type": "code",
   "execution_count": 8,
   "metadata": {},
   "outputs": [],
   "source": [
    "# two clusters - 0 and 2 - seem to encompass all contemporary genres.\n",
    "# songs in 0 are speechier and more instrumental than 2 \n",
    "# more hard-hitting trap songs like HUMBLE. by Kendrick Lamar and in 0\n",
    "# more pop songs like Congratulations by Post Malone, Happier by Marshmellow in 2\n",
    "# 0 tends to be a little dancier, instrumental, and wordy, while 2 are more catchy and heartfelt tunes.\n",
    "# 3 is the XXXTentacion cluster, 4 is the Te Bote cluster\n",
    "# 1 has two tracks with the least instrumentalness, and above average liveliness and duration than other clusters\n"
   ]
  },
  {
   "cell_type": "code",
   "execution_count": 11,
   "metadata": {},
   "outputs": [
    {
     "data": {
      "application/vnd.plotly.v1+json": {
       "config": {
        "plotlyServerURL": "https://plot.ly"
       },
       "data": [
        {
         "marker": {
          "color": [
           0,
           0,
           2,
           2,
           2,
           2,
           1,
           2,
           2,
           0,
           2,
           2,
           2,
           2,
           0,
           2,
           2,
           0,
           3,
           0,
           2,
           4,
           3,
           0,
           2,
           2,
           0,
           0,
           3,
           1,
           2,
           2,
           2,
           3,
           0,
           0,
           2,
           0,
           3,
           0,
           2,
           0,
           1,
           0,
           2,
           2,
           2,
           2,
           2,
           2,
           0,
           2,
           0,
           2,
           2,
           0,
           0,
           0,
           0,
           0,
           0,
           2,
           3,
           2,
           0,
           0,
           2,
           0,
           0,
           2,
           0,
           0,
           2,
           1,
           1,
           2,
           2,
           0,
           2,
           0,
           0,
           0,
           0,
           0,
           1,
           0,
           0,
           2,
           0,
           0,
           2,
           3,
           0,
           2,
           3,
           2,
           2,
           1,
           2,
           0
          ]
         },
         "mode": "markers",
         "text": [
          "God's Plan",
          "SAD!",
          "rockstar (feat. 21 Savage)",
          "Psycho (feat. Ty Dolla $ign)",
          "In My Feelings",
          "Better Now",
          "I Like It",
          "One Kiss (with Dua Lipa)",
          "IDGAF",
          "FRIENDS",
          "Havana",
          "Lucid Dreams",
          "Nice For What",
          "Girls Like You (feat. Cardi B)",
          "The Middle",
          "All The Stars (with SZA)",
          "no tears left to cry",
          "X",
          "Moonlight",
          "Look Alive (feat. Drake)",
          "These Days (feat. Jess Glynne, Macklemore & Dan Caplen)",
          "Te Bot? - Remix",
          "Mine",
          "Youngblood",
          "New Rules",
          "Shape of You",
          "Love Lies (with Normani)",
          "Meant to Be (feat. Florida Georgia Line)",
          "Jocelyn Flores",
          "Perfect",
          "Taste (feat. Offset)",
          "Solo (feat. Demi Lovato)",
          "I Fall Apart",
          "Nevermind",
          "?chame La Culpa",
          "Eastside (with Halsey & Khalid)",
          "Never Be the Same",
          "Wolves",
          "changes",
          "In My Mind",
          "River (feat. Ed Sheeran)",
          "Dura",
          "SICKO MODE",
          "Thunder",
          "Me Niego",
          "Jackie Chan",
          "Finesse (Remix) [feat. Cardi B]",
          "Back To You - From 13 Reasons Why ? Season 2 Soundtrack",
          "Let You Down",
          "Call Out My Name",
          "Ric Flair Drip (& Metro Boomin)",
          "Happier",
          "Too Good At Goodbyes",
          "Freaky Friday (feat. Chris Brown)",
          "Believer",
          "FEFE (feat. Nicki Minaj & Murda Beatz)",
          "Rise",
          "Body (feat. brando)",
          "XO TOUR Llif3",
          "Sin Pijama",
          "2002",
          "Nonstop",
          "Fuck Love (feat. Trippie Redd)",
          "In My Blood",
          "Silence",
          "God is a woman",
          "D?jala que vuelva (feat. Manuel Turizo)",
          "Flames",
          "What Lovers Do",
          "Taki Taki (with Selena Gomez, Ozuna & Cardi B)",
          "Let Me Go (with Alesso, Florida Georgia Line & watt)",
          "Feel It Still",
          "Pray For Me (with Kendrick Lamar)",
          "Walk It Talk It",
          "Him & I (with Halsey)",
          "Candy Paint",
          "Congratulations",
          "1, 2, 3 (feat. Jason Derulo & De La Ghetto)",
          "Criminal",
          "Plug Walk",
          "lovely (with Khalid)",
          "Stir Fry",
          "HUMBLE.",
          "Vaina Loca",
          "Perfect Duet (Ed Sheeran & Beyonc?)",
          "Coraz?n (feat. Nego do Borel)",
          "Young Dumb & Broke",
          "S?guelo Bailando",
          "Downtown",
          "Bella",
          "Promises (with Sam Smith)",
          "Yes Indeed",
          "I Like Me Better",
          "This Is Me",
          "Everybody Dies In Their Nightmares",
          "Rewrite The Stars",
          "I Miss You (feat. Julia Michaels)",
          "No Brainer",
          "Dusk Till Dawn - Radio Edit",
          "Be Alright"
         ],
         "type": "scatter",
         "x": [
          0,
          0,
          2,
          2,
          2,
          2,
          1,
          2,
          2,
          0,
          2,
          2,
          2,
          2,
          0,
          2,
          2,
          0,
          3,
          0,
          2,
          4,
          3,
          0,
          2,
          2,
          0,
          0,
          3,
          1,
          2,
          2,
          2,
          3,
          0,
          0,
          2,
          0,
          3,
          0,
          2,
          0,
          1,
          0,
          2,
          2,
          2,
          2,
          2,
          2,
          0,
          2,
          0,
          2,
          2,
          0,
          0,
          0,
          0,
          0,
          0,
          2,
          3,
          2,
          0,
          0,
          2,
          0,
          0,
          2,
          0,
          0,
          2,
          1,
          1,
          2,
          2,
          0,
          2,
          0,
          0,
          0,
          0,
          0,
          1,
          0,
          0,
          2,
          0,
          0,
          2,
          3,
          0,
          2,
          3,
          2,
          2,
          1,
          2,
          0
         ],
         "y": [
          0.754,
          0.74,
          0.5870000000000001,
          0.7390000000000001,
          0.835,
          0.68,
          0.816,
          0.7909999999999999,
          0.836,
          0.626,
          0.765,
          0.511,
          0.586,
          0.851,
          0.753,
          0.698,
          0.6990000000000001,
          0.595,
          0.9209999999999999,
          0.922,
          0.653,
          0.903,
          0.71,
          0.596,
          0.762,
          0.825,
          0.708,
          0.642,
          0.872,
          0.599,
          0.884,
          0.737,
          0.556,
          0.5920000000000001,
          0.726,
          0.56,
          0.637,
          0.72,
          0.669,
          0.6940000000000001,
          0.748,
          0.7909999999999999,
          0.8340000000000001,
          0.605,
          0.777,
          0.747,
          0.7040000000000001,
          0.601,
          0.6559999999999999,
          0.489,
          0.88,
          0.687,
          0.698,
          0.755,
          0.7759999999999999,
          0.9309999999999999,
          0.687,
          0.752,
          0.732,
          0.7909999999999999,
          0.6970000000000001,
          0.912,
          0.797,
          0.622,
          0.52,
          0.602,
          0.6809999999999999,
          0.631,
          0.799,
          0.841,
          0.6629999999999999,
          0.8009999999999999,
          0.735,
          0.909,
          0.589,
          0.67,
          0.63,
          0.792,
          0.8140000000000001,
          0.8759999999999999,
          0.35100000000000003,
          0.815,
          0.9079999999999999,
          0.754,
          0.5870000000000001,
          0.722,
          0.7979999999999999,
          0.855,
          0.775,
          0.909,
          0.7809999999999999,
          0.9640000000000001,
          0.752,
          0.284,
          0.7340000000000001,
          0.684,
          0.638,
          0.552,
          0.258,
          0.5529999999999999
         ]
        }
       ],
       "layout": {
        "template": {
         "data": {
          "bar": [
           {
            "error_x": {
             "color": "#2a3f5f"
            },
            "error_y": {
             "color": "#2a3f5f"
            },
            "marker": {
             "line": {
              "color": "#E5ECF6",
              "width": 0.5
             }
            },
            "type": "bar"
           }
          ],
          "barpolar": [
           {
            "marker": {
             "line": {
              "color": "#E5ECF6",
              "width": 0.5
             }
            },
            "type": "barpolar"
           }
          ],
          "carpet": [
           {
            "aaxis": {
             "endlinecolor": "#2a3f5f",
             "gridcolor": "white",
             "linecolor": "white",
             "minorgridcolor": "white",
             "startlinecolor": "#2a3f5f"
            },
            "baxis": {
             "endlinecolor": "#2a3f5f",
             "gridcolor": "white",
             "linecolor": "white",
             "minorgridcolor": "white",
             "startlinecolor": "#2a3f5f"
            },
            "type": "carpet"
           }
          ],
          "choropleth": [
           {
            "colorbar": {
             "outlinewidth": 0,
             "ticks": ""
            },
            "type": "choropleth"
           }
          ],
          "contour": [
           {
            "colorbar": {
             "outlinewidth": 0,
             "ticks": ""
            },
            "colorscale": [
             [
              0,
              "#0d0887"
             ],
             [
              0.1111111111111111,
              "#46039f"
             ],
             [
              0.2222222222222222,
              "#7201a8"
             ],
             [
              0.3333333333333333,
              "#9c179e"
             ],
             [
              0.4444444444444444,
              "#bd3786"
             ],
             [
              0.5555555555555556,
              "#d8576b"
             ],
             [
              0.6666666666666666,
              "#ed7953"
             ],
             [
              0.7777777777777778,
              "#fb9f3a"
             ],
             [
              0.8888888888888888,
              "#fdca26"
             ],
             [
              1,
              "#f0f921"
             ]
            ],
            "type": "contour"
           }
          ],
          "contourcarpet": [
           {
            "colorbar": {
             "outlinewidth": 0,
             "ticks": ""
            },
            "type": "contourcarpet"
           }
          ],
          "heatmap": [
           {
            "colorbar": {
             "outlinewidth": 0,
             "ticks": ""
            },
            "colorscale": [
             [
              0,
              "#0d0887"
             ],
             [
              0.1111111111111111,
              "#46039f"
             ],
             [
              0.2222222222222222,
              "#7201a8"
             ],
             [
              0.3333333333333333,
              "#9c179e"
             ],
             [
              0.4444444444444444,
              "#bd3786"
             ],
             [
              0.5555555555555556,
              "#d8576b"
             ],
             [
              0.6666666666666666,
              "#ed7953"
             ],
             [
              0.7777777777777778,
              "#fb9f3a"
             ],
             [
              0.8888888888888888,
              "#fdca26"
             ],
             [
              1,
              "#f0f921"
             ]
            ],
            "type": "heatmap"
           }
          ],
          "heatmapgl": [
           {
            "colorbar": {
             "outlinewidth": 0,
             "ticks": ""
            },
            "colorscale": [
             [
              0,
              "#0d0887"
             ],
             [
              0.1111111111111111,
              "#46039f"
             ],
             [
              0.2222222222222222,
              "#7201a8"
             ],
             [
              0.3333333333333333,
              "#9c179e"
             ],
             [
              0.4444444444444444,
              "#bd3786"
             ],
             [
              0.5555555555555556,
              "#d8576b"
             ],
             [
              0.6666666666666666,
              "#ed7953"
             ],
             [
              0.7777777777777778,
              "#fb9f3a"
             ],
             [
              0.8888888888888888,
              "#fdca26"
             ],
             [
              1,
              "#f0f921"
             ]
            ],
            "type": "heatmapgl"
           }
          ],
          "histogram": [
           {
            "marker": {
             "colorbar": {
              "outlinewidth": 0,
              "ticks": ""
             }
            },
            "type": "histogram"
           }
          ],
          "histogram2d": [
           {
            "colorbar": {
             "outlinewidth": 0,
             "ticks": ""
            },
            "colorscale": [
             [
              0,
              "#0d0887"
             ],
             [
              0.1111111111111111,
              "#46039f"
             ],
             [
              0.2222222222222222,
              "#7201a8"
             ],
             [
              0.3333333333333333,
              "#9c179e"
             ],
             [
              0.4444444444444444,
              "#bd3786"
             ],
             [
              0.5555555555555556,
              "#d8576b"
             ],
             [
              0.6666666666666666,
              "#ed7953"
             ],
             [
              0.7777777777777778,
              "#fb9f3a"
             ],
             [
              0.8888888888888888,
              "#fdca26"
             ],
             [
              1,
              "#f0f921"
             ]
            ],
            "type": "histogram2d"
           }
          ],
          "histogram2dcontour": [
           {
            "colorbar": {
             "outlinewidth": 0,
             "ticks": ""
            },
            "colorscale": [
             [
              0,
              "#0d0887"
             ],
             [
              0.1111111111111111,
              "#46039f"
             ],
             [
              0.2222222222222222,
              "#7201a8"
             ],
             [
              0.3333333333333333,
              "#9c179e"
             ],
             [
              0.4444444444444444,
              "#bd3786"
             ],
             [
              0.5555555555555556,
              "#d8576b"
             ],
             [
              0.6666666666666666,
              "#ed7953"
             ],
             [
              0.7777777777777778,
              "#fb9f3a"
             ],
             [
              0.8888888888888888,
              "#fdca26"
             ],
             [
              1,
              "#f0f921"
             ]
            ],
            "type": "histogram2dcontour"
           }
          ],
          "mesh3d": [
           {
            "colorbar": {
             "outlinewidth": 0,
             "ticks": ""
            },
            "type": "mesh3d"
           }
          ],
          "parcoords": [
           {
            "line": {
             "colorbar": {
              "outlinewidth": 0,
              "ticks": ""
             }
            },
            "type": "parcoords"
           }
          ],
          "pie": [
           {
            "automargin": true,
            "type": "pie"
           }
          ],
          "scatter": [
           {
            "marker": {
             "colorbar": {
              "outlinewidth": 0,
              "ticks": ""
             }
            },
            "type": "scatter"
           }
          ],
          "scatter3d": [
           {
            "line": {
             "colorbar": {
              "outlinewidth": 0,
              "ticks": ""
             }
            },
            "marker": {
             "colorbar": {
              "outlinewidth": 0,
              "ticks": ""
             }
            },
            "type": "scatter3d"
           }
          ],
          "scattercarpet": [
           {
            "marker": {
             "colorbar": {
              "outlinewidth": 0,
              "ticks": ""
             }
            },
            "type": "scattercarpet"
           }
          ],
          "scattergeo": [
           {
            "marker": {
             "colorbar": {
              "outlinewidth": 0,
              "ticks": ""
             }
            },
            "type": "scattergeo"
           }
          ],
          "scattergl": [
           {
            "marker": {
             "colorbar": {
              "outlinewidth": 0,
              "ticks": ""
             }
            },
            "type": "scattergl"
           }
          ],
          "scattermapbox": [
           {
            "marker": {
             "colorbar": {
              "outlinewidth": 0,
              "ticks": ""
             }
            },
            "type": "scattermapbox"
           }
          ],
          "scatterpolar": [
           {
            "marker": {
             "colorbar": {
              "outlinewidth": 0,
              "ticks": ""
             }
            },
            "type": "scatterpolar"
           }
          ],
          "scatterpolargl": [
           {
            "marker": {
             "colorbar": {
              "outlinewidth": 0,
              "ticks": ""
             }
            },
            "type": "scatterpolargl"
           }
          ],
          "scatterternary": [
           {
            "marker": {
             "colorbar": {
              "outlinewidth": 0,
              "ticks": ""
             }
            },
            "type": "scatterternary"
           }
          ],
          "surface": [
           {
            "colorbar": {
             "outlinewidth": 0,
             "ticks": ""
            },
            "colorscale": [
             [
              0,
              "#0d0887"
             ],
             [
              0.1111111111111111,
              "#46039f"
             ],
             [
              0.2222222222222222,
              "#7201a8"
             ],
             [
              0.3333333333333333,
              "#9c179e"
             ],
             [
              0.4444444444444444,
              "#bd3786"
             ],
             [
              0.5555555555555556,
              "#d8576b"
             ],
             [
              0.6666666666666666,
              "#ed7953"
             ],
             [
              0.7777777777777778,
              "#fb9f3a"
             ],
             [
              0.8888888888888888,
              "#fdca26"
             ],
             [
              1,
              "#f0f921"
             ]
            ],
            "type": "surface"
           }
          ],
          "table": [
           {
            "cells": {
             "fill": {
              "color": "#EBF0F8"
             },
             "line": {
              "color": "white"
             }
            },
            "header": {
             "fill": {
              "color": "#C8D4E3"
             },
             "line": {
              "color": "white"
             }
            },
            "type": "table"
           }
          ]
         },
         "layout": {
          "annotationdefaults": {
           "arrowcolor": "#2a3f5f",
           "arrowhead": 0,
           "arrowwidth": 1
          },
          "autotypenumbers": "strict",
          "coloraxis": {
           "colorbar": {
            "outlinewidth": 0,
            "ticks": ""
           }
          },
          "colorscale": {
           "diverging": [
            [
             0,
             "#8e0152"
            ],
            [
             0.1,
             "#c51b7d"
            ],
            [
             0.2,
             "#de77ae"
            ],
            [
             0.3,
             "#f1b6da"
            ],
            [
             0.4,
             "#fde0ef"
            ],
            [
             0.5,
             "#f7f7f7"
            ],
            [
             0.6,
             "#e6f5d0"
            ],
            [
             0.7,
             "#b8e186"
            ],
            [
             0.8,
             "#7fbc41"
            ],
            [
             0.9,
             "#4d9221"
            ],
            [
             1,
             "#276419"
            ]
           ],
           "sequential": [
            [
             0,
             "#0d0887"
            ],
            [
             0.1111111111111111,
             "#46039f"
            ],
            [
             0.2222222222222222,
             "#7201a8"
            ],
            [
             0.3333333333333333,
             "#9c179e"
            ],
            [
             0.4444444444444444,
             "#bd3786"
            ],
            [
             0.5555555555555556,
             "#d8576b"
            ],
            [
             0.6666666666666666,
             "#ed7953"
            ],
            [
             0.7777777777777778,
             "#fb9f3a"
            ],
            [
             0.8888888888888888,
             "#fdca26"
            ],
            [
             1,
             "#f0f921"
            ]
           ],
           "sequentialminus": [
            [
             0,
             "#0d0887"
            ],
            [
             0.1111111111111111,
             "#46039f"
            ],
            [
             0.2222222222222222,
             "#7201a8"
            ],
            [
             0.3333333333333333,
             "#9c179e"
            ],
            [
             0.4444444444444444,
             "#bd3786"
            ],
            [
             0.5555555555555556,
             "#d8576b"
            ],
            [
             0.6666666666666666,
             "#ed7953"
            ],
            [
             0.7777777777777778,
             "#fb9f3a"
            ],
            [
             0.8888888888888888,
             "#fdca26"
            ],
            [
             1,
             "#f0f921"
            ]
           ]
          },
          "colorway": [
           "#636efa",
           "#EF553B",
           "#00cc96",
           "#ab63fa",
           "#FFA15A",
           "#19d3f3",
           "#FF6692",
           "#B6E880",
           "#FF97FF",
           "#FECB52"
          ],
          "font": {
           "color": "#2a3f5f"
          },
          "geo": {
           "bgcolor": "white",
           "lakecolor": "white",
           "landcolor": "#E5ECF6",
           "showlakes": true,
           "showland": true,
           "subunitcolor": "white"
          },
          "hoverlabel": {
           "align": "left"
          },
          "hovermode": "closest",
          "mapbox": {
           "style": "light"
          },
          "paper_bgcolor": "white",
          "plot_bgcolor": "#E5ECF6",
          "polar": {
           "angularaxis": {
            "gridcolor": "white",
            "linecolor": "white",
            "ticks": ""
           },
           "bgcolor": "#E5ECF6",
           "radialaxis": {
            "gridcolor": "white",
            "linecolor": "white",
            "ticks": ""
           }
          },
          "scene": {
           "xaxis": {
            "backgroundcolor": "#E5ECF6",
            "gridcolor": "white",
            "gridwidth": 2,
            "linecolor": "white",
            "showbackground": true,
            "ticks": "",
            "zerolinecolor": "white"
           },
           "yaxis": {
            "backgroundcolor": "#E5ECF6",
            "gridcolor": "white",
            "gridwidth": 2,
            "linecolor": "white",
            "showbackground": true,
            "ticks": "",
            "zerolinecolor": "white"
           },
           "zaxis": {
            "backgroundcolor": "#E5ECF6",
            "gridcolor": "white",
            "gridwidth": 2,
            "linecolor": "white",
            "showbackground": true,
            "ticks": "",
            "zerolinecolor": "white"
           }
          },
          "shapedefaults": {
           "line": {
            "color": "#2a3f5f"
           }
          },
          "ternary": {
           "aaxis": {
            "gridcolor": "white",
            "linecolor": "white",
            "ticks": ""
           },
           "baxis": {
            "gridcolor": "white",
            "linecolor": "white",
            "ticks": ""
           },
           "bgcolor": "#E5ECF6",
           "caxis": {
            "gridcolor": "white",
            "linecolor": "white",
            "ticks": ""
           }
          },
          "title": {
           "x": 0.05
          },
          "xaxis": {
           "automargin": true,
           "gridcolor": "white",
           "linecolor": "white",
           "ticks": "",
           "title": {
            "standoff": 15
           },
           "zerolinecolor": "white",
           "zerolinewidth": 2
          },
          "yaxis": {
           "automargin": true,
           "gridcolor": "white",
           "linecolor": "white",
           "ticks": "",
           "title": {
            "standoff": 15
           },
           "zerolinecolor": "white",
           "zerolinewidth": 2
          }
         }
        },
        "title": {
         "text": "Top 100 Spotify Songs 2018"
        }
       }
      },
      "text/html": [
       "<div>                            <div id=\"3ec90f7c-1698-4036-8148-7cb6e4257014\" class=\"plotly-graph-div\" style=\"height:525px; width:100%;\"></div>            <script type=\"text/javascript\">                require([\"plotly\"], function(Plotly) {                    window.PLOTLYENV=window.PLOTLYENV || {};                                    if (document.getElementById(\"3ec90f7c-1698-4036-8148-7cb6e4257014\")) {                    Plotly.newPlot(                        \"3ec90f7c-1698-4036-8148-7cb6e4257014\",                        [{\"marker\": {\"color\": [0, 0, 2, 2, 2, 2, 1, 2, 2, 0, 2, 2, 2, 2, 0, 2, 2, 0, 3, 0, 2, 4, 3, 0, 2, 2, 0, 0, 3, 1, 2, 2, 2, 3, 0, 0, 2, 0, 3, 0, 2, 0, 1, 0, 2, 2, 2, 2, 2, 2, 0, 2, 0, 2, 2, 0, 0, 0, 0, 0, 0, 2, 3, 2, 0, 0, 2, 0, 0, 2, 0, 0, 2, 1, 1, 2, 2, 0, 2, 0, 0, 0, 0, 0, 1, 0, 0, 2, 0, 0, 2, 3, 0, 2, 3, 2, 2, 1, 2, 0]}, \"mode\": \"markers\", \"text\": [\"God's Plan\", \"SAD!\", \"rockstar (feat. 21 Savage)\", \"Psycho (feat. Ty Dolla $ign)\", \"In My Feelings\", \"Better Now\", \"I Like It\", \"One Kiss (with Dua Lipa)\", \"IDGAF\", \"FRIENDS\", \"Havana\", \"Lucid Dreams\", \"Nice For What\", \"Girls Like You (feat. Cardi B)\", \"The Middle\", \"All The Stars (with SZA)\", \"no tears left to cry\", \"X\", \"Moonlight\", \"Look Alive (feat. Drake)\", \"These Days (feat. Jess Glynne, Macklemore & Dan Caplen)\", \"Te Bot? - Remix\", \"Mine\", \"Youngblood\", \"New Rules\", \"Shape of You\", \"Love Lies (with Normani)\", \"Meant to Be (feat. Florida Georgia Line)\", \"Jocelyn Flores\", \"Perfect\", \"Taste (feat. Offset)\", \"Solo (feat. Demi Lovato)\", \"I Fall Apart\", \"Nevermind\", \"?chame La Culpa\", \"Eastside (with Halsey & Khalid)\", \"Never Be the Same\", \"Wolves\", \"changes\", \"In My Mind\", \"River (feat. Ed Sheeran)\", \"Dura\", \"SICKO MODE\", \"Thunder\", \"Me Niego\", \"Jackie Chan\", \"Finesse (Remix) [feat. Cardi B]\", \"Back To You - From 13 Reasons Why ? Season 2 Soundtrack\", \"Let You Down\", \"Call Out My Name\", \"Ric Flair Drip (& Metro Boomin)\", \"Happier\", \"Too Good At Goodbyes\", \"Freaky Friday (feat. Chris Brown)\", \"Believer\", \"FEFE (feat. Nicki Minaj & Murda Beatz)\", \"Rise\", \"Body (feat. brando)\", \"XO TOUR Llif3\", \"Sin Pijama\", \"2002\", \"Nonstop\", \"Fuck Love (feat. Trippie Redd)\", \"In My Blood\", \"Silence\", \"God is a woman\", \"D?jala que vuelva (feat. Manuel Turizo)\", \"Flames\", \"What Lovers Do\", \"Taki Taki (with Selena Gomez, Ozuna & Cardi B)\", \"Let Me Go (with Alesso, Florida Georgia Line & watt)\", \"Feel It Still\", \"Pray For Me (with Kendrick Lamar)\", \"Walk It Talk It\", \"Him & I (with Halsey)\", \"Candy Paint\", \"Congratulations\", \"1, 2, 3 (feat. Jason Derulo & De La Ghetto)\", \"Criminal\", \"Plug Walk\", \"lovely (with Khalid)\", \"Stir Fry\", \"HUMBLE.\", \"Vaina Loca\", \"Perfect Duet (Ed Sheeran & Beyonc?)\", \"Coraz?n (feat. Nego do Borel)\", \"Young Dumb & Broke\", \"S?guelo Bailando\", \"Downtown\", \"Bella\", \"Promises (with Sam Smith)\", \"Yes Indeed\", \"I Like Me Better\", \"This Is Me\", \"Everybody Dies In Their Nightmares\", \"Rewrite The Stars\", \"I Miss You (feat. Julia Michaels)\", \"No Brainer\", \"Dusk Till Dawn - Radio Edit\", \"Be Alright\"], \"type\": \"scatter\", \"x\": [0, 0, 2, 2, 2, 2, 1, 2, 2, 0, 2, 2, 2, 2, 0, 2, 2, 0, 3, 0, 2, 4, 3, 0, 2, 2, 0, 0, 3, 1, 2, 2, 2, 3, 0, 0, 2, 0, 3, 0, 2, 0, 1, 0, 2, 2, 2, 2, 2, 2, 0, 2, 0, 2, 2, 0, 0, 0, 0, 0, 0, 2, 3, 2, 0, 0, 2, 0, 0, 2, 0, 0, 2, 1, 1, 2, 2, 0, 2, 0, 0, 0, 0, 0, 1, 0, 0, 2, 0, 0, 2, 3, 0, 2, 3, 2, 2, 1, 2, 0], \"y\": [0.754, 0.74, 0.5870000000000001, 0.7390000000000001, 0.835, 0.68, 0.816, 0.7909999999999999, 0.836, 0.626, 0.765, 0.511, 0.586, 0.851, 0.753, 0.698, 0.6990000000000001, 0.595, 0.9209999999999999, 0.922, 0.653, 0.903, 0.71, 0.596, 0.762, 0.825, 0.708, 0.642, 0.872, 0.599, 0.884, 0.737, 0.556, 0.5920000000000001, 0.726, 0.56, 0.637, 0.72, 0.669, 0.6940000000000001, 0.748, 0.7909999999999999, 0.8340000000000001, 0.605, 0.777, 0.747, 0.7040000000000001, 0.601, 0.6559999999999999, 0.489, 0.88, 0.687, 0.698, 0.755, 0.7759999999999999, 0.9309999999999999, 0.687, 0.752, 0.732, 0.7909999999999999, 0.6970000000000001, 0.912, 0.797, 0.622, 0.52, 0.602, 0.6809999999999999, 0.631, 0.799, 0.841, 0.6629999999999999, 0.8009999999999999, 0.735, 0.909, 0.589, 0.67, 0.63, 0.792, 0.8140000000000001, 0.8759999999999999, 0.35100000000000003, 0.815, 0.9079999999999999, 0.754, 0.5870000000000001, 0.722, 0.7979999999999999, 0.855, 0.775, 0.909, 0.7809999999999999, 0.9640000000000001, 0.752, 0.284, 0.7340000000000001, 0.684, 0.638, 0.552, 0.258, 0.5529999999999999]}],                        {\"template\": {\"data\": {\"bar\": [{\"error_x\": {\"color\": \"#2a3f5f\"}, \"error_y\": {\"color\": \"#2a3f5f\"}, \"marker\": {\"line\": {\"color\": \"#E5ECF6\", \"width\": 0.5}}, \"type\": \"bar\"}], \"barpolar\": [{\"marker\": {\"line\": {\"color\": \"#E5ECF6\", \"width\": 0.5}}, \"type\": \"barpolar\"}], \"carpet\": [{\"aaxis\": {\"endlinecolor\": \"#2a3f5f\", \"gridcolor\": \"white\", \"linecolor\": \"white\", \"minorgridcolor\": \"white\", \"startlinecolor\": \"#2a3f5f\"}, \"baxis\": {\"endlinecolor\": \"#2a3f5f\", \"gridcolor\": \"white\", \"linecolor\": \"white\", \"minorgridcolor\": \"white\", \"startlinecolor\": \"#2a3f5f\"}, \"type\": \"carpet\"}], \"choropleth\": [{\"colorbar\": {\"outlinewidth\": 0, \"ticks\": \"\"}, \"type\": \"choropleth\"}], \"contour\": [{\"colorbar\": {\"outlinewidth\": 0, \"ticks\": \"\"}, \"colorscale\": [[0.0, \"#0d0887\"], [0.1111111111111111, \"#46039f\"], [0.2222222222222222, \"#7201a8\"], [0.3333333333333333, \"#9c179e\"], [0.4444444444444444, \"#bd3786\"], [0.5555555555555556, \"#d8576b\"], [0.6666666666666666, \"#ed7953\"], [0.7777777777777778, \"#fb9f3a\"], [0.8888888888888888, \"#fdca26\"], [1.0, \"#f0f921\"]], \"type\": \"contour\"}], \"contourcarpet\": [{\"colorbar\": {\"outlinewidth\": 0, \"ticks\": \"\"}, \"type\": \"contourcarpet\"}], \"heatmap\": [{\"colorbar\": {\"outlinewidth\": 0, \"ticks\": \"\"}, \"colorscale\": [[0.0, \"#0d0887\"], [0.1111111111111111, \"#46039f\"], [0.2222222222222222, \"#7201a8\"], [0.3333333333333333, \"#9c179e\"], [0.4444444444444444, \"#bd3786\"], [0.5555555555555556, \"#d8576b\"], [0.6666666666666666, \"#ed7953\"], [0.7777777777777778, \"#fb9f3a\"], [0.8888888888888888, \"#fdca26\"], [1.0, \"#f0f921\"]], \"type\": \"heatmap\"}], \"heatmapgl\": [{\"colorbar\": {\"outlinewidth\": 0, \"ticks\": \"\"}, \"colorscale\": [[0.0, \"#0d0887\"], [0.1111111111111111, \"#46039f\"], [0.2222222222222222, \"#7201a8\"], [0.3333333333333333, \"#9c179e\"], [0.4444444444444444, \"#bd3786\"], [0.5555555555555556, \"#d8576b\"], [0.6666666666666666, \"#ed7953\"], [0.7777777777777778, \"#fb9f3a\"], [0.8888888888888888, \"#fdca26\"], [1.0, \"#f0f921\"]], \"type\": \"heatmapgl\"}], \"histogram\": [{\"marker\": {\"colorbar\": {\"outlinewidth\": 0, \"ticks\": \"\"}}, \"type\": \"histogram\"}], \"histogram2d\": [{\"colorbar\": {\"outlinewidth\": 0, \"ticks\": \"\"}, \"colorscale\": [[0.0, \"#0d0887\"], [0.1111111111111111, \"#46039f\"], [0.2222222222222222, \"#7201a8\"], [0.3333333333333333, \"#9c179e\"], [0.4444444444444444, \"#bd3786\"], [0.5555555555555556, \"#d8576b\"], [0.6666666666666666, \"#ed7953\"], [0.7777777777777778, \"#fb9f3a\"], [0.8888888888888888, \"#fdca26\"], [1.0, \"#f0f921\"]], \"type\": \"histogram2d\"}], \"histogram2dcontour\": [{\"colorbar\": {\"outlinewidth\": 0, \"ticks\": \"\"}, \"colorscale\": [[0.0, \"#0d0887\"], [0.1111111111111111, \"#46039f\"], [0.2222222222222222, \"#7201a8\"], [0.3333333333333333, \"#9c179e\"], [0.4444444444444444, \"#bd3786\"], [0.5555555555555556, \"#d8576b\"], [0.6666666666666666, \"#ed7953\"], [0.7777777777777778, \"#fb9f3a\"], [0.8888888888888888, \"#fdca26\"], [1.0, \"#f0f921\"]], \"type\": \"histogram2dcontour\"}], \"mesh3d\": [{\"colorbar\": {\"outlinewidth\": 0, \"ticks\": \"\"}, \"type\": \"mesh3d\"}], \"parcoords\": [{\"line\": {\"colorbar\": {\"outlinewidth\": 0, \"ticks\": \"\"}}, \"type\": \"parcoords\"}], \"pie\": [{\"automargin\": true, \"type\": \"pie\"}], \"scatter\": [{\"marker\": {\"colorbar\": {\"outlinewidth\": 0, \"ticks\": \"\"}}, \"type\": \"scatter\"}], \"scatter3d\": [{\"line\": {\"colorbar\": {\"outlinewidth\": 0, \"ticks\": \"\"}}, \"marker\": {\"colorbar\": {\"outlinewidth\": 0, \"ticks\": \"\"}}, \"type\": \"scatter3d\"}], \"scattercarpet\": [{\"marker\": {\"colorbar\": {\"outlinewidth\": 0, \"ticks\": \"\"}}, \"type\": \"scattercarpet\"}], \"scattergeo\": [{\"marker\": {\"colorbar\": {\"outlinewidth\": 0, \"ticks\": \"\"}}, \"type\": \"scattergeo\"}], \"scattergl\": [{\"marker\": {\"colorbar\": {\"outlinewidth\": 0, \"ticks\": \"\"}}, \"type\": \"scattergl\"}], \"scattermapbox\": [{\"marker\": {\"colorbar\": {\"outlinewidth\": 0, \"ticks\": \"\"}}, \"type\": \"scattermapbox\"}], \"scatterpolar\": [{\"marker\": {\"colorbar\": {\"outlinewidth\": 0, \"ticks\": \"\"}}, \"type\": \"scatterpolar\"}], \"scatterpolargl\": [{\"marker\": {\"colorbar\": {\"outlinewidth\": 0, \"ticks\": \"\"}}, \"type\": \"scatterpolargl\"}], \"scatterternary\": [{\"marker\": {\"colorbar\": {\"outlinewidth\": 0, \"ticks\": \"\"}}, \"type\": \"scatterternary\"}], \"surface\": [{\"colorbar\": {\"outlinewidth\": 0, \"ticks\": \"\"}, \"colorscale\": [[0.0, \"#0d0887\"], [0.1111111111111111, \"#46039f\"], [0.2222222222222222, \"#7201a8\"], [0.3333333333333333, \"#9c179e\"], [0.4444444444444444, \"#bd3786\"], [0.5555555555555556, \"#d8576b\"], [0.6666666666666666, \"#ed7953\"], [0.7777777777777778, \"#fb9f3a\"], [0.8888888888888888, \"#fdca26\"], [1.0, \"#f0f921\"]], \"type\": \"surface\"}], \"table\": [{\"cells\": {\"fill\": {\"color\": \"#EBF0F8\"}, \"line\": {\"color\": \"white\"}}, \"header\": {\"fill\": {\"color\": \"#C8D4E3\"}, \"line\": {\"color\": \"white\"}}, \"type\": \"table\"}]}, \"layout\": {\"annotationdefaults\": {\"arrowcolor\": \"#2a3f5f\", \"arrowhead\": 0, \"arrowwidth\": 1}, \"autotypenumbers\": \"strict\", \"coloraxis\": {\"colorbar\": {\"outlinewidth\": 0, \"ticks\": \"\"}}, \"colorscale\": {\"diverging\": [[0, \"#8e0152\"], [0.1, \"#c51b7d\"], [0.2, \"#de77ae\"], [0.3, \"#f1b6da\"], [0.4, \"#fde0ef\"], [0.5, \"#f7f7f7\"], [0.6, \"#e6f5d0\"], [0.7, \"#b8e186\"], [0.8, \"#7fbc41\"], [0.9, \"#4d9221\"], [1, \"#276419\"]], \"sequential\": [[0.0, \"#0d0887\"], [0.1111111111111111, \"#46039f\"], [0.2222222222222222, \"#7201a8\"], [0.3333333333333333, \"#9c179e\"], [0.4444444444444444, \"#bd3786\"], [0.5555555555555556, \"#d8576b\"], [0.6666666666666666, \"#ed7953\"], [0.7777777777777778, \"#fb9f3a\"], [0.8888888888888888, \"#fdca26\"], [1.0, \"#f0f921\"]], \"sequentialminus\": [[0.0, \"#0d0887\"], [0.1111111111111111, \"#46039f\"], [0.2222222222222222, \"#7201a8\"], [0.3333333333333333, \"#9c179e\"], [0.4444444444444444, \"#bd3786\"], [0.5555555555555556, \"#d8576b\"], [0.6666666666666666, \"#ed7953\"], [0.7777777777777778, \"#fb9f3a\"], [0.8888888888888888, \"#fdca26\"], [1.0, \"#f0f921\"]]}, \"colorway\": [\"#636efa\", \"#EF553B\", \"#00cc96\", \"#ab63fa\", \"#FFA15A\", \"#19d3f3\", \"#FF6692\", \"#B6E880\", \"#FF97FF\", \"#FECB52\"], \"font\": {\"color\": \"#2a3f5f\"}, \"geo\": {\"bgcolor\": \"white\", \"lakecolor\": \"white\", \"landcolor\": \"#E5ECF6\", \"showlakes\": true, \"showland\": true, \"subunitcolor\": \"white\"}, \"hoverlabel\": {\"align\": \"left\"}, \"hovermode\": \"closest\", \"mapbox\": {\"style\": \"light\"}, \"paper_bgcolor\": \"white\", \"plot_bgcolor\": \"#E5ECF6\", \"polar\": {\"angularaxis\": {\"gridcolor\": \"white\", \"linecolor\": \"white\", \"ticks\": \"\"}, \"bgcolor\": \"#E5ECF6\", \"radialaxis\": {\"gridcolor\": \"white\", \"linecolor\": \"white\", \"ticks\": \"\"}}, \"scene\": {\"xaxis\": {\"backgroundcolor\": \"#E5ECF6\", \"gridcolor\": \"white\", \"gridwidth\": 2, \"linecolor\": \"white\", \"showbackground\": true, \"ticks\": \"\", \"zerolinecolor\": \"white\"}, \"yaxis\": {\"backgroundcolor\": \"#E5ECF6\", \"gridcolor\": \"white\", \"gridwidth\": 2, \"linecolor\": \"white\", \"showbackground\": true, \"ticks\": \"\", \"zerolinecolor\": \"white\"}, \"zaxis\": {\"backgroundcolor\": \"#E5ECF6\", \"gridcolor\": \"white\", \"gridwidth\": 2, \"linecolor\": \"white\", \"showbackground\": true, \"ticks\": \"\", \"zerolinecolor\": \"white\"}}, \"shapedefaults\": {\"line\": {\"color\": \"#2a3f5f\"}}, \"ternary\": {\"aaxis\": {\"gridcolor\": \"white\", \"linecolor\": \"white\", \"ticks\": \"\"}, \"baxis\": {\"gridcolor\": \"white\", \"linecolor\": \"white\", \"ticks\": \"\"}, \"bgcolor\": \"#E5ECF6\", \"caxis\": {\"gridcolor\": \"white\", \"linecolor\": \"white\", \"ticks\": \"\"}}, \"title\": {\"x\": 0.05}, \"xaxis\": {\"automargin\": true, \"gridcolor\": \"white\", \"linecolor\": \"white\", \"ticks\": \"\", \"title\": {\"standoff\": 15}, \"zerolinecolor\": \"white\", \"zerolinewidth\": 2}, \"yaxis\": {\"automargin\": true, \"gridcolor\": \"white\", \"linecolor\": \"white\", \"ticks\": \"\", \"title\": {\"standoff\": 15}, \"zerolinecolor\": \"white\", \"zerolinewidth\": 2}}}, \"title\": {\"text\": \"Top 100 Spotify Songs 2018\"}},                        {\"responsive\": true}                    ).then(function(){\n",
       "                            \n",
       "var gd = document.getElementById('3ec90f7c-1698-4036-8148-7cb6e4257014');\n",
       "var x = new MutationObserver(function (mutations, observer) {{\n",
       "        var display = window.getComputedStyle(gd).display;\n",
       "        if (!display || display === 'none') {{\n",
       "            console.log([gd, 'removed!']);\n",
       "            Plotly.purge(gd);\n",
       "            observer.disconnect();\n",
       "        }}\n",
       "}});\n",
       "\n",
       "// Listen for the removal of the full notebook cells\n",
       "var notebookContainer = gd.closest('#notebook-container');\n",
       "if (notebookContainer) {{\n",
       "    x.observe(notebookContainer, {childList: true});\n",
       "}}\n",
       "\n",
       "// Listen for the clearing of the current output cell\n",
       "var outputEl = gd.closest('.output');\n",
       "if (outputEl) {{\n",
       "    x.observe(outputEl, {childList: true});\n",
       "}}\n",
       "\n",
       "                        })                };                });            </script>        </div>"
      ]
     },
     "metadata": {},
     "output_type": "display_data"
    }
   ],
   "source": [
    "i = df.index\n",
    "\n",
    "fig1 = go.Figure(data=go.Scatter(x=df['label'],\n",
    "                                y=df['danceability'],\n",
    "                                mode='markers',\n",
    "                                marker_color=df['label'],\n",
    "                                text=df['name'])) # hover text goes here\n",
    "\n",
    "fig1.update_layout(title='Top 100 Spotify Songs 2018')\n",
    "fig1.show()"
   ]
  },
  {
   "cell_type": "code",
   "execution_count": null,
   "metadata": {},
   "outputs": [],
   "source": [
    "# This data is quite flawed \n",
    "# the mode (major or minor key) column is wildly inaccurate, had to remove from cluster fitting\n",
    "# ratings for certain songs just don't make sense.\n",
    "# heartwrenching emo rap songs like Moonlight and Jocelyn Flores are rated more danceable than Drake's Nice For What\n",
    "# (in my opinion, one of the most danceable songs to come out in 2018!)"
   ]
  }
 ],
 "metadata": {
  "kernelspec": {
   "display_name": "Python 3",
   "language": "python",
   "name": "python3"
  },
  "language_info": {
   "codemirror_mode": {
    "name": "ipython",
    "version": 3
   },
   "file_extension": ".py",
   "mimetype": "text/x-python",
   "name": "python",
   "nbconvert_exporter": "python",
   "pygments_lexer": "ipython3",
   "version": "3.8.5"
  }
 },
 "nbformat": 4,
 "nbformat_minor": 4
}
