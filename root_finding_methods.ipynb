{
  "nbformat": 4,
  "nbformat_minor": 0,
  "metadata": {
    "colab": {
      "name": "root-finding-methods.ipynb",
      "provenance": [],
      "collapsed_sections": []
    },
    "kernelspec": {
      "name": "python3",
      "display_name": "Python 3"
    }
  },
  "cells": [
    {
      "cell_type": "markdown",
      "metadata": {
        "id": "JXR90vTKOe5A"
      },
      "source": [
        "1. Newton's Method"
      ]
    },
    {
      "cell_type": "code",
      "metadata": {
        "colab": {
          "base_uri": "https://localhost:8080/",
          "height": 132
        },
        "id": "t-DwW8sWOT0a",
        "outputId": "717fa232-65af-4a92-e357-91cc1e0baed1"
      },
      "source": [
        "def MySqrt_Newton(a):\r\n",
        "  \t\tx0 = a/2 \r\n",
        "  \t\te = 0.01 # minimum acceptable error\r\n",
        "  \t\tN = 100 # max number of iterations\r\n",
        "  \t\tdef fx(x):\r\n",
        "    \t\t\treturn x**2 – a \r\n",
        "\r\n",
        "  \t\tdef gx(x):\r\n",
        "    \t\t\treturn 2*x # derivative of fx\r\n",
        "\r\n",
        "  \t\t# initialize values\r\n",
        "\t\tx1 = x0\r\n",
        "  \t\titer = 0\r\n",
        "\r\n",
        "  \t\twhile abs(fx(x1)) > e:\r\n",
        "    \t\t\tif gx(x0) == 0:\r\n",
        "      \t\t\tprint(\"Math error\")\r\n",
        "      \t\t\tbreak\r\n",
        "  \r\n",
        "    \t\t\tx1 = x0 - fx(x0)/gx(x0)\r\n",
        "    \t\t\tx0 = x1\r\n",
        "\r\n",
        "    \t\t\titer += 1\r\n",
        "\r\n",
        "    \t\t\tif iter > N:\r\n",
        "      \t\t\tprint(\"Not convergent\")\r\n",
        "      \t\t\tbreak\r\n",
        "\r\n",
        "  \t\tprint(\"Square root:  \",x1)\r\n",
        " \t\tprint(\"# Iterations:  \",iter)\r\n",
        "  \t\treturn\r\n"
      ],
      "execution_count": 1,
      "outputs": [
        {
          "output_type": "error",
          "ename": "SyntaxError",
          "evalue": "ignored",
          "traceback": [
            "\u001b[0;36m  File \u001b[0;32m\"<ipython-input-1-8eb104003f57>\"\u001b[0;36m, line \u001b[0;32m6\u001b[0m\n\u001b[0;31m    return x**2 – a\u001b[0m\n\u001b[0m                ^\u001b[0m\n\u001b[0;31mSyntaxError\u001b[0m\u001b[0;31m:\u001b[0m invalid character in identifier\n"
          ]
        }
      ]
    },
    {
      "cell_type": "code",
      "metadata": {
        "id": "0OdJgpkrObGq"
      },
      "source": [
        "MySqrt_Newton(1000)"
      ],
      "execution_count": null,
      "outputs": []
    },
    {
      "cell_type": "markdown",
      "metadata": {
        "id": "HwtsuOwtOca-"
      },
      "source": [
        "2. Bisection Method"
      ]
    },
    {
      "cell_type": "code",
      "metadata": {
        "id": "sq7Tm2gWOh89"
      },
      "source": [
        "def MySqrt_bisect(a):\r\n",
        "  \t\te = 0.01 # min. error margin (b – a)\r\n",
        "  \t\tdef fx(x):\r\n",
        "    \t\t\treturn x**2 - a\r\n",
        "\t\t# initialize values\r\n",
        "  \t\ta0 = 0\r\n",
        "  \t\tb0 = a\r\n",
        "  \t\titer = 0\r\n",
        "\r\n",
        "  \t\twhile (b0 - a0) > e:\r\n",
        "    \t\t\tm0 = (a0 + b0)/2\r\n",
        "    \t\t\tif fx(a0)*fx(m0) < 0:\r\n",
        "      \t\t\ta0,b0 = a0,m0\r\n",
        "    \t\t\telif fx(b0)*fx(m0) < 0:\r\n",
        "      \t\t\ta0,b0 = m0,b0\r\n",
        "    \t\t\titer += 1\r\n",
        "\r\n",
        "  \t\tmn = (a0 + b0)/2\r\n",
        "\r\n",
        "  \t\tprint(\"Square root:  \",mn)\r\n",
        "  \t\tprint(\"# Iterations:  \",iter)\r\n",
        "  \t\treturn \r\n"
      ],
      "execution_count": null,
      "outputs": []
    },
    {
      "cell_type": "code",
      "metadata": {
        "id": "OqrHDMsBOh0U"
      },
      "source": [
        "MySqrt_bisect(1000)"
      ],
      "execution_count": null,
      "outputs": []
    },
    {
      "cell_type": "markdown",
      "metadata": {
        "id": "96TxGitsOl_D"
      },
      "source": [
        "3. Root-finding Function (similar to uniroot in R)"
      ]
    },
    {
      "cell_type": "code",
      "metadata": {
        "id": "uQBh4zXeOrx2"
      },
      "source": [
        "from scipy.optimize import root_scalar\r\n",
        "\tdef MySqrt_uniroot(a):\r\n",
        "  \t\tdef fx(x): \r\n",
        "    \t\t\treturn x**2 - a\r\n",
        "\t\t\r\n",
        "\t\t# find roots of fx – x0 and x1 are first and second guesses\r\n",
        "  \t\trs = root_scalar(fx,x0=a/2,x1=0)\r\n",
        "\r\n",
        "  \t\tprint(\"Square root:  \",rs.root)\r\n",
        "  \t\tprint(\"# Iterations:  \",rs.iterations)\r\n",
        "  \t\treturn\r\n"
      ],
      "execution_count": null,
      "outputs": []
    },
    {
      "cell_type": "code",
      "metadata": {
        "id": "VWJ0IFmJOtct"
      },
      "source": [
        "MySqrt_uniroot(1000)"
      ],
      "execution_count": null,
      "outputs": []
    }
  ]
}