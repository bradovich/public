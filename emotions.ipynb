{
 "cells": [
  {
   "cell_type": "markdown",
   "metadata": {},
   "source": [
    "# TensorFlow - NLP Emotion Analysis of Reddit Comments"
   ]
  },
  {
   "cell_type": "code",
   "execution_count": 1,
   "metadata": {},
   "outputs": [],
   "source": [
    "import tensorflow as tf\n",
    "from tensorflow import keras\n",
    "from tensorflow.keras import layers\n",
    "from tensorflow.keras import losses\n",
    "from tensorflow.keras.layers.experimental import preprocessing\n",
    "from tensorflow.keras.layers.experimental.preprocessing import TextVectorization\n",
    "\n",
    "import tensorflow_datasets as tfds\n",
    "import tensorflow_text as tf_text\n",
    "\n",
    "from sklearn.model_selection import train_test_split"
   ]
  },
  {
   "cell_type": "code",
   "execution_count": 2,
   "metadata": {},
   "outputs": [],
   "source": [
    "import numpy as np\n",
    "import pandas as pd\n",
    "import matplotlib.pyplot as plt"
   ]
  },
  {
   "cell_type": "code",
   "execution_count": 3,
   "metadata": {},
   "outputs": [],
   "source": [
    "# load train and test datasets\n",
    "train_data, test_data = tfds.load(name=\"goemotions\", split=[\"train\", \"test\"], \n",
    "                                  batch_size=-1)\n",
    "tr = tfds.as_numpy(train_data)\n",
    "ts = tfds.as_numpy(test_data)"
   ]
  },
  {
   "cell_type": "code",
   "execution_count": 4,
   "metadata": {},
   "outputs": [],
   "source": [
    "k = list(tr.keys())"
   ]
  },
  {
   "cell_type": "code",
   "execution_count": 5,
   "metadata": {
    "scrolled": false
   },
   "outputs": [
    {
     "data": {
      "text/plain": [
       "{'admiration': array([False,  True, False, ..., False, False, False]),\n",
       " 'amusement': array([False, False, False, ..., False, False, False]),\n",
       " 'anger': array([False, False, False, ..., False, False, False]),\n",
       " 'annoyance': array([False, False, False, ..., False, False, False]),\n",
       " 'approval': array([False, False, False, ..., False, False, False]),\n",
       " 'caring': array([False, False, False, ..., False, False, False]),\n",
       " 'comment_text': array([b\"It's just wholesome content, from questionable sources\",\n",
       "        b'This is actually awesome.',\n",
       "        b\"People really spend more than $10 in an app game? I mean an actual video game I can understand but that's just...sad\",\n",
       "        ..., b'Ugh yes that makes sense. Thanks for the response.',\n",
       "        b\"I hope so and I think they have the ability to, but I just have a bad feeling that they won't.\",\n",
       "        b'He\\xe2\\x80\\x99s fine for a 3rd string.'], dtype=object),\n",
       " 'confusion': array([False, False,  True, ..., False, False, False]),\n",
       " 'curiosity': array([False, False, False, ..., False, False, False]),\n",
       " 'desire': array([False, False, False, ..., False, False, False]),\n",
       " 'disappointment': array([False, False, False, ..., False, False, False]),\n",
       " 'disapproval': array([False, False, False, ..., False, False, False]),\n",
       " 'disgust': array([False, False, False, ..., False, False, False]),\n",
       " 'embarrassment': array([False, False, False, ..., False, False, False]),\n",
       " 'excitement': array([False, False, False, ..., False, False, False]),\n",
       " 'fear': array([False, False, False, ..., False, False, False]),\n",
       " 'gratitude': array([False, False, False, ...,  True, False, False]),\n",
       " 'grief': array([False, False, False, ..., False, False, False]),\n",
       " 'joy': array([False, False, False, ..., False, False, False]),\n",
       " 'love': array([False, False, False, ..., False, False, False]),\n",
       " 'nervousness': array([False, False, False, ..., False, False, False]),\n",
       " 'neutral': array([ True, False, False, ..., False, False,  True]),\n",
       " 'optimism': array([False, False, False, ..., False,  True, False]),\n",
       " 'pride': array([False, False, False, ..., False, False, False]),\n",
       " 'realization': array([False, False, False, ..., False, False, False]),\n",
       " 'relief': array([False, False, False, ..., False, False, False]),\n",
       " 'remorse': array([False, False, False, ..., False, False, False]),\n",
       " 'sadness': array([False, False,  True, ..., False, False, False]),\n",
       " 'surprise': array([False, False, False, ..., False, False, False])}"
      ]
     },
     "execution_count": 5,
     "metadata": {},
     "output_type": "execute_result"
    }
   ],
   "source": [
    "tr"
   ]
  },
  {
   "cell_type": "code",
   "execution_count": 6,
   "metadata": {},
   "outputs": [],
   "source": [
    "k.remove('comment_text')"
   ]
  },
  {
   "cell_type": "code",
   "execution_count": 7,
   "metadata": {},
   "outputs": [],
   "source": [
    "n = len(k)\n",
    "m = len(tr['comment_text'])\n",
    "x = len(ts['comment_text'])"
   ]
  },
  {
   "cell_type": "code",
   "execution_count": 8,
   "metadata": {},
   "outputs": [],
   "source": [
    "emotion_dict = {}"
   ]
  },
  {
   "cell_type": "code",
   "execution_count": 9,
   "metadata": {},
   "outputs": [],
   "source": [
    "for i in range(n):\n",
    "    emotion_dict[k[i]] = i"
   ]
  },
  {
   "cell_type": "code",
   "execution_count": 10,
   "metadata": {},
   "outputs": [
    {
     "data": {
      "text/plain": [
       "{'admiration': 0,\n",
       " 'amusement': 1,\n",
       " 'anger': 2,\n",
       " 'annoyance': 3,\n",
       " 'approval': 4,\n",
       " 'caring': 5,\n",
       " 'confusion': 6,\n",
       " 'curiosity': 7,\n",
       " 'desire': 8,\n",
       " 'disappointment': 9,\n",
       " 'disapproval': 10,\n",
       " 'disgust': 11,\n",
       " 'embarrassment': 12,\n",
       " 'excitement': 13,\n",
       " 'fear': 14,\n",
       " 'gratitude': 15,\n",
       " 'grief': 16,\n",
       " 'joy': 17,\n",
       " 'love': 18,\n",
       " 'nervousness': 19,\n",
       " 'neutral': 20,\n",
       " 'optimism': 21,\n",
       " 'pride': 22,\n",
       " 'realization': 23,\n",
       " 'relief': 24,\n",
       " 'remorse': 25,\n",
       " 'sadness': 26,\n",
       " 'surprise': 27}"
      ]
     },
     "execution_count": 10,
     "metadata": {},
     "output_type": "execute_result"
    }
   ],
   "source": [
    "emotion_dict"
   ]
  },
  {
   "cell_type": "code",
   "execution_count": 11,
   "metadata": {},
   "outputs": [],
   "source": [
    "train_data = tr\n",
    "test_data = ts"
   ]
  },
  {
   "cell_type": "code",
   "execution_count": 12,
   "metadata": {},
   "outputs": [
    {
     "data": {
      "text/plain": [
       "array([b\"It's just wholesome content, from questionable sources\",\n",
       "       b'This is actually awesome.',\n",
       "       b\"People really spend more than $10 in an app game? I mean an actual video game I can understand but that's just...sad\",\n",
       "       b'I grew up on the other side of Ama but live in Tulia now. I will have some El Burrito for you',\n",
       "       b'What the problem? I mean, steak? Good. Doughnuts? Good!! I don\\xe2\\x80\\x99t see an issue. '],\n",
       "      dtype=object)"
      ]
     },
     "execution_count": 12,
     "metadata": {},
     "output_type": "execute_result"
    }
   ],
   "source": [
    "train_data['comment_text'][:5]"
   ]
  },
  {
   "cell_type": "code",
   "execution_count": 13,
   "metadata": {},
   "outputs": [],
   "source": [
    "train_data['label'] = np.zeros(shape=(1, m), dtype=int)\n",
    "test_data['label'] = np.zeros(shape=(1, x), dtype=int)"
   ]
  },
  {
   "cell_type": "code",
   "execution_count": 14,
   "metadata": {},
   "outputs": [],
   "source": [
    "train_data['label'] = train_data['label'][0]\n",
    "test_data['label'] = test_data['label'][0]"
   ]
  },
  {
   "cell_type": "code",
   "execution_count": 15,
   "metadata": {},
   "outputs": [],
   "source": [
    "# convert from array of true/false to labels from emotion_dict\n",
    "z = 0\n",
    "y = 0\n",
    "for i in range(m):\n",
    "    for j in k:\n",
    "        if train_data[j][i] == True:\n",
    "            z = int(emotion_dict[j])\n",
    "    train_data['label'][i] = z\n",
    "    \n",
    "for i in range(x):\n",
    "    for j in k:\n",
    "        if test_data[j][i] == True:\n",
    "            y = int(emotion_dict[j])\n",
    "    test_data['label'][i] = y"
   ]
  },
  {
   "cell_type": "code",
   "execution_count": 16,
   "metadata": {},
   "outputs": [],
   "source": [
    "train_data = pd.DataFrame({'comment_text':train_data['comment_text'], 'label':train_data['label']})\n",
    "test_data = pd.DataFrame({'comment_text':test_data['comment_text'], 'label':test_data['label']})"
   ]
  },
  {
   "cell_type": "code",
   "execution_count": 17,
   "metadata": {},
   "outputs": [
    {
     "name": "stdout",
     "output_type": "stream",
     "text": [
      "Comment: b\"It's just wholesome content, from questionable sources\"\n"
     ]
    }
   ],
   "source": [
    "print(\"Comment:\",train_data['comment_text'][0])"
   ]
  },
  {
   "cell_type": "code",
   "execution_count": 18,
   "metadata": {},
   "outputs": [
    {
     "name": "stderr",
     "output_type": "stream",
     "text": [
      "<ipython-input-18-ec86e3790db2>:4: SettingWithCopyWarning: \n",
      "A value is trying to be set on a copy of a slice from a DataFrame\n",
      "\n",
      "See the caveats in the documentation: https://pandas.pydata.org/pandas-docs/stable/user_guide/indexing.html#returning-a-view-versus-a-copy\n",
      "  train_data['comment_text'][i] = s\n",
      "<ipython-input-18-ec86e3790db2>:9: SettingWithCopyWarning: \n",
      "A value is trying to be set on a copy of a slice from a DataFrame\n",
      "\n",
      "See the caveats in the documentation: https://pandas.pydata.org/pandas-docs/stable/user_guide/indexing.html#returning-a-view-versus-a-copy\n",
      "  test_data['comment_text'][j] = s2\n"
     ]
    }
   ],
   "source": [
    "# decode comments\n",
    "for i in range(m):\n",
    "    s = str(train_data['comment_text'][i], 'UTF-8')\n",
    "    train_data['comment_text'][i] = s\n",
    "\n",
    "m2 = len(test_data)\n",
    "for j in range(m2):\n",
    "    s2 = str(test_data['comment_text'][j], 'UTF-8')\n",
    "    test_data['comment_text'][j] = s2"
   ]
  },
  {
   "cell_type": "code",
   "execution_count": 19,
   "metadata": {},
   "outputs": [
    {
     "data": {
      "text/plain": [
       "array([\"It's just wholesome content, from questionable sources\",\n",
       "       'This is actually awesome.',\n",
       "       \"People really spend more than $10 in an app game? I mean an actual video game I can understand but that's just...sad\",\n",
       "       ..., 'Ugh yes that makes sense. Thanks for the response.',\n",
       "       \"I hope so and I think they have the ability to, but I just have a bad feeling that they won't.\",\n",
       "       'He’s fine for a 3rd string.'], dtype=object)"
      ]
     },
     "execution_count": 19,
     "metadata": {},
     "output_type": "execute_result"
    }
   ],
   "source": [
    "np.array(train_data['comment_text'])"
   ]
  },
  {
   "cell_type": "code",
   "execution_count": 20,
   "metadata": {},
   "outputs": [],
   "source": [
    "VOCAB_SIZE = 15000\n",
    "MAX_SEQUENCE_LENGTH = 50\n",
    "\n",
    "vectorize_layer = TextVectorization(\n",
    "    max_tokens=VOCAB_SIZE,\n",
    "    output_mode='int',\n",
    "    output_sequence_length=MAX_SEQUENCE_LENGTH,\n",
    "    standardize='lower_and_strip_punctuation',\n",
    "    split='whitespace')"
   ]
  },
  {
   "cell_type": "code",
   "execution_count": 21,
   "metadata": {},
   "outputs": [],
   "source": [
    "def df_to_dataset(dataframe, shuffle=True, batch_size=32):\n",
    "  dataframe = dataframe.copy()\n",
    "  labels = dataframe.pop('label')\n",
    "  ds = tf.data.Dataset.from_tensor_slices((dataframe, labels))\n",
    "  if shuffle:\n",
    "    ds = ds.shuffle(buffer_size=len(dataframe))\n",
    "  ds = ds.batch(batch_size)\n",
    "  ds = ds.prefetch(batch_size)\n",
    "  return ds"
   ]
  },
  {
   "cell_type": "code",
   "execution_count": 22,
   "metadata": {},
   "outputs": [],
   "source": [
    "batch_size = 32\n",
    "raw_text_ds = df_to_dataset(train_data, shuffle=False, batch_size=batch_size)\n",
    "raw_test_ds = df_to_dataset(test_data, shuffle=False, batch_size=batch_size)"
   ]
  },
  {
   "cell_type": "code",
   "execution_count": 23,
   "metadata": {},
   "outputs": [],
   "source": [
    "# Make a text-only dataset (without labels), then call adapt\n",
    "train_text = raw_text_ds.map(lambda x, y: x)\n",
    "vectorize_layer.adapt(train_text)"
   ]
  },
  {
   "cell_type": "code",
   "execution_count": 24,
   "metadata": {},
   "outputs": [],
   "source": [
    "train, val = train_test_split(train_data, test_size=0.3)"
   ]
  },
  {
   "cell_type": "code",
   "execution_count": 25,
   "metadata": {},
   "outputs": [],
   "source": [
    "raw_train_ds = df_to_dataset(train, batch_size=batch_size)\n",
    "raw_val_ds = df_to_dataset(val, batch_size=batch_size)"
   ]
  },
  {
   "cell_type": "code",
   "execution_count": 26,
   "metadata": {
    "scrolled": true
   },
   "outputs": [
    {
     "name": "stdout",
     "output_type": "stream",
     "text": [
      "Comment: [b'I wanna give [NAME] a mosquito bite']\n",
      "Label: 8\n",
      "Comment: [b\"I've debated shaving my head just to avoid this. My haircuts often get stretched several extra weeks because i'm dreading it.\"]\n",
      "Label: 20\n",
      "Comment: [b'Ah ok. Thank you!']\n",
      "Label: 15\n",
      "Comment: [b'I feel left out... I never get invited to our new world order meetings with our elders of zion']\n",
      "Label: 26\n",
      "Comment: [b'But still, crying \"castrate all pedophiles\" because they could be potential rapists is like crying \"kill all men, they are all potential rapists.\" ']\n",
      "Label: 26\n"
     ]
    }
   ],
   "source": [
    "for text_batch, label_batch in raw_train_ds.take(1):\n",
    "  for i in range(5):\n",
    "    print(\"Comment:\", text_batch.numpy()[i])\n",
    "    print(\"Label:\", label_batch.numpy()[i])"
   ]
  },
  {
   "cell_type": "code",
   "execution_count": 27,
   "metadata": {},
   "outputs": [],
   "source": [
    "def vectorize_text(text, label):\n",
    "  return vectorize_layer(text), label"
   ]
  },
  {
   "cell_type": "code",
   "execution_count": 28,
   "metadata": {},
   "outputs": [
    {
     "name": "stdout",
     "output_type": "stream",
     "text": [
      "Comment: tf.Tensor([b'That\\xe2\\x80\\x99s like forcing skins back in the days of MOHAA everyone is fluoro Orange! That\\xe2\\x80\\x99s what they want!'], shape=(1,), dtype=string)\n",
      "Label: 20\n",
      "Emotion: ['neutral']\n",
      "Vectorized comment: (<tf.Tensor: shape=(1, 50), dtype=int64, numpy=\n",
      "array([[ 141,   26, 2563, 2922,  118,   14,    2,  379,   12,    1,  196,\n",
      "           8,    1, 1709,  141,   32,   29,  108,    0,    0,    0,    0,\n",
      "           0,    0,    0,    0,    0,    0,    0,    0,    0,    0,    0,\n",
      "           0,    0,    0,    0,    0,    0,    0,    0,    0,    0,    0,\n",
      "           0,    0,    0,    0,    0,    0]], dtype=int64)>, <tf.Tensor: shape=(), dtype=int32, numpy=20>)\n"
     ]
    }
   ],
   "source": [
    "text_batch, label_batch = next(iter(raw_train_ds))\n",
    "first_comment, first_label = text_batch[0], label_batch[0]\n",
    "print(\"Comment:\", first_comment)\n",
    "print(\"Label:\", int(first_label))\n",
    "print(\"Emotion:\", [k for k,v in emotion_dict.items() if v == int(first_label)])\n",
    "print(\"Vectorized comment:\", vectorize_text(first_comment, first_label))"
   ]
  },
  {
   "cell_type": "code",
   "execution_count": 29,
   "metadata": {},
   "outputs": [],
   "source": [
    "AUTOTUNE = tf.data.AUTOTUNE\n",
    "\n",
    "train_ds = raw_train_ds.cache().prefetch(buffer_size=AUTOTUNE)\n",
    "val_ds = raw_val_ds.cache().prefetch(buffer_size=AUTOTUNE)\n",
    "test_ds = raw_val_ds.cache().prefetch(buffer_size=AUTOTUNE)"
   ]
  },
  {
   "cell_type": "code",
   "execution_count": 30,
   "metadata": {},
   "outputs": [],
   "source": [
    "embedding_dim = 140\n",
    "# Embed a 15,000 word vocabulary into 140 dimensions.\n",
    "embedding_layer = tf.keras.layers.Embedding(VOCAB_SIZE, embedding_dim)"
   ]
  },
  {
   "cell_type": "code",
   "execution_count": 31,
   "metadata": {},
   "outputs": [],
   "source": [
    "model = keras.models.Sequential([\n",
    "    vectorize_layer,\n",
    "    embedding_layer,\n",
    "    layers.GlobalAveragePooling1D(),\n",
    "    layers.Dropout(0.4),\n",
    "    layers.Dense(28, activation='relu'),\n",
    "    layers.Dense(28, activation='tanh'),\n",
    "    layers.Dense(28, activation='relu')\n",
    "])"
   ]
  },
  {
   "cell_type": "code",
   "execution_count": 32,
   "metadata": {},
   "outputs": [],
   "source": [
    "model.compile(optimizer='adam',\n",
    "              loss=losses.SparseCategoricalCrossentropy(from_logits=True),\n",
    "              metrics=['accuracy'])"
   ]
  },
  {
   "cell_type": "code",
   "execution_count": 33,
   "metadata": {
    "scrolled": false
   },
   "outputs": [
    {
     "name": "stdout",
     "output_type": "stream",
     "text": [
      "Epoch 1/15\n",
      "950/950 [==============================] - 19s 20ms/step - loss: 2.8637 - accuracy: 0.3129 - val_loss: 2.5172 - val_accuracy: 0.3685\n",
      "Epoch 2/15\n",
      "950/950 [==============================] - 17s 18ms/step - loss: 2.4032 - accuracy: 0.4006 - val_loss: 2.2526 - val_accuracy: 0.4566\n",
      "Epoch 3/15\n",
      "950/950 [==============================] - 17s 18ms/step - loss: 2.1184 - accuracy: 0.4774 - val_loss: 2.1862 - val_accuracy: 0.4696\n",
      "Epoch 4/15\n",
      "950/950 [==============================] - 17s 18ms/step - loss: 1.9540 - accuracy: 0.5072 - val_loss: 2.1552 - val_accuracy: 0.4822\n",
      "Epoch 5/15\n",
      "950/950 [==============================] - 18s 18ms/step - loss: 1.8205 - accuracy: 0.5358 - val_loss: 2.1696 - val_accuracy: 0.4784\n",
      "Epoch 6/15\n",
      "950/950 [==============================] - 17s 18ms/step - loss: 1.7062 - accuracy: 0.5665 - val_loss: 2.1895 - val_accuracy: 0.4795\n",
      "Epoch 7/15\n",
      "950/950 [==============================] - 17s 18ms/step - loss: 1.6129 - accuracy: 0.5898 - val_loss: 2.2183 - val_accuracy: 0.4720\n",
      "Epoch 8/15\n",
      "950/950 [==============================] - 17s 18ms/step - loss: 1.5287 - accuracy: 0.6130 - val_loss: 2.2591 - val_accuracy: 0.4712\n",
      "Epoch 9/15\n",
      "950/950 [==============================] - 17s 18ms/step - loss: 1.4609 - accuracy: 0.6305 - val_loss: 2.2906 - val_accuracy: 0.4637\n",
      "Epoch 10/15\n",
      "950/950 [==============================] - 17s 18ms/step - loss: 1.4004 - accuracy: 0.6451 - val_loss: 2.3372 - val_accuracy: 0.4624\n",
      "Epoch 11/15\n",
      "950/950 [==============================] - 17s 18ms/step - loss: 1.3462 - accuracy: 0.6640 - val_loss: 2.3780 - val_accuracy: 0.4509\n",
      "Epoch 12/15\n",
      "950/950 [==============================] - 17s 18ms/step - loss: 1.2945 - accuracy: 0.6755 - val_loss: 2.4320 - val_accuracy: 0.4508\n",
      "Epoch 13/15\n",
      "950/950 [==============================] - 17s 18ms/step - loss: 1.2624 - accuracy: 0.6818 - val_loss: 2.4778 - val_accuracy: 0.4444\n",
      "Epoch 14/15\n",
      "950/950 [==============================] - 18s 19ms/step - loss: 1.2204 - accuracy: 0.6953 - val_loss: 2.5178 - val_accuracy: 0.4432\n",
      "Epoch 15/15\n",
      "950/950 [==============================] - 17s 18ms/step - loss: 1.1932 - accuracy: 0.7013 - val_loss: 2.5880 - val_accuracy: 0.4395\n"
     ]
    }
   ],
   "source": [
    "epochs = 15\n",
    "history = model.fit(train_ds,\n",
    "                    validation_data=val_ds,\n",
    "                    epochs=epochs,\n",
    "                    verbose=1)"
   ]
  },
  {
   "cell_type": "code",
   "execution_count": 34,
   "metadata": {},
   "outputs": [
    {
     "name": "stdout",
     "output_type": "stream",
     "text": [
      "Model: \"sequential\"\n",
      "_________________________________________________________________\n",
      "Layer (type)                 Output Shape              Param #   \n",
      "=================================================================\n",
      "text_vectorization (TextVect (None, 50)                0         \n",
      "_________________________________________________________________\n",
      "embedding (Embedding)        (None, 50, 140)           2100000   \n",
      "_________________________________________________________________\n",
      "global_average_pooling1d (Gl (None, 140)               0         \n",
      "_________________________________________________________________\n",
      "dropout (Dropout)            (None, 140)               0         \n",
      "_________________________________________________________________\n",
      "dense (Dense)                (None, 28)                3948      \n",
      "_________________________________________________________________\n",
      "dense_1 (Dense)              (None, 28)                812       \n",
      "_________________________________________________________________\n",
      "dense_2 (Dense)              (None, 28)                812       \n",
      "=================================================================\n",
      "Total params: 2,105,572\n",
      "Trainable params: 2,105,572\n",
      "Non-trainable params: 0\n",
      "_________________________________________________________________\n"
     ]
    }
   ],
   "source": [
    "model.summary()"
   ]
  },
  {
   "cell_type": "code",
   "execution_count": 35,
   "metadata": {},
   "outputs": [
    {
     "name": "stdout",
     "output_type": "stream",
     "text": [
      "Model prediction for label:  20\n",
      "Predicted emotion:  ['neutral']\n"
     ]
    }
   ],
   "source": [
    "model_pred1 = model.predict([\"This is about as *middle* a statement as you can get. We're looking for label '20'.\"])\n",
    "pred_label1 = np.argmax(model_pred1)\n",
    "print(\"Model prediction for label: \", pred_label1)\n",
    "print(\"Predicted emotion: \", [k for k,v in emotion_dict.items() if v == pred_label1])"
   ]
  },
  {
   "cell_type": "code",
   "execution_count": 36,
   "metadata": {},
   "outputs": [
    {
     "name": "stdout",
     "output_type": "stream",
     "text": [
      "Model prediction for label:  1\n",
      "Predicted emotion:  ['amusement']\n"
     ]
    }
   ],
   "source": [
    "model_pred2 = model.predict([\"i'm laughing out loud\"])\n",
    "pred_label2 = np.argmax(model_pred2)\n",
    "print(\"Model prediction for label: \", pred_label2)\n",
    "print(\"Predicted emotion: \", [k for k,v in emotion_dict.items() if v == pred_label2])"
   ]
  },
  {
   "cell_type": "code",
   "execution_count": 37,
   "metadata": {},
   "outputs": [
    {
     "name": "stdout",
     "output_type": "stream",
     "text": [
      "407/407 [==============================] - 0s 1ms/step - loss: 2.5880 - accuracy: 0.4395\n",
      "Loss:  2.5880320072174072\n",
      "Accuracy:  0.43953007459640503\n"
     ]
    }
   ],
   "source": [
    "loss, accuracy = model.evaluate(test_ds)\n",
    "\n",
    "print(\"Loss: \", loss)\n",
    "print(\"Accuracy: \", accuracy)"
   ]
  },
  {
   "cell_type": "code",
   "execution_count": 38,
   "metadata": {},
   "outputs": [
    {
     "data": {
      "text/plain": [
       "dict_keys(['loss', 'accuracy', 'val_loss', 'val_accuracy'])"
      ]
     },
     "execution_count": 38,
     "metadata": {},
     "output_type": "execute_result"
    }
   ],
   "source": [
    "history_dict = history.history\n",
    "history_dict.keys()"
   ]
  },
  {
   "cell_type": "code",
   "execution_count": 39,
   "metadata": {},
   "outputs": [],
   "source": [
    "acc = history_dict['accuracy']\n",
    "val_acc = history_dict['val_accuracy']\n",
    "loss = history_dict['loss']\n",
    "val_loss = history_dict['val_loss']\n",
    "\n",
    "epochs = range(1, len(acc) + 1)"
   ]
  },
  {
   "cell_type": "code",
   "execution_count": 40,
   "metadata": {
    "scrolled": true
   },
   "outputs": [
    {
     "data": {
      "image/png": "[encoded data removed]",
      "text/plain": [
       "<Figure size 432x288 with 1 Axes>"
      ]
     },
     "metadata": {
      "needs_background": "light"
     },
     "output_type": "display_data"
    }
   ],
   "source": [
    "plt.plot(epochs, acc, 'bo', label='Training acc')\n",
    "plt.plot(epochs, val_acc, 'b', label='Validation acc')\n",
    "plt.title('Training and validation accuracy')\n",
    "plt.xlabel('Epochs')\n",
    "plt.ylabel('Accuracy')\n",
    "plt.ylim(0, 1)\n",
    "plt.legend(loc='lower right')\n",
    "\n",
    "plt.show()"
   ]
  },
  {
   "cell_type": "markdown",
   "metadata": {},
   "source": [
    "Next steps:\n",
    "\n",
    "-Improve validation accuracy\n",
    "\n",
    "-Fine-tune hyperparameters\n",
    "\n",
    "-Experiment with layers, nodes\n",
    "\n",
    "-Experiment with activation, optimization, loss functions\n",
    "\n",
    "-Incorporate LSTM to account for sentence structure"
   ]
  }
 ],
 "metadata": {
  "kernelspec": {
   "display_name": "Python [conda env:datasci] *",
   "language": "python",
   "name": "conda-env-datasci-py"
  },
  "language_info": {
   "codemirror_mode": {
    "name": "ipython",
    "version": 3
   },
   "file_extension": ".py",
   "mimetype": "text/x-python",
   "name": "python",
   "nbconvert_exporter": "python",
   "pygments_lexer": "ipython3",
   "version": "3.8.5"
  }
 },
 "nbformat": 4,
 "nbformat_minor": 4
}
