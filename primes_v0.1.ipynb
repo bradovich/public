{
  "nbformat": 4,
  "nbformat_minor": 0,
  "metadata": {
    "colab": {
      "name": "primes.ipynb",
      "provenance": [],
      "collapsed_sections": [],
      "toc_visible": true
    },
    "kernelspec": {
      "name": "python3",
      "display_name": "Python 3"
    }
  },
  "cells": [
    {
      "cell_type": "markdown",
      "metadata": {
        "id": "BPsaQveDuHbU"
      },
      "source": [
        "# 1.0 Prime Number Computation - Brute Force"
      ]
    },
    {
      "cell_type": "code",
      "metadata": {
        "id": "YADxQnG0jEDD"
      },
      "source": [
        "def pn(maxnum):\r\n",
        "  primelist = [2]\r\n",
        "  ct = 0\r\n",
        "  for n in range(2,maxnum):\r\n",
        "    p = 1\r\n",
        "    for prime in primelist:\r\n",
        "      if n % prime == 0:\r\n",
        "        # p = 0 indicates that number is composite\r\n",
        "        p = 0\r\n",
        "        break\r\n",
        "      else:\r\n",
        "        pass\r\n",
        "    if (n not in primelist) & (p == 1):\r\n",
        "      primelist.append(n)\r\n",
        "      ct += 1\r\n",
        "  return primelist"
      ],
      "execution_count": 1,
      "outputs": []
    },
    {
      "cell_type": "code",
      "metadata": {
        "id": "ta_VFmGkkWFJ"
      },
      "source": [
        "primenums = pn(1000000)\r\n",
        "# takes ~11 min to compute list of primes up to 1,000,000"
      ],
      "execution_count": null,
      "outputs": []
    },
    {
      "cell_type": "code",
      "metadata": {
        "id": "Pn-gu6FEoFMe"
      },
      "source": [
        "print(max(primenums))\r\n",
        "len(primenums)"
      ],
      "execution_count": null,
      "outputs": []
    },
    {
      "cell_type": "markdown",
      "metadata": {
        "id": "KkdbJI8YuTFa"
      },
      "source": [
        "\r\n",
        "# 1.1 Making Improvements"
      ]
    },
    {
      "cell_type": "code",
      "metadata": {
        "id": "1ph2KGf9um87"
      },
      "source": [
        "def pn2(maxnum):\r\n",
        "  primelist = [2]\r\n",
        "  ct = 0\r\n",
        "  # only consider odd numbers after 2\r\n",
        "  for n in range(3,maxnum,2):\r\n",
        "    p = 1\r\n",
        "    for prime in primelist:\r\n",
        "      if n % prime == 0:\r\n",
        "        p = 0\r\n",
        "        break\r\n",
        "      elif prime > n/2:\r\n",
        "        # does not compare n to primes greater than half its value\r\n",
        "        break\r\n",
        "      else:\r\n",
        "        pass\r\n",
        "    if (n not in primelist) & (p == 1):\r\n",
        "      primelist.append(n)\r\n",
        "      ct += 1\r\n",
        "  return primelist"
      ],
      "execution_count": null,
      "outputs": []
    },
    {
      "cell_type": "code",
      "metadata": {
        "id": "oBkG1Uzjw95o"
      },
      "source": [
        "primenums2 = pn2(1000000)\r\n",
        "# this should compute the same prime numbers faster (~7 min)"
      ],
      "execution_count": null,
      "outputs": []
    },
    {
      "cell_type": "code",
      "metadata": {
        "id": "egp4ztqgyCJO"
      },
      "source": [
        "print(max(primenums2))\r\n",
        "len(primenums2)"
      ],
      "execution_count": null,
      "outputs": []
    }
  ]
}
