{
  "nbformat": 4,
  "nbformat_minor": 0,
  "metadata": {
    "colab": {
      "name": "primes.ipynb",
      "provenance": [],
      "collapsed_sections": []
    },
    "kernelspec": {
      "name": "python3",
      "display_name": "Python 3"
    }
  },
  "cells": [
    {
      "cell_type": "code",
      "metadata": {
        "id": "YADxQnG0jEDD"
      },
      "source": [
        "def pn(maxnum):\r\n",
        "  primelist = [2]\r\n",
        "  ct = 0\r\n",
        "  for n in range(2,maxnum):\r\n",
        "    p = 1\r\n",
        "    for prime in primelist:\r\n",
        "      if n % prime == 0:\r\n",
        "        # p = 0 indicates that number is composite\r\n",
        "        p = 0\r\n",
        "        break\r\n",
        "      else:\r\n",
        "        pass\r\n",
        "    if (n not in primelist) & (p == 1):\r\n",
        "      primelist.append(n)\r\n",
        "      ct += 1\r\n",
        "  return primelist"
      ],
      "execution_count": 64,
      "outputs": []
    },
    {
      "cell_type": "code",
      "metadata": {
        "id": "ta_VFmGkkWFJ"
      },
      "source": [
        "primenums = pn(1000000)"
      ],
      "execution_count": null,
      "outputs": []
    },
    {
      "cell_type": "code",
      "metadata": {
        "colab": {
          "base_uri": "https://localhost:8080/"
        },
        "id": "Pn-gu6FEoFMe",
        "outputId": "8b237ffb-b410-4121-9c43-9efd3d02cdcb"
      },
      "source": [
        "print(max(primenums))"
      ],
      "execution_count": 63,
      "outputs": [
        {
          "output_type": "stream",
          "text": [
            "9973\n"
          ],
          "name": "stdout"
        }
      ]
    }
  ]
}